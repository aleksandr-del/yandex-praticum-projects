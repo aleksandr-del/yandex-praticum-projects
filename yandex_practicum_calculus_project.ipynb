{
  "cells": [
    {
      "cell_type": "markdown",
      "metadata": {
        "id": "view-in-github",
        "colab_type": "text"
      },
      "source": [
        "<a href=\"https://colab.research.google.com/github/aleksandr-del/yandex-praticum-projects/blob/main/yandex_practicum_calculus_project.ipynb\" target=\"_parent\"><img src=\"https://colab.research.google.com/assets/colab-badge.svg\" alt=\"Open In Colab\"/></a>"
      ]
    },
    {
      "cell_type": "markdown",
      "metadata": {
        "id": "7i3hKJvgqdbn"
      },
      "source": [
        "# Определение стоимости автомобилей"
      ]
    },
    {
      "cell_type": "markdown",
      "metadata": {
        "id": "qXKWKcrarPv4"
      },
      "source": [
        "Сервис по продаже автомобилей с пробегом разрабатывает приложение, чтобы привлечь новых клиентов. В нём можно будет узнать рыночную стоимость своего автомобиля.\n",
        "\n",
        "Цель настоящего проета - модель, которая умеет определять стоимость автомобиля. \n",
        "\n",
        "Заказчику важны качество предсказания, время обучения модели и время предсказания модели.\n",
        "\n",
        "Для оценки качества моделей будем применять метрику RMSE. Заказчика удовлетворит значение метрики RMSE меньше 2500.\n",
        "\n",
        "Нам предоставлены следующие данные об автомобилях:\n",
        "\n",
        "`DateCrawled` — дата скачивания анкеты из базы;\n",
        "\n",
        "`VehicleType` — тип автомобильного кузова;\n",
        "\n",
        "`RegistrationYear` — год регистрации автомобиля;\n",
        "\n",
        "`Gearbox` — тип коробки передач;\n",
        "\n",
        "`Power` — мощность (л. с.);\n",
        "\n",
        "`Model` — модель автомобиля;\n",
        "\n",
        "`Kilometer` — пробег (км);\n",
        "\n",
        "`RegistrationMonth` — месяц регистрации автомобиля;\n",
        "\n",
        "`FuelType` — тип топлива;\n",
        "\n",
        "`Brand` — марка автомобиля;\n",
        "\n",
        "`Repaired` — была машина в ремонте или нет;\n",
        "\n",
        "`DateCreated` — дата создания анкеты;\n",
        "\n",
        "`NumberOfPictures` — количество фотографий автомобиля;\n",
        "\n",
        "`PostalCode` — почтовый индекс владельца анкеты (пользователя);\n",
        "\n",
        "`LastSeen` — дата последней активности пользователя;\n",
        "\n",
        "`Price` — цена (евро)\n",
        "\n",
        "\n",
        "План работы над проектом:\n",
        "\n",
        "1. подготовить и изучить данные;\n",
        "2. обучить разные модели;\n",
        "3. выбрать модель, лучшим образом соответствующую критериям заказчика."
      ]
    },
    {
      "cell_type": "markdown",
      "metadata": {
        "id": "r9Ywm0L-uN3P"
      },
      "source": [
        "## Подготовка и изучение данных"
      ]
    },
    {
      "cell_type": "markdown",
      "metadata": {
        "id": "laFLj5nOuW-9"
      },
      "source": [
        "Импортируем необходимы для работы библиотеки"
      ]
    },
    {
      "cell_type": "code",
      "execution_count": null,
      "metadata": {
        "id": "E3-EQWqrudiG"
      },
      "outputs": [],
      "source": [
        "# Библиотеки Pandas, Numpy, Matplotlib, Seaborn, модули и функции из библиотеки Sci-kit learn\n",
        "import pandas as pd\n",
        "import numpy as np\n",
        "import matplotlib.pyplot as plt\n",
        "import seaborn as sns\n",
        "from sklearn.linear_model import LinearRegression, Ridge\n",
        "from sklearn.model_selection import GridSearchCV, cross_validate, train_test_split\n",
        "from sklearn.metrics import r2_score, mean_squared_error, make_scorer\n",
        "from sklearn.ensemble import RandomForestRegressor"
      ]
    },
    {
      "cell_type": "markdown",
      "metadata": {
        "id": "BfRqC197VW51"
      },
      "source": [
        "Устанавливаем и импортируем LightGBM:"
      ]
    },
    {
      "cell_type": "code",
      "execution_count": null,
      "metadata": {
        "colab": {
          "base_uri": "https://localhost:8080/"
        },
        "id": "kWvdR07SVP4e",
        "outputId": "56498bbc-8c23-47f0-8cd4-0227408d16e6"
      },
      "outputs": [
        {
          "name": "stdout",
          "output_type": "stream",
          "text": [
            "Requirement already satisfied: lightgbm in /opt/conda/lib/python3.9/site-packages (3.3.1)\n",
            "Requirement already satisfied: numpy in /opt/conda/lib/python3.9/site-packages (from lightgbm) (1.21.1)\n",
            "Requirement already satisfied: wheel in /opt/conda/lib/python3.9/site-packages (from lightgbm) (0.36.2)\n",
            "Requirement already satisfied: scikit-learn!=0.22.0 in /opt/conda/lib/python3.9/site-packages (from lightgbm) (0.24.1)\n",
            "Requirement already satisfied: scipy in /opt/conda/lib/python3.9/site-packages (from lightgbm) (1.9.1)\n",
            "Requirement already satisfied: joblib>=0.11 in /opt/conda/lib/python3.9/site-packages (from scikit-learn!=0.22.0->lightgbm) (1.1.0)\n",
            "Requirement already satisfied: threadpoolctl>=2.0.0 in /opt/conda/lib/python3.9/site-packages (from scikit-learn!=0.22.0->lightgbm) (3.1.0)\n"
          ]
        }
      ],
      "source": [
        "!pip install lightgbm"
      ]
    },
    {
      "cell_type": "code",
      "execution_count": null,
      "metadata": {
        "id": "218-KwJSVn38"
      },
      "outputs": [],
      "source": [
        "import lightgbm\n",
        "from lightgbm import LGBMRegressor"
      ]
    },
    {
      "cell_type": "markdown",
      "metadata": {
        "id": "R7vt_3Z1ukDv"
      },
      "source": [
        "Загружаем и выводим на экран данные:"
      ]
    },
    {
      "cell_type": "code",
      "execution_count": null,
      "metadata": {
        "colab": {
          "base_uri": "https://localhost:8080/",
          "height": 444
        },
        "id": "thHGzMqDurPg",
        "outputId": "425edc4a-dcf2-42e1-a111-1df84520060b"
      },
      "outputs": [
        {
          "data": {
            "text/html": [
              "<div>\n",
              "<style scoped>\n",
              "    .dataframe tbody tr th:only-of-type {\n",
              "        vertical-align: middle;\n",
              "    }\n",
              "\n",
              "    .dataframe tbody tr th {\n",
              "        vertical-align: top;\n",
              "    }\n",
              "\n",
              "    .dataframe thead th {\n",
              "        text-align: right;\n",
              "    }\n",
              "</style>\n",
              "<table border=\"1\" class=\"dataframe\">\n",
              "  <thead>\n",
              "    <tr style=\"text-align: right;\">\n",
              "      <th></th>\n",
              "      <th>DateCrawled</th>\n",
              "      <th>Price</th>\n",
              "      <th>VehicleType</th>\n",
              "      <th>RegistrationYear</th>\n",
              "      <th>Gearbox</th>\n",
              "      <th>Power</th>\n",
              "      <th>Model</th>\n",
              "      <th>Kilometer</th>\n",
              "      <th>RegistrationMonth</th>\n",
              "      <th>FuelType</th>\n",
              "      <th>Brand</th>\n",
              "      <th>Repaired</th>\n",
              "      <th>DateCreated</th>\n",
              "      <th>NumberOfPictures</th>\n",
              "      <th>PostalCode</th>\n",
              "      <th>LastSeen</th>\n",
              "    </tr>\n",
              "  </thead>\n",
              "  <tbody>\n",
              "    <tr>\n",
              "      <th>0</th>\n",
              "      <td>2016-03-24 11:52:17</td>\n",
              "      <td>480</td>\n",
              "      <td>NaN</td>\n",
              "      <td>1993</td>\n",
              "      <td>manual</td>\n",
              "      <td>0</td>\n",
              "      <td>golf</td>\n",
              "      <td>150000</td>\n",
              "      <td>0</td>\n",
              "      <td>petrol</td>\n",
              "      <td>volkswagen</td>\n",
              "      <td>NaN</td>\n",
              "      <td>2016-03-24 00:00:00</td>\n",
              "      <td>0</td>\n",
              "      <td>70435</td>\n",
              "      <td>2016-04-07 03:16:57</td>\n",
              "    </tr>\n",
              "    <tr>\n",
              "      <th>1</th>\n",
              "      <td>2016-03-24 10:58:45</td>\n",
              "      <td>18300</td>\n",
              "      <td>coupe</td>\n",
              "      <td>2011</td>\n",
              "      <td>manual</td>\n",
              "      <td>190</td>\n",
              "      <td>NaN</td>\n",
              "      <td>125000</td>\n",
              "      <td>5</td>\n",
              "      <td>gasoline</td>\n",
              "      <td>audi</td>\n",
              "      <td>yes</td>\n",
              "      <td>2016-03-24 00:00:00</td>\n",
              "      <td>0</td>\n",
              "      <td>66954</td>\n",
              "      <td>2016-04-07 01:46:50</td>\n",
              "    </tr>\n",
              "    <tr>\n",
              "      <th>2</th>\n",
              "      <td>2016-03-14 12:52:21</td>\n",
              "      <td>9800</td>\n",
              "      <td>suv</td>\n",
              "      <td>2004</td>\n",
              "      <td>auto</td>\n",
              "      <td>163</td>\n",
              "      <td>grand</td>\n",
              "      <td>125000</td>\n",
              "      <td>8</td>\n",
              "      <td>gasoline</td>\n",
              "      <td>jeep</td>\n",
              "      <td>NaN</td>\n",
              "      <td>2016-03-14 00:00:00</td>\n",
              "      <td>0</td>\n",
              "      <td>90480</td>\n",
              "      <td>2016-04-05 12:47:46</td>\n",
              "    </tr>\n",
              "    <tr>\n",
              "      <th>3</th>\n",
              "      <td>2016-03-17 16:54:04</td>\n",
              "      <td>1500</td>\n",
              "      <td>small</td>\n",
              "      <td>2001</td>\n",
              "      <td>manual</td>\n",
              "      <td>75</td>\n",
              "      <td>golf</td>\n",
              "      <td>150000</td>\n",
              "      <td>6</td>\n",
              "      <td>petrol</td>\n",
              "      <td>volkswagen</td>\n",
              "      <td>no</td>\n",
              "      <td>2016-03-17 00:00:00</td>\n",
              "      <td>0</td>\n",
              "      <td>91074</td>\n",
              "      <td>2016-03-17 17:40:17</td>\n",
              "    </tr>\n",
              "    <tr>\n",
              "      <th>4</th>\n",
              "      <td>2016-03-31 17:25:20</td>\n",
              "      <td>3600</td>\n",
              "      <td>small</td>\n",
              "      <td>2008</td>\n",
              "      <td>manual</td>\n",
              "      <td>69</td>\n",
              "      <td>fabia</td>\n",
              "      <td>90000</td>\n",
              "      <td>7</td>\n",
              "      <td>gasoline</td>\n",
              "      <td>skoda</td>\n",
              "      <td>no</td>\n",
              "      <td>2016-03-31 00:00:00</td>\n",
              "      <td>0</td>\n",
              "      <td>60437</td>\n",
              "      <td>2016-04-06 10:17:21</td>\n",
              "    </tr>\n",
              "  </tbody>\n",
              "</table>\n",
              "</div>"
            ],
            "text/plain": [
              "           DateCrawled  Price VehicleType  RegistrationYear Gearbox  Power  \\\n",
              "0  2016-03-24 11:52:17    480         NaN              1993  manual      0   \n",
              "1  2016-03-24 10:58:45  18300       coupe              2011  manual    190   \n",
              "2  2016-03-14 12:52:21   9800         suv              2004    auto    163   \n",
              "3  2016-03-17 16:54:04   1500       small              2001  manual     75   \n",
              "4  2016-03-31 17:25:20   3600       small              2008  manual     69   \n",
              "\n",
              "   Model  Kilometer  RegistrationMonth  FuelType       Brand Repaired  \\\n",
              "0   golf     150000                  0    petrol  volkswagen      NaN   \n",
              "1    NaN     125000                  5  gasoline        audi      yes   \n",
              "2  grand     125000                  8  gasoline        jeep      NaN   \n",
              "3   golf     150000                  6    petrol  volkswagen       no   \n",
              "4  fabia      90000                  7  gasoline       skoda       no   \n",
              "\n",
              "           DateCreated  NumberOfPictures  PostalCode             LastSeen  \n",
              "0  2016-03-24 00:00:00                 0       70435  2016-04-07 03:16:57  \n",
              "1  2016-03-24 00:00:00                 0       66954  2016-04-07 01:46:50  \n",
              "2  2016-03-14 00:00:00                 0       90480  2016-04-05 12:47:46  \n",
              "3  2016-03-17 00:00:00                 0       91074  2016-03-17 17:40:17  \n",
              "4  2016-03-31 00:00:00                 0       60437  2016-04-06 10:17:21  "
            ]
          },
          "execution_count": 8,
          "metadata": {},
          "output_type": "execute_result"
        }
      ],
      "source": [
        "# Данные присваиваем переменной df\n",
        "df = pd.read_csv('/datasets/autos.csv')\n",
        "# Выводим первые 5 строк таблицы\n",
        "df.head()"
      ]
    },
    {
      "cell_type": "markdown",
      "metadata": {
        "id": "eEdvGu4vu4GW"
      },
      "source": [
        "Общая информация о таблице:"
      ]
    },
    {
      "cell_type": "code",
      "execution_count": null,
      "metadata": {
        "colab": {
          "base_uri": "https://localhost:8080/"
        },
        "id": "96djRs7MvCWK",
        "outputId": "cd6c8867-8563-46e3-8166-775d14e4db5b"
      },
      "outputs": [
        {
          "name": "stdout",
          "output_type": "stream",
          "text": [
            "<class 'pandas.core.frame.DataFrame'>\n",
            "RangeIndex: 354369 entries, 0 to 354368\n",
            "Data columns (total 16 columns):\n",
            " #   Column             Non-Null Count   Dtype \n",
            "---  ------             --------------   ----- \n",
            " 0   DateCrawled        354369 non-null  object\n",
            " 1   Price              354369 non-null  int64 \n",
            " 2   VehicleType        316879 non-null  object\n",
            " 3   RegistrationYear   354369 non-null  int64 \n",
            " 4   Gearbox            334536 non-null  object\n",
            " 5   Power              354369 non-null  int64 \n",
            " 6   Model              334664 non-null  object\n",
            " 7   Kilometer          354369 non-null  int64 \n",
            " 8   RegistrationMonth  354369 non-null  int64 \n",
            " 9   FuelType           321474 non-null  object\n",
            " 10  Brand              354369 non-null  object\n",
            " 11  Repaired           283215 non-null  object\n",
            " 12  DateCreated        354369 non-null  object\n",
            " 13  NumberOfPictures   354369 non-null  int64 \n",
            " 14  PostalCode         354369 non-null  int64 \n",
            " 15  LastSeen           354369 non-null  object\n",
            "dtypes: int64(7), object(9)\n",
            "memory usage: 43.3+ MB\n"
          ]
        }
      ],
      "source": [
        "df.info()"
      ]
    },
    {
      "cell_type": "markdown",
      "metadata": {
        "id": "q0exYHVIvFOS"
      },
      "source": [
        "**Вывод**: в данных 354 369 наблюдений, 15 признаков и один целевой признак."
      ]
    },
    {
      "cell_type": "markdown",
      "metadata": {
        "id": "L8op0Xs3v8AY"
      },
      "source": [
        "Доли пропущенных значений в признаках:"
      ]
    },
    {
      "cell_type": "code",
      "execution_count": null,
      "metadata": {
        "colab": {
          "base_uri": "https://localhost:8080/"
        },
        "id": "zF9F6OiGwHgO",
        "outputId": "d426aea3-cb95-492f-8472-e44533c5be9b"
      },
      "outputs": [
        {
          "data": {
            "text/plain": [
              "DateCrawled          0.000000\n",
              "Price                0.000000\n",
              "VehicleType          0.105794\n",
              "RegistrationYear     0.000000\n",
              "Gearbox              0.055967\n",
              "Power                0.000000\n",
              "Model                0.055606\n",
              "Kilometer            0.000000\n",
              "RegistrationMonth    0.000000\n",
              "FuelType             0.092827\n",
              "Brand                0.000000\n",
              "Repaired             0.200791\n",
              "DateCreated          0.000000\n",
              "NumberOfPictures     0.000000\n",
              "PostalCode           0.000000\n",
              "LastSeen             0.000000\n",
              "dtype: float64"
            ]
          },
          "execution_count": 10,
          "metadata": {},
          "output_type": "execute_result"
        }
      ],
      "source": [
        "df.isna().mean()"
      ]
    },
    {
      "cell_type": "markdown",
      "metadata": {
        "id": "WtrNJB2qwJxA"
      },
      "source": [
        "**Вывод**. Значения пропущены в признаках:\n",
        "\n",
        "- Repaired - 20% пропусков, \n",
        "- FuelType - 9,3% пропусков, \n",
        "- Model - 5,5% пропусков, \n",
        "- Gearbox - 5,6% пропусков, \n",
        "- VehicleType - 10,6% пропусков."
      ]
    },
    {
      "cell_type": "markdown",
      "metadata": {
        "id": "0v90EWZUxLQx"
      },
      "source": [
        "### Заполнение пропусков"
      ]
    },
    {
      "cell_type": "markdown",
      "metadata": {
        "id": "yBzE8z7TxfQR"
      },
      "source": [
        "#### Признак Repaired"
      ]
    },
    {
      "cell_type": "markdown",
      "metadata": {
        "id": "VFxjktOox8t4"
      },
      "source": [
        "Уникальные значения признака:"
      ]
    },
    {
      "cell_type": "code",
      "execution_count": null,
      "metadata": {
        "colab": {
          "base_uri": "https://localhost:8080/"
        },
        "id": "zo5YHpRzyCwn",
        "outputId": "e7f17ec3-b231-4d9d-ec7b-7c51f27a77cd"
      },
      "outputs": [
        {
          "data": {
            "text/plain": [
              "array([nan, 'yes', 'no'], dtype=object)"
            ]
          },
          "execution_count": 11,
          "metadata": {},
          "output_type": "execute_result"
        }
      ],
      "source": [
        "df['Repaired'].unique()"
      ]
    },
    {
      "cell_type": "markdown",
      "metadata": {
        "id": "YatwOMM4zSv1"
      },
      "source": [
        "Распределение значений признака:"
      ]
    },
    {
      "cell_type": "code",
      "execution_count": null,
      "metadata": {
        "colab": {
          "base_uri": "https://localhost:8080/",
          "height": 295
        },
        "id": "EhhvW23vyDvH",
        "outputId": "64cd1ff8-4e9f-4445-d86d-aac53a182793"
      },
      "outputs": [
        {
          "data": {
            "image/png": "[encoded data removed]",
            "text/plain": [
              "<Figure size 432x288 with 1 Axes>"
            ]
          },
          "metadata": {
            "needs_background": "light"
          },
          "output_type": "display_data"
        }
      ],
      "source": [
        "df['Repaired'].value_counts(dropna=False, normalize=True).plot.barh()\n",
        "plt.xlabel('Значение признака')\n",
        "plt.ylabel('Доля автомобилей')\n",
        "plt.title('Распределение по признаку Repaired')\n",
        "\n",
        "plt.show()"
      ]
    },
    {
      "cell_type": "markdown",
      "metadata": {
        "id": "jo_C6AN_yQIe"
      },
      "source": [
        "**Вывод**: признак Repaired является категориальным, на пропуски приходится порядка 20%; доля автомобилей, бывших в ремонте, около 10%; нам достоверно не известны причины пропусков.\n",
        "\n",
        "Предлагаем пропуски заполнить новым значением признака: 'no info'"
      ]
    },
    {
      "cell_type": "code",
      "execution_count": null,
      "metadata": {
        "colab": {
          "base_uri": "https://localhost:8080/"
        },
        "id": "0zY2oe7X1jBY",
        "outputId": "446bd793-5af3-4e88-c0a9-1d5b831ef1c9"
      },
      "outputs": [
        {
          "data": {
            "text/plain": [
              "0"
            ]
          },
          "execution_count": 13,
          "metadata": {},
          "output_type": "execute_result"
        }
      ],
      "source": [
        "# Заполняем пропуски значением 'no info'\n",
        "df['Repaired'] = df['Repaired'].fillna('no info')\n",
        "# Проверяем наличие пропусков\n",
        "df['Repaired'].isna().sum()"
      ]
    },
    {
      "cell_type": "markdown",
      "metadata": {
        "id": "Dt2N3DAq18_X"
      },
      "source": [
        "#### Признак FuelType"
      ]
    },
    {
      "cell_type": "markdown",
      "metadata": {
        "id": "XCO-fP2z2Kzx"
      },
      "source": [
        "Уникальные значения признака:"
      ]
    },
    {
      "cell_type": "code",
      "execution_count": null,
      "metadata": {
        "colab": {
          "base_uri": "https://localhost:8080/"
        },
        "id": "Ne9TlI3k2Kzy",
        "outputId": "b088afa1-f7b9-4480-d0f2-f85d8a69019c"
      },
      "outputs": [
        {
          "data": {
            "text/plain": [
              "array(['petrol', 'gasoline', nan, 'lpg', 'other', 'hybrid', 'cng',\n",
              "       'electric'], dtype=object)"
            ]
          },
          "execution_count": 14,
          "metadata": {},
          "output_type": "execute_result"
        }
      ],
      "source": [
        "df['FuelType'].unique()"
      ]
    },
    {
      "cell_type": "markdown",
      "metadata": {
        "id": "mg80cdB02Noc"
      },
      "source": [
        "Распределение значений признака:"
      ]
    },
    {
      "cell_type": "code",
      "execution_count": null,
      "metadata": {
        "colab": {
          "base_uri": "https://localhost:8080/",
          "height": 295
        },
        "id": "bsUczXlo2Nod",
        "outputId": "48b7a646-bc8f-44f3-a541-df6c5a31256b"
      },
      "outputs": [
        {
          "data": {
            "image/png": "[encoded data removed]",
            "text/plain": [
              "<Figure size 432x288 with 1 Axes>"
            ]
          },
          "metadata": {
            "needs_background": "light"
          },
          "output_type": "display_data"
        }
      ],
      "source": [
        "df['FuelType'].value_counts(dropna=False, normalize=True).plot.barh()\n",
        "plt.xlabel('Значение признака')\n",
        "plt.ylabel('Доля автомобилей')\n",
        "plt.title('Распределение по признаку FuelType')\n",
        "plt.show()"
      ]
    },
    {
      "cell_type": "markdown",
      "metadata": {
        "id": "zz1GI2ai-EQH"
      },
      "source": [
        "**Вывод**: признак  FuelType является категориальным; на пропуски приходится порядка 10%; соотношение автомобилей на бензине к автомобилям на дизельном топливе 2 к 1; доля автомобилей на альтернативном топливе не превышает 2%; нам достоверно не известны причины пропусков.\n",
        "\n",
        "Предлагаем пропуски заполнить новым значением признака: 'no info'"
      ]
    },
    {
      "cell_type": "code",
      "execution_count": null,
      "metadata": {
        "colab": {
          "base_uri": "https://localhost:8080/"
        },
        "id": "Vl9PRWJAIjgk",
        "outputId": "398e16da-8c1c-4f81-b4b3-2de76d3d3866"
      },
      "outputs": [
        {
          "data": {
            "text/plain": [
              "0"
            ]
          },
          "execution_count": 16,
          "metadata": {},
          "output_type": "execute_result"
        }
      ],
      "source": [
        "# Заполняем пропуски значением 'no info'\n",
        "df['FuelType'] = df['FuelType'].fillna('no info')\n",
        "# Проверяем наличие пропусков\n",
        "df['FuelType'].isna().sum()"
      ]
    },
    {
      "cell_type": "markdown",
      "metadata": {
        "id": "jBgORXyPKWEI"
      },
      "source": [
        "#### Признак Model"
      ]
    },
    {
      "cell_type": "markdown",
      "metadata": {
        "id": "S8T-1AIZKWEK"
      },
      "source": [
        "Уникальные значения признака:"
      ]
    },
    {
      "cell_type": "code",
      "execution_count": null,
      "metadata": {
        "colab": {
          "base_uri": "https://localhost:8080/"
        },
        "id": "gtDiTBXmKWEK",
        "outputId": "0dfc6a72-63bf-4452-9bc1-bab3992460c6",
        "scrolled": true
      },
      "outputs": [
        {
          "data": {
            "text/plain": [
              "array(['golf', nan, 'grand', 'fabia', '3er', '2_reihe', 'other', 'c_max',\n",
              "       '3_reihe', 'passat', 'navara', 'ka', 'polo', 'twingo', 'a_klasse',\n",
              "       'scirocco', '5er', 'meriva', 'arosa', 'c4', 'civic', 'transporter',\n",
              "       'punto', 'e_klasse', 'clio', 'kadett', 'kangoo', 'corsa', 'one',\n",
              "       'fortwo', '1er', 'b_klasse', 'signum', 'astra', 'a8', 'jetta',\n",
              "       'fiesta', 'c_klasse', 'micra', 'vito', 'sprinter', '156', 'escort',\n",
              "       'forester', 'xc_reihe', 'scenic', 'a4', 'a1', 'insignia', 'combo',\n",
              "       'focus', 'tt', 'a6', 'jazz', 'omega', 'slk', '7er', '80', '147',\n",
              "       '100', 'z_reihe', 'sportage', 'sorento', 'v40', 'ibiza', 'mustang',\n",
              "       'eos', 'touran', 'getz', 'a3', 'almera', 'megane', 'lupo', 'r19',\n",
              "       'zafira', 'caddy', 'mondeo', 'cordoba', 'colt', 'impreza',\n",
              "       'vectra', 'berlingo', 'tiguan', 'i_reihe', 'espace', 'sharan',\n",
              "       '6_reihe', 'panda', 'up', 'seicento', 'ceed', '5_reihe', 'yeti',\n",
              "       'octavia', 'mii', 'rx_reihe', '6er', 'modus', 'fox', 'matiz',\n",
              "       'beetle', 'c1', 'rio', 'touareg', 'logan', 'spider', 'cuore',\n",
              "       's_max', 'a2', 'galaxy', 'c3', 'viano', 's_klasse', '1_reihe',\n",
              "       'avensis', 'roomster', 'sl', 'kaefer', 'santa', 'cooper', 'leon',\n",
              "       '4_reihe', 'a5', '500', 'laguna', 'ptcruiser', 'clk', 'primera',\n",
              "       'x_reihe', 'exeo', '159', 'transit', 'juke', 'qashqai', 'carisma',\n",
              "       'accord', 'corolla', 'lanos', 'phaeton', 'verso', 'swift', 'rav',\n",
              "       'picanto', 'boxster', 'kalos', 'superb', 'stilo', 'alhambra',\n",
              "       'mx_reihe', 'roadster', 'ypsilon', 'cayenne', 'galant', 'justy',\n",
              "       '90', 'sirion', 'crossfire', 'agila', 'duster', 'cr_reihe', 'v50',\n",
              "       'c_reihe', 'v_klasse', 'm_klasse', 'yaris', 'c5', 'aygo', 'cc',\n",
              "       'carnival', 'fusion', '911', 'bora', 'forfour', 'm_reihe', 'cl',\n",
              "       'tigra', '300c', 'spark', 'v70', 'kuga', 'x_type', 'ducato',\n",
              "       's_type', 'x_trail', 'toledo', 'altea', 'voyager', 'calibra',\n",
              "       'bravo', 'antara', 'tucson', 'citigo', 'jimny', 'wrangler',\n",
              "       'lybra', 'q7', 'lancer', 'captiva', 'c2', 'discovery',\n",
              "       'freelander', 'sandero', 'note', '900', 'cherokee', 'clubman',\n",
              "       'samara', 'defender', '601', 'cx_reihe', 'legacy', 'pajero',\n",
              "       'auris', 'niva', 's60', 'nubira', 'vivaro', 'g_klasse', 'lodgy',\n",
              "       '850', 'range_rover', 'q3', 'serie_2', 'glk', 'charade', 'croma',\n",
              "       'outlander', 'doblo', 'musa', 'move', '9000', 'v60', '145', 'aveo',\n",
              "       '200', 'b_max', 'range_rover_sport', 'terios', 'rangerover', 'q5',\n",
              "       'range_rover_evoque', 'materia', 'delta', 'gl', 'kalina', 'amarok',\n",
              "       'elefantino', 'i3', 'kappa', 'serie_3', 'serie_1'], dtype=object)"
            ]
          },
          "execution_count": 17,
          "metadata": {},
          "output_type": "execute_result"
        }
      ],
      "source": [
        "df['Model'].unique()"
      ]
    },
    {
      "cell_type": "markdown",
      "metadata": {
        "id": "DuIGZz25U7pv"
      },
      "source": [
        "**Вывод**: признак  Model является категориальным, всего в данных 251 уникальная модель.\n",
        "\n",
        "Предлагаем пропуски заполнить новым значением признака: 'no info'"
      ]
    },
    {
      "cell_type": "code",
      "execution_count": null,
      "metadata": {
        "colab": {
          "base_uri": "https://localhost:8080/"
        },
        "id": "esL-T1zTU7px",
        "outputId": "6a506d27-7d75-42bd-8235-b2f2d4037fd3"
      },
      "outputs": [
        {
          "data": {
            "text/plain": [
              "0"
            ]
          },
          "execution_count": 18,
          "metadata": {},
          "output_type": "execute_result"
        }
      ],
      "source": [
        "# Заполняем пропуски значением 'no info'\n",
        "df['Model'] = df['Model'].fillna('no info')\n",
        "# Проверяем наличие пропусков\n",
        "df['Model'].isna().sum()"
      ]
    },
    {
      "cell_type": "markdown",
      "metadata": {
        "id": "DTAjTgrJ8mJw"
      },
      "source": [
        "Наименования моделей, количество наблюдений которых меньше или равно 5:"
      ]
    },
    {
      "cell_type": "code",
      "execution_count": null,
      "metadata": {
        "colab": {
          "base_uri": "https://localhost:8080/"
        },
        "id": "-5RjK7ja8CR1",
        "outputId": "719ec334-6dbe-4e2f-c4a4-5e3c3cac2c35"
      },
      "outputs": [
        {
          "data": {
            "text/plain": [
              "['rangerover', 'serie_3', 'range_rover_evoque', 'serie_1']"
            ]
          },
          "execution_count": 19,
          "metadata": {},
          "output_type": "execute_result"
        }
      ],
      "source": [
        "df['Model'].value_counts()[df['Model'].value_counts() <= 5].index.tolist()"
      ]
    },
    {
      "cell_type": "markdown",
      "metadata": {
        "id": "6VCGOb-_8Dmk"
      },
      "source": [
        "**Вывод**: для моделей, количество наблюдений которых меньше или равно 5, существует риск оказаться только в обучающей или в тестовой выборках, но не быть предостленными в обоих.\n",
        "\n",
        "Предлагаем таким моделям установить значение признака 'other'.\n",
        "\n",
        "---\n",
        "\n"
      ]
    },
    {
      "cell_type": "code",
      "execution_count": null,
      "metadata": {
        "id": "8E_a8-bl8yRX"
      },
      "outputs": [],
      "source": [
        "# Заменяем названия моделей на 'other'\n",
        "df['Model'] = df['Model'].replace(['serie_3', 'rangerover', 'range_rover_evoque', 'serie_1'],\n",
        "                    'other')"
      ]
    },
    {
      "cell_type": "markdown",
      "metadata": {
        "id": "kwLR04YPKWEM"
      },
      "source": [
        "#### Признак Gearbox"
      ]
    },
    {
      "cell_type": "markdown",
      "metadata": {
        "id": "kmWBvCK-V0fa"
      },
      "source": [
        "Уникальные значения признака:"
      ]
    },
    {
      "cell_type": "code",
      "execution_count": null,
      "metadata": {
        "colab": {
          "base_uri": "https://localhost:8080/"
        },
        "id": "sWavkPAqV0fb",
        "outputId": "0ea95121-a424-4a20-c093-1b51c265a2e1"
      },
      "outputs": [
        {
          "data": {
            "text/plain": [
              "array(['manual', 'auto', nan], dtype=object)"
            ]
          },
          "execution_count": 21,
          "metadata": {},
          "output_type": "execute_result"
        }
      ],
      "source": [
        "df['Gearbox'].unique()"
      ]
    },
    {
      "cell_type": "markdown",
      "metadata": {
        "id": "KKIZq_YBug7w"
      },
      "source": [
        "Распределение значений признака:"
      ]
    },
    {
      "cell_type": "code",
      "execution_count": null,
      "metadata": {
        "colab": {
          "base_uri": "https://localhost:8080/",
          "height": 295
        },
        "id": "kVgpi3jPV0fd",
        "outputId": "1cea8129-e594-4c24-df29-1df7d22119ae"
      },
      "outputs": [
        {
          "data": {
            "image/png": "[encoded data removed]",
            "text/plain": [
              "<Figure size 432x288 with 1 Axes>"
            ]
          },
          "metadata": {
            "needs_background": "light"
          },
          "output_type": "display_data"
        }
      ],
      "source": [
        "df['Gearbox'].value_counts(dropna=False, normalize=True).plot.barh()\n",
        "plt.xlabel('Значение признака')\n",
        "plt.ylabel('Доля автомобилей')\n",
        "plt.title('Распределение по признаку Gearbox')\n",
        "plt.show()"
      ]
    },
    {
      "cell_type": "markdown",
      "metadata": {
        "id": "FD67qFZnV0fe"
      },
      "source": [
        "**Вывод**: признак Gearbox является категориальным; на пропуски приходится порядка 5,6%; доля автомобилей с ручной коробкой передач составлят около 75%; на автомобили с автоматической коробкой передач приходится примерно 20%.\n",
        "\n",
        "Предлагаем пропуски заполнить новым значением признака: 'no info'"
      ]
    },
    {
      "cell_type": "code",
      "execution_count": null,
      "metadata": {
        "colab": {
          "base_uri": "https://localhost:8080/"
        },
        "id": "M7fTeitmV0fg",
        "outputId": "9f362fe4-2331-4842-a31a-d1a646e142d4"
      },
      "outputs": [
        {
          "data": {
            "text/plain": [
              "0"
            ]
          },
          "execution_count": 23,
          "metadata": {},
          "output_type": "execute_result"
        }
      ],
      "source": [
        "# Заполняем пропуски значением 'no info'\n",
        "df['Gearbox'] = df['Gearbox'].fillna('no info')\n",
        "# Проверяем наличие пропусков\n",
        "df['Gearbox'].isna().sum()"
      ]
    },
    {
      "cell_type": "markdown",
      "metadata": {
        "id": "fCNgl3cjWzro"
      },
      "source": [
        "#### Признак VehicleType"
      ]
    },
    {
      "cell_type": "markdown",
      "metadata": {
        "id": "6eAuvEF3Wzrp"
      },
      "source": [
        "Уникальные значения признака:"
      ]
    },
    {
      "cell_type": "code",
      "execution_count": null,
      "metadata": {
        "colab": {
          "base_uri": "https://localhost:8080/"
        },
        "id": "ZLTuS3orWzrq",
        "outputId": "3012c3af-8d1b-435b-beea-67197e0d4bef"
      },
      "outputs": [
        {
          "data": {
            "text/plain": [
              "array([nan, 'coupe', 'suv', 'small', 'sedan', 'convertible', 'bus',\n",
              "       'wagon', 'other'], dtype=object)"
            ]
          },
          "execution_count": 24,
          "metadata": {},
          "output_type": "execute_result"
        }
      ],
      "source": [
        "df['VehicleType'].unique()"
      ]
    },
    {
      "cell_type": "markdown",
      "metadata": {
        "id": "jkP42GUCuvGC"
      },
      "source": [
        "Распределение значений признака:"
      ]
    },
    {
      "cell_type": "code",
      "execution_count": null,
      "metadata": {
        "colab": {
          "base_uri": "https://localhost:8080/",
          "height": 295
        },
        "id": "03U3sJI0Wzrs",
        "outputId": "967687eb-2cb5-4b85-de35-f433a0089939"
      },
      "outputs": [
        {
          "data": {
            "image/png": "[encoded data removed]",
            "text/plain": [
              "<Figure size 432x288 with 1 Axes>"
            ]
          },
          "metadata": {
            "needs_background": "light"
          },
          "output_type": "display_data"
        }
      ],
      "source": [
        "df['VehicleType'].value_counts(dropna=False, normalize=True).plot.barh()\n",
        "plt.xlabel('Значение признака')\n",
        "plt.ylabel('Доля автомобилей')\n",
        "plt.title('Распределение по признаку VehicleType')\n",
        "plt.show()"
      ]
    },
    {
      "cell_type": "markdown",
      "metadata": {
        "id": "lXmXfyG2Wzru"
      },
      "source": [
        "**Вывод**: признак VehicleType является категориальным; на пропуски приходится порядка 10,6%; наиболее популярны автомобили с кузовом седан, хэтчбек и универсал - их совокупная доля состовляет около 66%.\n",
        "\n",
        "Предлагаем пропуски заполнить новым значением признака: 'no info'"
      ]
    },
    {
      "cell_type": "code",
      "execution_count": null,
      "metadata": {
        "colab": {
          "base_uri": "https://localhost:8080/"
        },
        "id": "riDlW6LGWzrv",
        "outputId": "09bf224d-85e7-46e2-ab88-e1599442773a"
      },
      "outputs": [
        {
          "data": {
            "text/plain": [
              "0"
            ]
          },
          "execution_count": 26,
          "metadata": {},
          "output_type": "execute_result"
        }
      ],
      "source": [
        "# Заполняем пропуски значением 'no info'\n",
        "df['VehicleType'] = df['VehicleType'].fillna('no info')\n",
        "# Проверяем наличие пропусков\n",
        "df['VehicleType'].isna().sum()"
      ]
    },
    {
      "cell_type": "code",
      "execution_count": null,
      "metadata": {
        "colab": {
          "base_uri": "https://localhost:8080/"
        },
        "id": "_6YahL1DYWx4",
        "outputId": "3a13ba56-15eb-4c3f-bef3-e71aba834b03"
      },
      "outputs": [
        {
          "name": "stdout",
          "output_type": "stream",
          "text": [
            "Всего пропусков в данных: 0.\n"
          ]
        }
      ],
      "source": [
        "print(f'Всего пропусков в данных: {df.isna().sum().sum()}.')"
      ]
    },
    {
      "cell_type": "markdown",
      "metadata": {
        "id": "v0Vlc1jfZzCw"
      },
      "source": [
        "### Аномалии в количественных признаках"
      ]
    },
    {
      "cell_type": "markdown",
      "metadata": {
        "id": "l2WZC3XnaDP5"
      },
      "source": [
        "Список количественных признаков:"
      ]
    },
    {
      "cell_type": "code",
      "execution_count": null,
      "metadata": {
        "colab": {
          "base_uri": "https://localhost:8080/"
        },
        "id": "pXt2nqnvaLwA",
        "outputId": "eea1492f-847b-4a8d-ecaf-ced562b58dec"
      },
      "outputs": [
        {
          "data": {
            "text/plain": [
              "Index(['Price', 'RegistrationYear', 'Power', 'Kilometer', 'RegistrationMonth',\n",
              "       'NumberOfPictures', 'PostalCode'],\n",
              "      dtype='object')"
            ]
          },
          "execution_count": 28,
          "metadata": {},
          "output_type": "execute_result"
        }
      ],
      "source": [
        "df.select_dtypes(include=['int64']).columns"
      ]
    },
    {
      "cell_type": "markdown",
      "metadata": {
        "id": "ane8MuqidM1s"
      },
      "source": [
        "Описательная статистика количественных признаков:"
      ]
    },
    {
      "cell_type": "code",
      "execution_count": null,
      "metadata": {
        "colab": {
          "base_uri": "https://localhost:8080/",
          "height": 300
        },
        "id": "aVzpvbTHdSbZ",
        "outputId": "81f64b36-7186-49a2-99e0-d8f913f83026"
      },
      "outputs": [
        {
          "data": {
            "text/html": [
              "<div>\n",
              "<style scoped>\n",
              "    .dataframe tbody tr th:only-of-type {\n",
              "        vertical-align: middle;\n",
              "    }\n",
              "\n",
              "    .dataframe tbody tr th {\n",
              "        vertical-align: top;\n",
              "    }\n",
              "\n",
              "    .dataframe thead th {\n",
              "        text-align: right;\n",
              "    }\n",
              "</style>\n",
              "<table border=\"1\" class=\"dataframe\">\n",
              "  <thead>\n",
              "    <tr style=\"text-align: right;\">\n",
              "      <th></th>\n",
              "      <th>Price</th>\n",
              "      <th>RegistrationYear</th>\n",
              "      <th>Power</th>\n",
              "      <th>Kilometer</th>\n",
              "      <th>RegistrationMonth</th>\n",
              "      <th>NumberOfPictures</th>\n",
              "    </tr>\n",
              "  </thead>\n",
              "  <tbody>\n",
              "    <tr>\n",
              "      <th>count</th>\n",
              "      <td>354369.000000</td>\n",
              "      <td>354369.000000</td>\n",
              "      <td>354369.000000</td>\n",
              "      <td>354369.000000</td>\n",
              "      <td>354369.000000</td>\n",
              "      <td>354369.0</td>\n",
              "    </tr>\n",
              "    <tr>\n",
              "      <th>mean</th>\n",
              "      <td>4416.656776</td>\n",
              "      <td>2004.234448</td>\n",
              "      <td>110.094337</td>\n",
              "      <td>128211.172535</td>\n",
              "      <td>5.714645</td>\n",
              "      <td>0.0</td>\n",
              "    </tr>\n",
              "    <tr>\n",
              "      <th>std</th>\n",
              "      <td>4514.158514</td>\n",
              "      <td>90.227958</td>\n",
              "      <td>189.850405</td>\n",
              "      <td>37905.341530</td>\n",
              "      <td>3.726421</td>\n",
              "      <td>0.0</td>\n",
              "    </tr>\n",
              "    <tr>\n",
              "      <th>min</th>\n",
              "      <td>0.000000</td>\n",
              "      <td>1000.000000</td>\n",
              "      <td>0.000000</td>\n",
              "      <td>5000.000000</td>\n",
              "      <td>0.000000</td>\n",
              "      <td>0.0</td>\n",
              "    </tr>\n",
              "    <tr>\n",
              "      <th>25%</th>\n",
              "      <td>1050.000000</td>\n",
              "      <td>1999.000000</td>\n",
              "      <td>69.000000</td>\n",
              "      <td>125000.000000</td>\n",
              "      <td>3.000000</td>\n",
              "      <td>0.0</td>\n",
              "    </tr>\n",
              "    <tr>\n",
              "      <th>50%</th>\n",
              "      <td>2700.000000</td>\n",
              "      <td>2003.000000</td>\n",
              "      <td>105.000000</td>\n",
              "      <td>150000.000000</td>\n",
              "      <td>6.000000</td>\n",
              "      <td>0.0</td>\n",
              "    </tr>\n",
              "    <tr>\n",
              "      <th>75%</th>\n",
              "      <td>6400.000000</td>\n",
              "      <td>2008.000000</td>\n",
              "      <td>143.000000</td>\n",
              "      <td>150000.000000</td>\n",
              "      <td>9.000000</td>\n",
              "      <td>0.0</td>\n",
              "    </tr>\n",
              "    <tr>\n",
              "      <th>max</th>\n",
              "      <td>20000.000000</td>\n",
              "      <td>9999.000000</td>\n",
              "      <td>20000.000000</td>\n",
              "      <td>150000.000000</td>\n",
              "      <td>12.000000</td>\n",
              "      <td>0.0</td>\n",
              "    </tr>\n",
              "  </tbody>\n",
              "</table>\n",
              "</div>"
            ],
            "text/plain": [
              "               Price  RegistrationYear          Power      Kilometer  \\\n",
              "count  354369.000000     354369.000000  354369.000000  354369.000000   \n",
              "mean     4416.656776       2004.234448     110.094337  128211.172535   \n",
              "std      4514.158514         90.227958     189.850405   37905.341530   \n",
              "min         0.000000       1000.000000       0.000000    5000.000000   \n",
              "25%      1050.000000       1999.000000      69.000000  125000.000000   \n",
              "50%      2700.000000       2003.000000     105.000000  150000.000000   \n",
              "75%      6400.000000       2008.000000     143.000000  150000.000000   \n",
              "max     20000.000000       9999.000000   20000.000000  150000.000000   \n",
              "\n",
              "       RegistrationMonth  NumberOfPictures  \n",
              "count      354369.000000          354369.0  \n",
              "mean            5.714645               0.0  \n",
              "std             3.726421               0.0  \n",
              "min             0.000000               0.0  \n",
              "25%             3.000000               0.0  \n",
              "50%             6.000000               0.0  \n",
              "75%             9.000000               0.0  \n",
              "max            12.000000               0.0  "
            ]
          },
          "execution_count": 29,
          "metadata": {},
          "output_type": "execute_result"
        }
      ],
      "source": [
        "df[['Price', 'RegistrationYear', 'Power', 'Kilometer', \n",
        "    'RegistrationMonth', 'NumberOfPictures']].describe()"
      ]
    },
    {
      "cell_type": "markdown",
      "metadata": {
        "id": "04Sye8aS3kLe"
      },
      "source": [
        "**Вывод.** Наблюдаются следующие аномалии в количественных признаках:\n",
        "\n",
        "- у NumberOfPictures всего одного константное значение, равное 0;\n",
        "- у RegistrationMonth значения должны быть от 1 до 12, но в наблюдениях встречаются значения 0;\n",
        "- у Kilometer более 50% всех наблюдений равны константным 150 000;\n",
        "- у Power наблюдаются нулевые и аномально высокие значения;\n",
        "- у RegistrationYear наблюдаются аномально маленькие и аномально большие значения;\n",
        "- у Price наблюдаются нулевые значения. \n"
      ]
    },
    {
      "cell_type": "markdown",
      "metadata": {
        "id": "S-an6_cnndo9"
      },
      "source": [
        "#### Признак NumberOfPictures"
      ]
    },
    {
      "cell_type": "markdown",
      "metadata": {
        "id": "T_MzIrBKdXpa"
      },
      "source": [
        "У признака NumberOfPictures\tвсего одно константное значение, равное 0.\n",
        "\n",
        "Предлагаем из данных удалить столбец с признаком NumberOfPictures.\t"
      ]
    },
    {
      "cell_type": "code",
      "execution_count": null,
      "metadata": {
        "id": "t-SIARsvfyU8"
      },
      "outputs": [],
      "source": [
        "df = df.drop('NumberOfPictures', axis=1)"
      ]
    },
    {
      "cell_type": "markdown",
      "metadata": {
        "id": "xGKxNZ-Anmdc"
      },
      "source": [
        "#### Признак RegistrationYear"
      ]
    },
    {
      "cell_type": "markdown",
      "metadata": {
        "id": "NmyTy2HFhSwM"
      },
      "source": [
        "Уникальные значения признака RegistrationYear:\t"
      ]
    },
    {
      "cell_type": "code",
      "execution_count": null,
      "metadata": {
        "colab": {
          "base_uri": "https://localhost:8080/"
        },
        "id": "MT2ktGo5iVoL",
        "outputId": "b2ff1450-dce7-4cf5-cace-0a7dcd66f531"
      },
      "outputs": [
        {
          "data": {
            "text/plain": [
              "array([1000, 1001, 1039, 1111, 1200, 1234, 1253, 1255, 1300, 1400, 1500,\n",
              "       1600, 1602, 1688, 1800, 1910, 1915, 1919, 1920, 1923, 1925, 1927,\n",
              "       1928, 1929, 1930, 1931, 1932, 1933, 1934, 1935, 1936, 1937, 1938,\n",
              "       1940, 1941, 1942, 1943, 1944, 1945, 1946, 1947, 1948, 1949, 1950,\n",
              "       1951, 1952, 1953, 1954, 1955, 1956, 1957, 1958, 1959, 1960, 1961,\n",
              "       1962, 1963, 1964, 1965, 1966, 1967, 1968, 1969, 1970, 1971, 1972,\n",
              "       1973, 1974, 1975, 1976, 1977, 1978, 1979, 1980, 1981, 1982, 1983,\n",
              "       1984, 1985, 1986, 1987, 1988, 1989, 1990, 1991, 1992, 1993, 1994,\n",
              "       1995, 1996, 1997, 1998, 1999, 2000, 2001, 2002, 2003, 2004, 2005,\n",
              "       2006, 2007, 2008, 2009, 2010, 2011, 2012, 2013, 2014, 2015, 2016,\n",
              "       2017, 2018, 2019, 2066, 2200, 2222, 2290, 2500, 2800, 2900, 3000,\n",
              "       3200, 3500, 3700, 3800, 4000, 4100, 4500, 4800, 5000, 5300, 5555,\n",
              "       5600, 5900, 5911, 6000, 6500, 7000, 7100, 7500, 7800, 8000, 8200,\n",
              "       8455, 8500, 8888, 9000, 9229, 9450, 9996, 9999])"
            ]
          },
          "execution_count": 31,
          "metadata": {},
          "output_type": "execute_result"
        }
      ],
      "source": [
        "df['RegistrationYear'].sort_values().unique()"
      ]
    },
    {
      "cell_type": "markdown",
      "metadata": {
        "id": "mA_5yoe3bwCt"
      },
      "source": [
        "Количество анкет, созданных после 2016 года:"
      ]
    },
    {
      "cell_type": "code",
      "execution_count": null,
      "metadata": {
        "colab": {
          "base_uri": "https://localhost:8080/"
        },
        "id": "l2XU1YBPbvrt",
        "outputId": "9f9545d6-1aaa-4a5a-ce98-5bd02d8b8ab2"
      },
      "outputs": [
        {
          "data": {
            "text/plain": [
              "0"
            ]
          },
          "execution_count": 32,
          "metadata": {},
          "output_type": "execute_result"
        }
      ],
      "source": [
        "df['DateCreated'].str.startswith(('2017', '2018', '2019')).sum()"
      ]
    },
    {
      "cell_type": "markdown",
      "metadata": {
        "id": "_-foums9kG9d"
      },
      "source": [
        "**Вывод**: автомобилестроение, как отрасль машиностроения зародилась в 1880-х — 1890-х годах во Франции и Германии, а в конце XIX — начале XX веков в Англии, Австро-Венгрии, Италии, США, Бельгии, Канаде, Швейцарии, Швеции и Российской Империи.\n",
        "\n",
        "Все анкеты были созданы до 2016 года включительно, а значит, год регистрации автомобиля не может быть позже 2016 года.\n",
        "\n",
        "Таким образом, предлагаем удалить наблюдения с годом регистрации автомобиля менее 1910 и более 2016."
      ]
    },
    {
      "cell_type": "code",
      "execution_count": null,
      "metadata": {
        "id": "eWJwk81okR3X"
      },
      "outputs": [],
      "source": [
        "df = df[(df['RegistrationYear'] > 1910) & (df['RegistrationYear'] <= 2016)]"
      ]
    },
    {
      "cell_type": "markdown",
      "metadata": {
        "id": "C2DZMR8RnygU"
      },
      "source": [
        "#### Признак Power"
      ]
    },
    {
      "cell_type": "markdown",
      "metadata": {
        "id": "ApTTIQ77mC20"
      },
      "source": [
        "20 наиболеее частов встрачающихся значений признака Power:"
      ]
    },
    {
      "cell_type": "code",
      "execution_count": null,
      "metadata": {
        "colab": {
          "base_uri": "https://localhost:8080/"
        },
        "id": "l0_y1ylXmgLN",
        "outputId": "c0654bff-3c2a-4cd9-ea55-a452f94afc2d"
      },
      "outputs": [
        {
          "data": {
            "text/plain": [
              "0      36362\n",
              "75     22806\n",
              "60     15167\n",
              "150    14150\n",
              "101    12732\n",
              "140    12473\n",
              "90     12196\n",
              "116    11566\n",
              "105     9957\n",
              "170     9872\n",
              "125     6677\n",
              "136     6582\n",
              "102     6200\n",
              "163     5971\n",
              "54      5546\n",
              "143     5197\n",
              "122     5016\n",
              "131     4985\n",
              "109     4631\n",
              "110     4550\n",
              "Name: Power, dtype: int64"
            ]
          },
          "execution_count": 34,
          "metadata": {},
          "output_type": "execute_result"
        }
      ],
      "source": [
        "df['Power'].value_counts().head(20)"
      ]
    },
    {
      "cell_type": "markdown",
      "metadata": {
        "id": "zFAS7idImkhM"
      },
      "source": [
        "Мощность двигателя автомобиля, равная 0, — наиболее часто встречающийся признак (40 007 наблюдений)."
      ]
    },
    {
      "cell_type": "markdown",
      "metadata": {
        "id": "q0a6UwEQtmp7"
      },
      "source": [
        "Количество наблюдений, для которых мощность двигателя находится за границей 3 стандартных отклонения от среднего значения:"
      ]
    },
    {
      "cell_type": "code",
      "execution_count": null,
      "metadata": {
        "colab": {
          "base_uri": "https://localhost:8080/"
        },
        "id": "zfFR-HzAroNV",
        "outputId": "0e609458-1427-4ac4-e330-54ecedb6d743"
      },
      "outputs": [
        {
          "data": {
            "text/plain": [
              "326"
            ]
          },
          "execution_count": 35,
          "metadata": {},
          "output_type": "execute_result"
        }
      ],
      "source": [
        "len(df[df['Power']  > (df['Power'].mean() + df['Power'].std() * 3)])"
      ]
    },
    {
      "cell_type": "markdown",
      "metadata": {
        "id": "wi1wL7OJrtst"
      },
      "source": [
        "**Вывод**: предлагаем редкие аномальные значения удалить из данных, а нулевые значения заменить средним для данной марки автомобиля."
      ]
    },
    {
      "cell_type": "code",
      "execution_count": null,
      "metadata": {
        "id": "KtwAoeOSwx_x"
      },
      "outputs": [],
      "source": [
        "# Удаляем аномально большие значения\n",
        "df = df[df['Power']  < (df['Power'].mean() + df['Power'].std() * 3)]"
      ]
    },
    {
      "cell_type": "code",
      "execution_count": null,
      "metadata": {
        "id": "bKwQvOZ206iA"
      },
      "outputs": [],
      "source": [
        "# Создаем таблицу средних значений для каждой марки автомоблия\n",
        "# Средние значения считаются без учета нулевых\n",
        "t = df[df['Power'] != 0].groupby('Brand')['Power'].mean()"
      ]
    },
    {
      "cell_type": "code",
      "execution_count": null,
      "metadata": {
        "id": "3xfkJKAn1mlo"
      },
      "outputs": [],
      "source": [
        "# Проходим по списку марок автомобиля, для которых мощность двигателя равна 0\n",
        "for x in df[df['Power'] == 0]['Brand'].unique():\n",
        "    # Каждое нулевое значение заменяем средним для данной марки\n",
        "    df.loc[(df['Power'] == 0) & (df['Brand'] == x), 'Power'] = t[x]"
      ]
    },
    {
      "cell_type": "code",
      "execution_count": null,
      "metadata": {
        "colab": {
          "base_uri": "https://localhost:8080/"
        },
        "id": "SONg_pVG2IH6",
        "outputId": "2474e47f-85f8-42d5-98d7-8b932f764e51"
      },
      "outputs": [
        {
          "data": {
            "text/plain": [
              "0"
            ]
          },
          "execution_count": 39,
          "metadata": {},
          "output_type": "execute_result"
        }
      ],
      "source": [
        "# Проверяем количество автомобилей с мощностью двигателя, равной 0\n",
        "len(df[df['Power'] == 0])"
      ]
    },
    {
      "cell_type": "markdown",
      "metadata": {
        "id": "Zlbv_e_VFQPe"
      },
      "source": [
        "#### Признак Kilometer"
      ]
    },
    {
      "cell_type": "markdown",
      "metadata": {
        "id": "sgouPOAAGvoM"
      },
      "source": [
        "Распределение автомобилей по пробегу:"
      ]
    },
    {
      "cell_type": "code",
      "execution_count": null,
      "metadata": {
        "colab": {
          "base_uri": "https://localhost:8080/",
          "height": 295
        },
        "id": "WDoHvyx-FVqL",
        "outputId": "476273f2-d454-4015-9be8-e424a7057c88"
      },
      "outputs": [
        {
          "data": {
            "image/png": "[encoded data removed]",
            "text/plain": [
              "<Figure size 432x288 with 1 Axes>"
            ]
          },
          "metadata": {
            "needs_background": "light"
          },
          "output_type": "display_data"
        }
      ],
      "source": [
        "df['Kilometer'].hist(bins=10)\n",
        "plt.xlabel('Пробег, километры')\n",
        "plt.ylabel('Количество автомобилей')\n",
        "plt.title('Распределение по признаку пробегу')\n",
        "plt.show()"
      ]
    },
    {
      "cell_type": "markdown",
      "metadata": {
        "id": "JhWR9QpFG4Yy"
      },
      "source": [
        "Доля автомобилей с пробегом, равным 150 000 километров:"
      ]
    },
    {
      "cell_type": "code",
      "execution_count": null,
      "metadata": {
        "colab": {
          "base_uri": "https://localhost:8080/"
        },
        "id": "Z5XAdMsP4oIO",
        "outputId": "7f017e3d-8587-4113-9bf2-bf3a63b6cd79"
      },
      "outputs": [
        {
          "data": {
            "text/plain": [
              "0.6700241051905724"
            ]
          },
          "execution_count": 41,
          "metadata": {},
          "output_type": "execute_result"
        }
      ],
      "source": [
        "len(df[df['Kilometer'] == 150000]) / len(df)"
      ]
    },
    {
      "cell_type": "markdown",
      "metadata": {
        "id": "VI7Gtu5gNUqz"
      },
      "source": [
        "Уникальные значения признака Kilometer:"
      ]
    },
    {
      "cell_type": "code",
      "execution_count": null,
      "metadata": {
        "colab": {
          "base_uri": "https://localhost:8080/"
        },
        "id": "hOafBF9cMoLi",
        "outputId": "6fb8502a-f0b9-48c5-bc04-85a2487fc662"
      },
      "outputs": [
        {
          "data": {
            "text/plain": [
              "array([  5000,  10000,  20000,  30000,  40000,  50000,  60000,  70000,\n",
              "        80000,  90000, 100000, 125000, 150000])"
            ]
          },
          "execution_count": 42,
          "metadata": {},
          "output_type": "execute_result"
        }
      ],
      "source": [
        "df['Kilometer'].sort_values().unique()"
      ]
    },
    {
      "cell_type": "markdown",
      "metadata": {
        "id": "WeBEK4-KPcb4"
      },
      "source": [
        "Зависимость средней цены автомобиля от пробега:"
      ]
    },
    {
      "cell_type": "code",
      "execution_count": null,
      "metadata": {
        "colab": {
          "base_uri": "https://localhost:8080/",
          "height": 295
        },
        "id": "XSE_VGSuKT2m",
        "outputId": "92a0dae5-5c41-4a7e-ff44-f1f076a6c417"
      },
      "outputs": [
        {
          "data": {
            "image/png": "[encoded data removed]",
            "text/plain": [
              "<Figure size 432x288 with 1 Axes>"
            ]
          },
          "metadata": {
            "needs_background": "light"
          },
          "output_type": "display_data"
        }
      ],
      "source": [
        "df.groupby('Kilometer')['Price'].mean().plot()\n",
        "plt.xlabel('Пробег, километры')\n",
        "plt.ylabel('Цена, евро')\n",
        "plt.title('Зависимость средней цены от пробега')\n",
        "plt.show()"
      ]
    },
    {
      "cell_type": "markdown",
      "metadata": {
        "id": "8xdVPEGh_Xjs"
      },
      "source": [
        "**Вывод**: признак Kilometer принимает только дискретные значения и фактически является категориальным; на автомобили с пробегом 150 000 километров приходится 2/3 всей выборки. Наблюдается отрицательная корреляция между средней ценой и пробегом автомобиля.\n"
      ]
    },
    {
      "cell_type": "markdown",
      "metadata": {
        "id": "JDsWE6qmP3qQ"
      },
      "source": [
        "#### Признак RegistrationMonth"
      ]
    },
    {
      "cell_type": "markdown",
      "metadata": {
        "id": "rx3qsjq_UOFH"
      },
      "source": [
        "Распределение автомобилей по месяцу регистрации:"
      ]
    },
    {
      "cell_type": "code",
      "execution_count": null,
      "metadata": {
        "colab": {
          "base_uri": "https://localhost:8080/",
          "height": 295
        },
        "id": "V_DMximRQXmh",
        "outputId": "b9d8961e-66c1-4632-d676-839829c317ff"
      },
      "outputs": [
        {
          "data": {
            "image/png": "[encoded data removed]",
            "text/plain": [
              "<Figure size 432x288 with 1 Axes>"
            ]
          },
          "metadata": {
            "needs_background": "light"
          },
          "output_type": "display_data"
        }
      ],
      "source": [
        "df['RegistrationMonth'].hist(bins=13)\n",
        "plt.xlabel('Номер месяца регистрации')\n",
        "plt.ylabel('Количество автомобилей')\n",
        "plt.title('Распределение по месяцу регистрации')\n",
        "plt.show()"
      ]
    },
    {
      "cell_type": "markdown",
      "metadata": {
        "id": "ZWFQ-sLpQoen"
      },
      "source": [
        "За исключение нулевого месяца распределение автомобилей примерно равномерное с пиком в марте. "
      ]
    },
    {
      "cell_type": "markdown",
      "metadata": {
        "id": "GksvAgIXSh4Q"
      },
      "source": [
        "Корреляция между месяцем регистрации и ценой автомобиля за исключением автомобилей, месяц регистрации которых равен 0:"
      ]
    },
    {
      "cell_type": "code",
      "execution_count": null,
      "metadata": {
        "colab": {
          "base_uri": "https://localhost:8080/"
        },
        "id": "RH84alHhVjUd",
        "outputId": "5221838c-7b0d-4a57-ba28-f339df8608a2"
      },
      "outputs": [
        {
          "data": {
            "text/plain": [
              "0.011835458190787886"
            ]
          },
          "execution_count": 45,
          "metadata": {},
          "output_type": "execute_result"
        }
      ],
      "source": [
        "df[df['RegistrationMonth'] != 0]['RegistrationMonth'].corr(df['Price'])"
      ]
    },
    {
      "cell_type": "markdown",
      "metadata": {
        "id": "zKACkWMtWGUq"
      },
      "source": [
        "**Вывод**: связь между месяцом регистрации автомобиля и его ценой не наблюдается.\n",
        "\n",
        "Предлагаем удалить столбец с этим признаком."
      ]
    },
    {
      "cell_type": "code",
      "execution_count": null,
      "metadata": {
        "id": "W9WYB8KVW7kb"
      },
      "outputs": [],
      "source": [
        "df = df.drop('RegistrationMonth', axis=1)"
      ]
    },
    {
      "cell_type": "markdown",
      "metadata": {
        "id": "ToAQoip6gLH1"
      },
      "source": [
        "#### Признак Price"
      ]
    },
    {
      "cell_type": "markdown",
      "metadata": {
        "id": "p01x6SDAgQ79"
      },
      "source": [
        "Распределение автомобилей по цене:"
      ]
    },
    {
      "cell_type": "code",
      "execution_count": null,
      "metadata": {
        "colab": {
          "base_uri": "https://localhost:8080/",
          "height": 459
        },
        "id": "etL1XEEZZnqP",
        "outputId": "d14df141-fa60-46cc-a203-e2be1f4ccb48"
      },
      "outputs": [
        {
          "data": {
            "image/png": "[encoded data removed]",
            "text/plain": [
              "<Figure size 720x504 with 1 Axes>"
            ]
          },
          "metadata": {
            "needs_background": "light"
          },
          "output_type": "display_data"
        }
      ],
      "source": [
        "df['Price'].hist(bins=20, figsize=(10, 7))\n",
        "plt.xlabel('Цена автомобиля, евро')\n",
        "plt.ylabel('Количество автомобилей')\n",
        "plt.title('Распределение по цене автомобиля')\n",
        "plt.show()"
      ]
    },
    {
      "cell_type": "markdown",
      "metadata": {
        "id": "lAkRwSM3kFQw"
      },
      "source": [
        "Распределение автомобилей по цене стоимостью до 1000 евро:"
      ]
    },
    {
      "cell_type": "code",
      "execution_count": null,
      "metadata": {
        "colab": {
          "base_uri": "https://localhost:8080/",
          "height": 459
        },
        "id": "umYzSLR2jExU",
        "outputId": "f428f71d-5137-4368-de6c-da8e41fa39a8"
      },
      "outputs": [
        {
          "data": {
            "image/png": "[encoded data removed]",
            "text/plain": [
              "<Figure size 720x504 with 1 Axes>"
            ]
          },
          "metadata": {
            "needs_background": "light"
          },
          "output_type": "display_data"
        }
      ],
      "source": [
        "df[df['Price']<= 1000]['Price'].hist(bins=50, figsize=(10, 7))\n",
        "plt.xlabel('Цена автомобиля, евро')\n",
        "plt.ylabel('Количество автомобилей')\n",
        "plt.title('Распределение по цене автомобиля стоимостью до 1 000 евро')\n",
        "plt.show()"
      ]
    },
    {
      "cell_type": "markdown",
      "metadata": {
        "id": "yC11TKGB-_NU"
      },
      "source": [
        "Граница 2,5-го процентиля:"
      ]
    },
    {
      "cell_type": "code",
      "execution_count": null,
      "metadata": {
        "colab": {
          "base_uri": "https://localhost:8080/"
        },
        "id": "Te_nWXF2--uP",
        "outputId": "eb72ef0e-66ad-4942-ef63-7e1ecdcb826d"
      },
      "outputs": [
        {
          "data": {
            "text/plain": [
              "0.0"
            ]
          },
          "execution_count": 49,
          "metadata": {},
          "output_type": "execute_result"
        }
      ],
      "source": [
        "df['Price'].quantile(0.025)"
      ]
    },
    {
      "cell_type": "markdown",
      "metadata": {
        "id": "VYUqVGWolBbg"
      },
      "source": [
        "**Вывод**: наблюдаются аномально низкие значения с ценою до 10 евро (около 11 000 наблюдений).\n",
        "\n",
        "Предлагаем наблюдения с аномально низкими значения удалить из данных."
      ]
    },
    {
      "cell_type": "code",
      "execution_count": null,
      "metadata": {
        "id": "lZkrSvFyei1z"
      },
      "outputs": [],
      "source": [
        "# Удаляем аномально низкие значения\n",
        "df = df[df['Price']  > 1]"
      ]
    },
    {
      "cell_type": "markdown",
      "metadata": {
        "id": "4etxgfkLjI9h"
      },
      "source": [
        "Проверяем данные на наличие дубликатов:"
      ]
    },
    {
      "cell_type": "code",
      "execution_count": null,
      "metadata": {
        "id": "Mitfqnc3jI9h",
        "outputId": "c017c43a-aec3-4894-cf1f-cf330fd969ac"
      },
      "outputs": [
        {
          "data": {
            "text/plain": [
              "4"
            ]
          },
          "execution_count": 51,
          "metadata": {},
          "output_type": "execute_result"
        }
      ],
      "source": [
        "df.duplicated().sum()"
      ]
    },
    {
      "cell_type": "markdown",
      "metadata": {
        "id": "U9bwjNpnjI9j"
      },
      "source": [
        "**Вывод**: в данных обнаружены 4 дубликата.\n",
        "\n",
        "Предлагаем удалить дублирующиеся наблюдения."
      ]
    },
    {
      "cell_type": "code",
      "execution_count": null,
      "metadata": {
        "id": "j534pn4_jI9k",
        "outputId": "10e76bcf-a763-4e4b-9325-b6d868c87a84"
      },
      "outputs": [
        {
          "data": {
            "text/plain": [
              "0"
            ]
          },
          "execution_count": 52,
          "metadata": {},
          "output_type": "execute_result"
        }
      ],
      "source": [
        "df = df.drop_duplicates()\n",
        "# После удаления проверяем наличие дубликатов\n",
        "df.duplicated().sum()"
      ]
    },
    {
      "cell_type": "markdown",
      "metadata": {
        "id": "gZ2803APgq1V"
      },
      "source": [
        "\n",
        "## Выборки для обучения моделей"
      ]
    },
    {
      "cell_type": "markdown",
      "metadata": {
        "id": "KkdPqnZ2nLz1"
      },
      "source": [
        "### Признаки"
      ]
    },
    {
      "cell_type": "markdown",
      "metadata": {
        "id": "7ogHRXXzKYFH"
      },
      "source": [
        "Критерии оценки автомобилей установлены для получения объективных и максимально точных результатов оценки.\n",
        "\n",
        "Существуют такие параметры, которые обязательно учитываются при оценивании любого автотранспортного средства. \n",
        "\n",
        "Все критерии оценки автомобилей можно условно разделить на несколько групп:\n",
        "\n",
        "- основные параметры;\n",
        "- техническое состояние;\n",
        "- комплектация;\n",
        "- дополнительные опции и прочее.\n",
        "\n",
        "Основные параметры автомобиля:\n",
        "\n",
        "1. Марка и модель: признаки `Model` и `Brand`, отчасти `VehicleType`.\n",
        "\n",
        "2. Год выпуска: признак `RegistrationYear`.\n",
        "\n",
        "3. Пробег автомобиля: признак `Kilometer`.\n",
        "\n",
        "4. Тип коробки передач: признак `Gearbox`.\n",
        "\n",
        "5. Привод автомобиля: данный признак в данных отсуствует.\n",
        "\n",
        "7. Мощность и тип двигателя: признаки  `Power` и `FuelType`.\n",
        "\n",
        "Техническое состояние: из доступных нам сведений о техническом состоянии автомобиля есть признак  `Repaired`.\n",
        "\n",
        "Сведения о комплектации и иных дополнительных опциях автомобиля в данных отстуствуют.\n"
      ]
    },
    {
      "cell_type": "markdown",
      "metadata": {
        "id": "aXgkrkI_NW5Z"
      },
      "source": [
        "Списки признаков:"
      ]
    },
    {
      "cell_type": "code",
      "execution_count": null,
      "metadata": {
        "id": "u-bTNz4RnWT_"
      },
      "outputs": [],
      "source": [
        "# В переменной X сохраняем список наименований признаков\n",
        "X = ['RegistrationYear', 'Power', 'Gearbox', 'Model',\n",
        "     'Kilometer', 'Brand', 'Repaired', 'VehicleType', 'FuelType']\n",
        "# В переменной y сохраняем наименование целевого признака\n",
        "y = 'Price'"
      ]
    },
    {
      "cell_type": "markdown",
      "metadata": {
        "id": "hTKebPM_ogkm"
      },
      "source": [
        "### Обучающая и тестовая выборки"
      ]
    },
    {
      "cell_type": "code",
      "execution_count": null,
      "metadata": {
        "id": "oGI4mNLBPGHe"
      },
      "outputs": [],
      "source": [
        "# Делим данные на обучающую и тестовую выборку в соотношении 3 к 1\n",
        "train, test = train_test_split(df, test_size=0.25, random_state=42)"
      ]
    },
    {
      "cell_type": "markdown",
      "metadata": {
        "id": "Gi9L-8pyP2sL"
      },
      "source": [
        "## Обучение моделей"
      ]
    },
    {
      "cell_type": "markdown",
      "metadata": {
        "id": "NOaa0PZPQYL0"
      },
      "source": [
        "### Ridge регрессия ($l_2$ регуляризация)"
      ]
    },
    {
      "cell_type": "markdown",
      "metadata": {
        "id": "f3rpHd0kOSeR"
      },
      "source": [
        "Создаем сетку гиперпараметров, которые будем перебирать при обучении:"
      ]
    },
    {
      "cell_type": "code",
      "execution_count": null,
      "metadata": {
        "id": "RzhPE3NoQdLi"
      },
      "outputs": [],
      "source": [
        "model_grid_search = GridSearchCV(Ridge(random_state=42), \n",
        "                               [{'fit_intercept': [False, True],\n",
        "                                 'normalize': [True, False],\n",
        "                                 'alpha': [1, 1.1, 1.3, 1.4, 1.5]}],\n",
        "                               cv=5, \n",
        "                               scoring=make_scorer(mean_squared_error, \n",
        "                                                   greater_is_better=False),\n",
        "                                 verbose=10)"
      ]
    },
    {
      "cell_type": "markdown",
      "metadata": {
        "id": "EfNxrzW5OzGu"
      },
      "source": [
        "Обучаем модель:"
      ]
    },
    {
      "cell_type": "code",
      "execution_count": null,
      "metadata": {
        "colab": {
          "base_uri": "https://localhost:8080/"
        },
        "id": "rkcvZ5AkSxov",
        "outputId": "0b22941e-ebab-49b6-a323-b324bc25d7bb"
      },
      "outputs": [
        {
          "name": "stdout",
          "output_type": "stream",
          "text": [
            "Fitting 5 folds for each of 20 candidates, totalling 100 fits\n",
            "[CV 1/5; 1/20] START alpha=1, fit_intercept=False, normalize=True...............\n",
            "[CV 1/5; 1/20] END alpha=1, fit_intercept=False, normalize=True; total time=   2.4s\n",
            "[CV 2/5; 1/20] START alpha=1, fit_intercept=False, normalize=True...............\n",
            "[CV 2/5; 1/20] END alpha=1, fit_intercept=False, normalize=True; total time=   2.1s\n",
            "[CV 3/5; 1/20] START alpha=1, fit_intercept=False, normalize=True...............\n",
            "[CV 3/5; 1/20] END alpha=1, fit_intercept=False, normalize=True; total time=   2.2s\n",
            "[CV 4/5; 1/20] START alpha=1, fit_intercept=False, normalize=True...............\n",
            "[CV 4/5; 1/20] END alpha=1, fit_intercept=False, normalize=True; total time=   2.1s\n",
            "[CV 5/5; 1/20] START alpha=1, fit_intercept=False, normalize=True...............\n",
            "[CV 5/5; 1/20] END alpha=1, fit_intercept=False, normalize=True; total time=   2.1s\n",
            "[CV 1/5; 2/20] START alpha=1, fit_intercept=False, normalize=False..............\n",
            "[CV 1/5; 2/20] END alpha=1, fit_intercept=False, normalize=False; total time=   2.6s\n",
            "[CV 2/5; 2/20] START alpha=1, fit_intercept=False, normalize=False..............\n",
            "[CV 2/5; 2/20] END alpha=1, fit_intercept=False, normalize=False; total time=   2.2s\n",
            "[CV 3/5; 2/20] START alpha=1, fit_intercept=False, normalize=False..............\n",
            "[CV 3/5; 2/20] END alpha=1, fit_intercept=False, normalize=False; total time=   2.1s\n",
            "[CV 4/5; 2/20] START alpha=1, fit_intercept=False, normalize=False..............\n",
            "[CV 4/5; 2/20] END alpha=1, fit_intercept=False, normalize=False; total time=   2.4s\n",
            "[CV 5/5; 2/20] START alpha=1, fit_intercept=False, normalize=False..............\n",
            "[CV 5/5; 2/20] END alpha=1, fit_intercept=False, normalize=False; total time=   2.2s\n",
            "[CV 1/5; 3/20] START alpha=1, fit_intercept=True, normalize=True................\n",
            "[CV 1/5; 3/20] END alpha=1, fit_intercept=True, normalize=True; total time=   2.4s\n",
            "[CV 2/5; 3/20] START alpha=1, fit_intercept=True, normalize=True................\n",
            "[CV 2/5; 3/20] END alpha=1, fit_intercept=True, normalize=True; total time=   2.4s\n",
            "[CV 3/5; 3/20] START alpha=1, fit_intercept=True, normalize=True................\n",
            "[CV 3/5; 3/20] END alpha=1, fit_intercept=True, normalize=True; total time=   2.5s\n",
            "[CV 4/5; 3/20] START alpha=1, fit_intercept=True, normalize=True................\n",
            "[CV 4/5; 3/20] END alpha=1, fit_intercept=True, normalize=True; total time=   2.7s\n",
            "[CV 5/5; 3/20] START alpha=1, fit_intercept=True, normalize=True................\n",
            "[CV 5/5; 3/20] END alpha=1, fit_intercept=True, normalize=True; total time=   2.6s\n",
            "[CV 1/5; 4/20] START alpha=1, fit_intercept=True, normalize=False...............\n",
            "[CV 1/5; 4/20] END alpha=1, fit_intercept=True, normalize=False; total time=   2.3s\n",
            "[CV 2/5; 4/20] START alpha=1, fit_intercept=True, normalize=False...............\n",
            "[CV 2/5; 4/20] END alpha=1, fit_intercept=True, normalize=False; total time=   2.4s\n",
            "[CV 3/5; 4/20] START alpha=1, fit_intercept=True, normalize=False...............\n",
            "[CV 3/5; 4/20] END alpha=1, fit_intercept=True, normalize=False; total time=   2.5s\n",
            "[CV 4/5; 4/20] START alpha=1, fit_intercept=True, normalize=False...............\n",
            "[CV 4/5; 4/20] END alpha=1, fit_intercept=True, normalize=False; total time=   2.5s\n",
            "[CV 5/5; 4/20] START alpha=1, fit_intercept=True, normalize=False...............\n",
            "[CV 5/5; 4/20] END alpha=1, fit_intercept=True, normalize=False; total time=   2.2s\n",
            "[CV 1/5; 5/20] START alpha=1.1, fit_intercept=False, normalize=True.............\n",
            "[CV 1/5; 5/20] END alpha=1.1, fit_intercept=False, normalize=True; total time=   2.4s\n",
            "[CV 2/5; 5/20] START alpha=1.1, fit_intercept=False, normalize=True.............\n",
            "[CV 2/5; 5/20] END alpha=1.1, fit_intercept=False, normalize=True; total time=   2.3s\n",
            "[CV 3/5; 5/20] START alpha=1.1, fit_intercept=False, normalize=True.............\n",
            "[CV 3/5; 5/20] END alpha=1.1, fit_intercept=False, normalize=True; total time=   2.6s\n",
            "[CV 4/5; 5/20] START alpha=1.1, fit_intercept=False, normalize=True.............\n",
            "[CV 4/5; 5/20] END alpha=1.1, fit_intercept=False, normalize=True; total time=   2.5s\n",
            "[CV 5/5; 5/20] START alpha=1.1, fit_intercept=False, normalize=True.............\n",
            "[CV 5/5; 5/20] END alpha=1.1, fit_intercept=False, normalize=True; total time=   2.5s\n",
            "[CV 1/5; 6/20] START alpha=1.1, fit_intercept=False, normalize=False............\n",
            "[CV 1/5; 6/20] END alpha=1.1, fit_intercept=False, normalize=False; total time=   2.6s\n",
            "[CV 2/5; 6/20] START alpha=1.1, fit_intercept=False, normalize=False............\n",
            "[CV 2/5; 6/20] END alpha=1.1, fit_intercept=False, normalize=False; total time=   2.3s\n",
            "[CV 3/5; 6/20] START alpha=1.1, fit_intercept=False, normalize=False............\n",
            "[CV 3/5; 6/20] END alpha=1.1, fit_intercept=False, normalize=False; total time=   2.3s\n",
            "[CV 4/5; 6/20] START alpha=1.1, fit_intercept=False, normalize=False............\n",
            "[CV 4/5; 6/20] END alpha=1.1, fit_intercept=False, normalize=False; total time=   2.4s\n",
            "[CV 5/5; 6/20] START alpha=1.1, fit_intercept=False, normalize=False............\n",
            "[CV 5/5; 6/20] END alpha=1.1, fit_intercept=False, normalize=False; total time=   2.4s\n",
            "[CV 1/5; 7/20] START alpha=1.1, fit_intercept=True, normalize=True..............\n",
            "[CV 1/5; 7/20] END alpha=1.1, fit_intercept=True, normalize=True; total time=   2.5s\n",
            "[CV 2/5; 7/20] START alpha=1.1, fit_intercept=True, normalize=True..............\n",
            "[CV 2/5; 7/20] END alpha=1.1, fit_intercept=True, normalize=True; total time=   2.6s\n",
            "[CV 3/5; 7/20] START alpha=1.1, fit_intercept=True, normalize=True..............\n",
            "[CV 3/5; 7/20] END alpha=1.1, fit_intercept=True, normalize=True; total time=   2.7s\n",
            "[CV 4/5; 7/20] START alpha=1.1, fit_intercept=True, normalize=True..............\n",
            "[CV 4/5; 7/20] END alpha=1.1, fit_intercept=True, normalize=True; total time=   2.6s\n",
            "[CV 5/5; 7/20] START alpha=1.1, fit_intercept=True, normalize=True..............\n",
            "[CV 5/5; 7/20] END alpha=1.1, fit_intercept=True, normalize=True; total time=   2.6s\n",
            "[CV 1/5; 8/20] START alpha=1.1, fit_intercept=True, normalize=False.............\n",
            "[CV 1/5; 8/20] END alpha=1.1, fit_intercept=True, normalize=False; total time=   2.6s\n",
            "[CV 2/5; 8/20] START alpha=1.1, fit_intercept=True, normalize=False.............\n",
            "[CV 2/5; 8/20] END alpha=1.1, fit_intercept=True, normalize=False; total time=   2.9s\n",
            "[CV 3/5; 8/20] START alpha=1.1, fit_intercept=True, normalize=False.............\n",
            "[CV 3/5; 8/20] END alpha=1.1, fit_intercept=True, normalize=False; total time=   3.4s\n",
            "[CV 4/5; 8/20] START alpha=1.1, fit_intercept=True, normalize=False.............\n",
            "[CV 4/5; 8/20] END alpha=1.1, fit_intercept=True, normalize=False; total time=   3.0s\n",
            "[CV 5/5; 8/20] START alpha=1.1, fit_intercept=True, normalize=False.............\n",
            "[CV 5/5; 8/20] END alpha=1.1, fit_intercept=True, normalize=False; total time=   2.6s\n",
            "[CV 1/5; 9/20] START alpha=1.3, fit_intercept=False, normalize=True.............\n",
            "[CV 1/5; 9/20] END alpha=1.3, fit_intercept=False, normalize=True; total time=   2.3s\n",
            "[CV 2/5; 9/20] START alpha=1.3, fit_intercept=False, normalize=True.............\n",
            "[CV 2/5; 9/20] END alpha=1.3, fit_intercept=False, normalize=True; total time=   2.5s\n",
            "[CV 3/5; 9/20] START alpha=1.3, fit_intercept=False, normalize=True.............\n",
            "[CV 3/5; 9/20] END alpha=1.3, fit_intercept=False, normalize=True; total time=   3.3s\n",
            "[CV 4/5; 9/20] START alpha=1.3, fit_intercept=False, normalize=True.............\n",
            "[CV 4/5; 9/20] END alpha=1.3, fit_intercept=False, normalize=True; total time=   2.1s\n",
            "[CV 5/5; 9/20] START alpha=1.3, fit_intercept=False, normalize=True.............\n",
            "[CV 5/5; 9/20] END alpha=1.3, fit_intercept=False, normalize=True; total time=   2.5s\n",
            "[CV 1/5; 10/20] START alpha=1.3, fit_intercept=False, normalize=False...........\n",
            "[CV 1/5; 10/20] END alpha=1.3, fit_intercept=False, normalize=False; total time=   2.2s\n",
            "[CV 2/5; 10/20] START alpha=1.3, fit_intercept=False, normalize=False...........\n",
            "[CV 2/5; 10/20] END alpha=1.3, fit_intercept=False, normalize=False; total time=   2.3s\n",
            "[CV 3/5; 10/20] START alpha=1.3, fit_intercept=False, normalize=False...........\n",
            "[CV 3/5; 10/20] END alpha=1.3, fit_intercept=False, normalize=False; total time=   2.3s\n",
            "[CV 4/5; 10/20] START alpha=1.3, fit_intercept=False, normalize=False...........\n",
            "[CV 4/5; 10/20] END alpha=1.3, fit_intercept=False, normalize=False; total time=   2.4s\n",
            "[CV 5/5; 10/20] START alpha=1.3, fit_intercept=False, normalize=False...........\n",
            "[CV 5/5; 10/20] END alpha=1.3, fit_intercept=False, normalize=False; total time=   2.1s\n",
            "[CV 1/5; 11/20] START alpha=1.3, fit_intercept=True, normalize=True.............\n",
            "[CV 1/5; 11/20] END alpha=1.3, fit_intercept=True, normalize=True; total time=   2.6s\n",
            "[CV 2/5; 11/20] START alpha=1.3, fit_intercept=True, normalize=True.............\n",
            "[CV 2/5; 11/20] END alpha=1.3, fit_intercept=True, normalize=True; total time=   2.5s\n",
            "[CV 3/5; 11/20] START alpha=1.3, fit_intercept=True, normalize=True.............\n",
            "[CV 3/5; 11/20] END alpha=1.3, fit_intercept=True, normalize=True; total time=   2.5s\n",
            "[CV 4/5; 11/20] START alpha=1.3, fit_intercept=True, normalize=True.............\n",
            "[CV 4/5; 11/20] END alpha=1.3, fit_intercept=True, normalize=True; total time=   2.7s\n",
            "[CV 5/5; 11/20] START alpha=1.3, fit_intercept=True, normalize=True.............\n",
            "[CV 5/5; 11/20] END alpha=1.3, fit_intercept=True, normalize=True; total time=   2.6s\n",
            "[CV 1/5; 12/20] START alpha=1.3, fit_intercept=True, normalize=False............\n",
            "[CV 1/5; 12/20] END alpha=1.3, fit_intercept=True, normalize=False; total time=   2.4s\n",
            "[CV 2/5; 12/20] START alpha=1.3, fit_intercept=True, normalize=False............\n",
            "[CV 2/5; 12/20] END alpha=1.3, fit_intercept=True, normalize=False; total time=   2.4s\n",
            "[CV 3/5; 12/20] START alpha=1.3, fit_intercept=True, normalize=False............\n",
            "[CV 3/5; 12/20] END alpha=1.3, fit_intercept=True, normalize=False; total time=   2.4s\n",
            "[CV 4/5; 12/20] START alpha=1.3, fit_intercept=True, normalize=False............\n",
            "[CV 4/5; 12/20] END alpha=1.3, fit_intercept=True, normalize=False; total time=   2.4s\n",
            "[CV 5/5; 12/20] START alpha=1.3, fit_intercept=True, normalize=False............\n",
            "[CV 5/5; 12/20] END alpha=1.3, fit_intercept=True, normalize=False; total time=   2.5s\n",
            "[CV 1/5; 13/20] START alpha=1.4, fit_intercept=False, normalize=True............\n",
            "[CV 1/5; 13/20] END alpha=1.4, fit_intercept=False, normalize=True; total time=   2.2s\n",
            "[CV 2/5; 13/20] START alpha=1.4, fit_intercept=False, normalize=True............\n",
            "[CV 2/5; 13/20] END alpha=1.4, fit_intercept=False, normalize=True; total time=   2.5s\n",
            "[CV 3/5; 13/20] START alpha=1.4, fit_intercept=False, normalize=True............\n",
            "[CV 3/5; 13/20] END alpha=1.4, fit_intercept=False, normalize=True; total time=   2.5s\n",
            "[CV 4/5; 13/20] START alpha=1.4, fit_intercept=False, normalize=True............\n",
            "[CV 4/5; 13/20] END alpha=1.4, fit_intercept=False, normalize=True; total time=   2.1s\n",
            "[CV 5/5; 13/20] START alpha=1.4, fit_intercept=False, normalize=True............\n",
            "[CV 5/5; 13/20] END alpha=1.4, fit_intercept=False, normalize=True; total time=   2.3s\n",
            "[CV 1/5; 14/20] START alpha=1.4, fit_intercept=False, normalize=False...........\n",
            "[CV 1/5; 14/20] END alpha=1.4, fit_intercept=False, normalize=False; total time=   2.4s\n",
            "[CV 2/5; 14/20] START alpha=1.4, fit_intercept=False, normalize=False...........\n",
            "[CV 2/5; 14/20] END alpha=1.4, fit_intercept=False, normalize=False; total time=   2.3s\n",
            "[CV 3/5; 14/20] START alpha=1.4, fit_intercept=False, normalize=False...........\n",
            "[CV 3/5; 14/20] END alpha=1.4, fit_intercept=False, normalize=False; total time=   2.2s\n",
            "[CV 4/5; 14/20] START alpha=1.4, fit_intercept=False, normalize=False...........\n",
            "[CV 4/5; 14/20] END alpha=1.4, fit_intercept=False, normalize=False; total time=   2.4s\n",
            "[CV 5/5; 14/20] START alpha=1.4, fit_intercept=False, normalize=False...........\n",
            "[CV 5/5; 14/20] END alpha=1.4, fit_intercept=False, normalize=False; total time=   2.3s\n",
            "[CV 1/5; 15/20] START alpha=1.4, fit_intercept=True, normalize=True.............\n",
            "[CV 1/5; 15/20] END alpha=1.4, fit_intercept=True, normalize=True; total time=   2.3s\n",
            "[CV 2/5; 15/20] START alpha=1.4, fit_intercept=True, normalize=True.............\n",
            "[CV 2/5; 15/20] END alpha=1.4, fit_intercept=True, normalize=True; total time=   2.6s\n",
            "[CV 3/5; 15/20] START alpha=1.4, fit_intercept=True, normalize=True.............\n",
            "[CV 3/5; 15/20] END alpha=1.4, fit_intercept=True, normalize=True; total time=   2.5s\n",
            "[CV 4/5; 15/20] START alpha=1.4, fit_intercept=True, normalize=True.............\n",
            "[CV 4/5; 15/20] END alpha=1.4, fit_intercept=True, normalize=True; total time=   2.8s\n",
            "[CV 5/5; 15/20] START alpha=1.4, fit_intercept=True, normalize=True.............\n",
            "[CV 5/5; 15/20] END alpha=1.4, fit_intercept=True, normalize=True; total time=   2.6s\n",
            "[CV 1/5; 16/20] START alpha=1.4, fit_intercept=True, normalize=False............\n",
            "[CV 1/5; 16/20] END alpha=1.4, fit_intercept=True, normalize=False; total time=   2.5s\n",
            "[CV 2/5; 16/20] START alpha=1.4, fit_intercept=True, normalize=False............\n",
            "[CV 2/5; 16/20] END alpha=1.4, fit_intercept=True, normalize=False; total time=   2.5s\n",
            "[CV 3/5; 16/20] START alpha=1.4, fit_intercept=True, normalize=False............\n",
            "[CV 3/5; 16/20] END alpha=1.4, fit_intercept=True, normalize=False; total time=   2.4s\n",
            "[CV 4/5; 16/20] START alpha=1.4, fit_intercept=True, normalize=False............\n",
            "[CV 4/5; 16/20] END alpha=1.4, fit_intercept=True, normalize=False; total time=   2.4s\n",
            "[CV 5/5; 16/20] START alpha=1.4, fit_intercept=True, normalize=False............\n",
            "[CV 5/5; 16/20] END alpha=1.4, fit_intercept=True, normalize=False; total time=   2.3s\n",
            "[CV 1/5; 17/20] START alpha=1.5, fit_intercept=False, normalize=True............\n",
            "[CV 1/5; 17/20] END alpha=1.5, fit_intercept=False, normalize=True; total time=   2.2s\n",
            "[CV 2/5; 17/20] START alpha=1.5, fit_intercept=False, normalize=True............\n",
            "[CV 2/5; 17/20] END alpha=1.5, fit_intercept=False, normalize=True; total time=   2.3s\n",
            "[CV 3/5; 17/20] START alpha=1.5, fit_intercept=False, normalize=True............\n",
            "[CV 3/5; 17/20] END alpha=1.5, fit_intercept=False, normalize=True; total time=   2.2s\n",
            "[CV 4/5; 17/20] START alpha=1.5, fit_intercept=False, normalize=True............\n",
            "[CV 4/5; 17/20] END alpha=1.5, fit_intercept=False, normalize=True; total time=   2.2s\n",
            "[CV 5/5; 17/20] START alpha=1.5, fit_intercept=False, normalize=True............\n",
            "[CV 5/5; 17/20] END alpha=1.5, fit_intercept=False, normalize=True; total time=   2.3s\n",
            "[CV 1/5; 18/20] START alpha=1.5, fit_intercept=False, normalize=False...........\n",
            "[CV 1/5; 18/20] END alpha=1.5, fit_intercept=False, normalize=False; total time=   2.3s\n",
            "[CV 2/5; 18/20] START alpha=1.5, fit_intercept=False, normalize=False...........\n",
            "[CV 2/5; 18/20] END alpha=1.5, fit_intercept=False, normalize=False; total time=   2.3s\n",
            "[CV 3/5; 18/20] START alpha=1.5, fit_intercept=False, normalize=False...........\n",
            "[CV 3/5; 18/20] END alpha=1.5, fit_intercept=False, normalize=False; total time=   2.4s\n",
            "[CV 4/5; 18/20] START alpha=1.5, fit_intercept=False, normalize=False...........\n",
            "[CV 4/5; 18/20] END alpha=1.5, fit_intercept=False, normalize=False; total time=   2.3s\n",
            "[CV 5/5; 18/20] START alpha=1.5, fit_intercept=False, normalize=False...........\n",
            "[CV 5/5; 18/20] END alpha=1.5, fit_intercept=False, normalize=False; total time=   2.4s\n",
            "[CV 1/5; 19/20] START alpha=1.5, fit_intercept=True, normalize=True.............\n",
            "[CV 1/5; 19/20] END alpha=1.5, fit_intercept=True, normalize=True; total time=   2.7s\n",
            "[CV 2/5; 19/20] START alpha=1.5, fit_intercept=True, normalize=True.............\n",
            "[CV 2/5; 19/20] END alpha=1.5, fit_intercept=True, normalize=True; total time=   2.6s\n",
            "[CV 3/5; 19/20] START alpha=1.5, fit_intercept=True, normalize=True.............\n",
            "[CV 3/5; 19/20] END alpha=1.5, fit_intercept=True, normalize=True; total time=   2.5s\n",
            "[CV 4/5; 19/20] START alpha=1.5, fit_intercept=True, normalize=True.............\n",
            "[CV 4/5; 19/20] END alpha=1.5, fit_intercept=True, normalize=True; total time=   2.7s\n",
            "[CV 5/5; 19/20] START alpha=1.5, fit_intercept=True, normalize=True.............\n",
            "[CV 5/5; 19/20] END alpha=1.5, fit_intercept=True, normalize=True; total time=   2.4s\n",
            "[CV 1/5; 20/20] START alpha=1.5, fit_intercept=True, normalize=False............\n",
            "[CV 1/5; 20/20] END alpha=1.5, fit_intercept=True, normalize=False; total time=   2.3s\n",
            "[CV 2/5; 20/20] START alpha=1.5, fit_intercept=True, normalize=False............\n",
            "[CV 2/5; 20/20] END alpha=1.5, fit_intercept=True, normalize=False; total time=   2.4s\n",
            "[CV 3/5; 20/20] START alpha=1.5, fit_intercept=True, normalize=False............\n",
            "[CV 3/5; 20/20] END alpha=1.5, fit_intercept=True, normalize=False; total time=   2.3s\n",
            "[CV 4/5; 20/20] START alpha=1.5, fit_intercept=True, normalize=False............\n",
            "[CV 4/5; 20/20] END alpha=1.5, fit_intercept=True, normalize=False; total time=   2.2s\n",
            "[CV 5/5; 20/20] START alpha=1.5, fit_intercept=True, normalize=False............\n",
            "[CV 5/5; 20/20] END alpha=1.5, fit_intercept=True, normalize=False; total time=   2.5s\n",
            "CPU times: user 2min 26s, sys: 1min 39s, total: 4min 6s\n",
            "Wall time: 4min 8s\n"
          ]
        },
        {
          "data": {
            "text/plain": [
              "GridSearchCV(cv=5, estimator=Ridge(random_state=42),\n",
              "             param_grid=[{'alpha': [1, 1.1, 1.3, 1.4, 1.5],\n",
              "                          'fit_intercept': [False, True],\n",
              "                          'normalize': [True, False]}],\n",
              "             scoring=make_scorer(mean_squared_error, greater_is_better=False),\n",
              "             verbose=10)"
            ]
          },
          "execution_count": 53,
          "metadata": {},
          "output_type": "execute_result"
        }
      ],
      "source": [
        "%%time\n",
        "# При обучении категориальные признаки преобразуются методом OHE\n",
        "model_grid_search.fit(pd.get_dummies(train[X], \n",
        "                                     columns=['Gearbox', 'Model', \n",
        "                                              'Kilometer', 'Brand', \n",
        "                                              'Repaired', 'VehicleType', 'FuelType'],\n",
        "                                     drop_first=True), \n",
        "                      train[y])\n"
      ]
    },
    {
      "cell_type": "markdown",
      "metadata": {
        "id": "DSIkw_dOuIbX"
      },
      "source": [
        "Лучшие гиперпараметры модели:"
      ]
    },
    {
      "cell_type": "code",
      "execution_count": null,
      "metadata": {
        "colab": {
          "base_uri": "https://localhost:8080/"
        },
        "id": "rKT7GZy5pnUk",
        "outputId": "fb20f8ce-331d-4f30-9a46-2726f78c6f6a"
      },
      "outputs": [
        {
          "name": "stdout",
          "output_type": "stream",
          "text": [
            "{'alpha': 1.5, 'fit_intercept': True, 'normalize': False}\n"
          ]
        }
      ],
      "source": [
        "print(model_grid_search.best_params_)"
      ]
    },
    {
      "cell_type": "markdown",
      "metadata": {
        "id": "0n-DvIzlukrj"
      },
      "source": [
        "Предсказание модели на обучащей выборке:"
      ]
    },
    {
      "cell_type": "code",
      "execution_count": null,
      "metadata": {
        "colab": {
          "base_uri": "https://localhost:8080/"
        },
        "id": "yG9Mr1u-uRVT",
        "outputId": "1d61cb83-b2b0-4289-cc70-e12194f432c4"
      },
      "outputs": [
        {
          "name": "stdout",
          "output_type": "stream",
          "text": [
            "CPU times: user 694 ms, sys: 372 ms, total: 1.07 s\n",
            "Wall time: 1.01 s\n"
          ]
        },
        {
          "data": {
            "text/plain": [
              "array([ 9180.20350555, 10837.5543566 ,  3572.68048861, ...,\n",
              "        7170.61911319,  3230.2889923 ,   622.87216663])"
            ]
          },
          "execution_count": 65,
          "metadata": {},
          "output_type": "execute_result"
        }
      ],
      "source": [
        "%%time\n",
        "# При предсказании категориальные признаки преобразуются методом OHE\n",
        "model_grid_search.predict(pd.get_dummies(train[X], \n",
        "                                                  columns=['Gearbox', 'Model', \n",
        "                                                           'Kilometer', 'Brand', \n",
        "                                                           'Repaired', 'VehicleType', 'FuelType'], \n",
        "                                                  drop_first=True))                                                          "
      ]
    },
    {
      "cell_type": "markdown",
      "metadata": {
        "id": "Y6Z9Ozxvup4H"
      },
      "source": [
        "Качество модели на обучающей выборке:"
      ]
    },
    {
      "cell_type": "code",
      "execution_count": null,
      "metadata": {
        "colab": {
          "base_uri": "https://localhost:8080/"
        },
        "id": "h17__uqihUyW",
        "outputId": "518c7390-5b63-46f8-f4e5-e542ddd29557"
      },
      "outputs": [
        {
          "name": "stdout",
          "output_type": "stream",
          "text": [
            "Лучшее RMSE на обучающей выборке: 2597.\n"
          ]
        }
      ],
      "source": [
        "print(f'Лучшее RMSE на обучающей выборке: {round((-model_grid_search.best_score_) ** 0.5)}.')                                                          "
      ]
    },
    {
      "cell_type": "markdown",
      "metadata": {
        "id": "tm3FAIl0Hzon"
      },
      "source": [
        "**Вывод**: фактическое время обучения модели Ridge регресии составило 4 минуты 8 секунд, фактическое время предсказания - 1,01 секунды. Лучшее RMSE модели на обучающей выборке составляет 2 597."
      ]
    },
    {
      "cell_type": "markdown",
      "metadata": {
        "id": "bh7vLNQwPxq5"
      },
      "source": [
        "### LGBMRegressor"
      ]
    },
    {
      "cell_type": "markdown",
      "metadata": {
        "id": "CSAqAxaEjI-P"
      },
      "source": [
        "Меняем тип данных категориальных признаков с  object на category:"
      ]
    },
    {
      "cell_type": "code",
      "execution_count": null,
      "metadata": {
        "id": "59fpQfYBjI-P"
      },
      "outputs": [],
      "source": [
        "lgbm_train_X = train[X].copy()\n",
        "\n",
        "lgbm_train_X[['Gearbox', 'Model', \n",
        "             'Kilometer', 'Brand', \n",
        "             'Repaired', 'VehicleType', \n",
        "             'FuelType']] = lgbm_train_X[['Gearbox', 'Model', \n",
        "                                        'Kilometer', 'Brand', \n",
        "                                        'Repaired', 'VehicleType', \n",
        "                                        'FuelType']].astype('category')"
      ]
    },
    {
      "cell_type": "markdown",
      "metadata": {
        "id": "JwIW3wkWj8B7"
      },
      "source": [
        "Создаем сетку гиперпараметров, которые будем перебирать при обучении:"
      ]
    },
    {
      "cell_type": "code",
      "execution_count": null,
      "metadata": {
        "id": "FpW-AGfnZBCE"
      },
      "outputs": [],
      "source": [
        "model_lgbm_grid_search = GridSearchCV(LGBMRegressor(random_state=42),\n",
        "                                      [{'n_estimators': [100, 150],\n",
        "                                        'learning_rate': [0.01, 0.1]}],\n",
        "                                      cv=5, \n",
        "                                      scoring=make_scorer(mean_squared_error, \n",
        "                                                          greater_is_better=False), \n",
        "                                      verbose=10)"
      ]
    },
    {
      "cell_type": "markdown",
      "metadata": {
        "id": "FSDTzNwujzvK"
      },
      "source": [
        "Обучаем модель:"
      ]
    },
    {
      "cell_type": "code",
      "execution_count": null,
      "metadata": {
        "colab": {
          "base_uri": "https://localhost:8080/"
        },
        "id": "cA7rQcMViM7G",
        "outputId": "d02013d1-b5db-4f44-cbbb-f7b307d42f71",
        "scrolled": true
      },
      "outputs": [
        {
          "name": "stdout",
          "output_type": "stream",
          "text": [
            "Fitting 5 folds for each of 4 candidates, totalling 20 fits\n",
            "[CV 1/5; 1/4] START learning_rate=0.01, n_estimators=100........................\n",
            "[CV 1/5; 1/4] END ......learning_rate=0.01, n_estimators=100; total time= 1.2min\n",
            "[CV 2/5; 1/4] START learning_rate=0.01, n_estimators=100........................\n",
            "[CV 2/5; 1/4] END ......learning_rate=0.01, n_estimators=100; total time= 1.1min\n",
            "[CV 3/5; 1/4] START learning_rate=0.01, n_estimators=100........................\n",
            "[CV 3/5; 1/4] END ......learning_rate=0.01, n_estimators=100; total time= 1.1min\n",
            "[CV 4/5; 1/4] START learning_rate=0.01, n_estimators=100........................\n",
            "[CV 4/5; 1/4] END ......learning_rate=0.01, n_estimators=100; total time= 1.4min\n",
            "[CV 5/5; 1/4] START learning_rate=0.01, n_estimators=100........................\n",
            "[CV 5/5; 1/4] END ......learning_rate=0.01, n_estimators=100; total time=  51.3s\n",
            "[CV 1/5; 2/4] START learning_rate=0.01, n_estimators=150........................\n",
            "[CV 1/5; 2/4] END ......learning_rate=0.01, n_estimators=150; total time= 1.8min\n",
            "[CV 2/5; 2/4] START learning_rate=0.01, n_estimators=150........................\n",
            "[CV 2/5; 2/4] END ......learning_rate=0.01, n_estimators=150; total time=  52.2s\n",
            "[CV 3/5; 2/4] START learning_rate=0.01, n_estimators=150........................\n",
            "[CV 3/5; 2/4] END ......learning_rate=0.01, n_estimators=150; total time=  29.5s\n",
            "[CV 4/5; 2/4] START learning_rate=0.01, n_estimators=150........................\n",
            "[CV 4/5; 2/4] END ......learning_rate=0.01, n_estimators=150; total time=  46.4s\n",
            "[CV 5/5; 2/4] START learning_rate=0.01, n_estimators=150........................\n",
            "[CV 5/5; 2/4] END ......learning_rate=0.01, n_estimators=150; total time=   8.1s\n",
            "[CV 1/5; 3/4] START learning_rate=0.1, n_estimators=100.........................\n",
            "[CV 1/5; 3/4] END .......learning_rate=0.1, n_estimators=100; total time=  12.1s\n",
            "[CV 2/5; 3/4] START learning_rate=0.1, n_estimators=100.........................\n",
            "[CV 2/5; 3/4] END .......learning_rate=0.1, n_estimators=100; total time=  46.7s\n",
            "[CV 3/5; 3/4] START learning_rate=0.1, n_estimators=100.........................\n",
            "[CV 3/5; 3/4] END .......learning_rate=0.1, n_estimators=100; total time=  38.5s\n",
            "[CV 4/5; 3/4] START learning_rate=0.1, n_estimators=100.........................\n",
            "[CV 4/5; 3/4] END .......learning_rate=0.1, n_estimators=100; total time=  45.0s\n",
            "[CV 5/5; 3/4] START learning_rate=0.1, n_estimators=100.........................\n",
            "[CV 5/5; 3/4] END .......learning_rate=0.1, n_estimators=100; total time=  41.2s\n",
            "[CV 1/5; 4/4] START learning_rate=0.1, n_estimators=150.........................\n",
            "[CV 1/5; 4/4] END .......learning_rate=0.1, n_estimators=150; total time= 1.2min\n",
            "[CV 2/5; 4/4] START learning_rate=0.1, n_estimators=150.........................\n",
            "[CV 2/5; 4/4] END .......learning_rate=0.1, n_estimators=150; total time= 1.2min\n",
            "[CV 3/5; 4/4] START learning_rate=0.1, n_estimators=150.........................\n",
            "[CV 3/5; 4/4] END .......learning_rate=0.1, n_estimators=150; total time=  51.1s\n",
            "[CV 4/5; 4/4] START learning_rate=0.1, n_estimators=150.........................\n",
            "[CV 4/5; 4/4] END .......learning_rate=0.1, n_estimators=150; total time= 1.4min\n",
            "[CV 5/5; 4/4] START learning_rate=0.1, n_estimators=150.........................\n",
            "[CV 5/5; 4/4] END .......learning_rate=0.1, n_estimators=150; total time= 1.1min\n",
            "CPU times: user 19min 14s, sys: 6.66 s, total: 19min 20s\n",
            "Wall time: 19min 32s\n"
          ]
        },
        {
          "data": {
            "text/plain": [
              "GridSearchCV(cv=5, estimator=LGBMRegressor(random_state=42),\n",
              "             param_grid=[{'learning_rate': [0.01, 0.1],\n",
              "                          'n_estimators': [100, 150]}],\n",
              "             scoring=make_scorer(mean_squared_error, greater_is_better=False),\n",
              "             verbose=10)"
            ]
          },
          "execution_count": 68,
          "metadata": {},
          "output_type": "execute_result"
        }
      ],
      "source": [
        "%%time\n",
        "\n",
        "model_lgbm_grid_search.fit(lgbm_train_X, train[y])"
      ]
    },
    {
      "cell_type": "markdown",
      "metadata": {
        "id": "hj499NSbjhPl"
      },
      "source": [
        "Лучшие гиперпараметры модели:"
      ]
    },
    {
      "cell_type": "code",
      "execution_count": null,
      "metadata": {
        "colab": {
          "base_uri": "https://localhost:8080/"
        },
        "id": "H6iB_cMqjhPm",
        "outputId": "272966ed-dc56-4d70-ebd4-e840093b33a0"
      },
      "outputs": [
        {
          "name": "stdout",
          "output_type": "stream",
          "text": [
            "{'learning_rate': 0.1, 'n_estimators': 150}\n"
          ]
        }
      ],
      "source": [
        "print(model_lgbm_grid_search.best_params_)"
      ]
    },
    {
      "cell_type": "markdown",
      "metadata": {
        "id": "8-Nw2Wt2jhPo"
      },
      "source": [
        "Предсказание модели на обучающей выборке:"
      ]
    },
    {
      "cell_type": "code",
      "execution_count": null,
      "metadata": {
        "colab": {
          "base_uri": "https://localhost:8080/"
        },
        "id": "cqrDkod8jhPp",
        "outputId": "841dd8bd-733e-46c7-f710-fcfadf2b2150"
      },
      "outputs": [
        {
          "name": "stdout",
          "output_type": "stream",
          "text": [
            "CPU times: user 3.41 s, sys: 0 ns, total: 3.41 s\n",
            "Wall time: 3.41 s\n"
          ]
        },
        {
          "data": {
            "text/plain": [
              "array([ 8532.52486147, 16632.0231718 ,  2304.07550716, ...,\n",
              "        3483.59318308,   752.52743933,   994.33375236])"
            ]
          },
          "execution_count": 72,
          "metadata": {},
          "output_type": "execute_result"
        }
      ],
      "source": [
        "%%time\n",
        "\n",
        "model_lgbm_grid_search.predict(lgbm_train_X)                                                          "
      ]
    },
    {
      "cell_type": "markdown",
      "metadata": {
        "id": "OF335i3ojhPq"
      },
      "source": [
        "Проверка качества модели на обучающей выборке:"
      ]
    },
    {
      "cell_type": "code",
      "execution_count": null,
      "metadata": {
        "colab": {
          "base_uri": "https://localhost:8080/"
        },
        "id": "BTkSmAGRjhPr",
        "outputId": "c423ddbf-4028-441f-dfbb-b4e77d629912"
      },
      "outputs": [
        {
          "name": "stdout",
          "output_type": "stream",
          "text": [
            "Лучшая RMSE на обучающей выборке: 1627.\n"
          ]
        }
      ],
      "source": [
        "print(f'Лучшая RMSE на обучающей выборке: {round((-model_lgbm_grid_search.best_score_) ** 0.5)}.')                                                          "
      ]
    },
    {
      "cell_type": "markdown",
      "metadata": {
        "id": "V3N3ng1FjhPt"
      },
      "source": [
        "**Вывод**: фактическое время обучения модели LGBM Regressor регресии составило 19 минут 14 секунд, фактическое время предсказания - 3,41 секунды. Лучшая RMSE модели составляет 1 627."
      ]
    },
    {
      "cell_type": "markdown",
      "metadata": {
        "id": "5ts_vDo1jI-d"
      },
      "source": [
        "###  Random Forest"
      ]
    },
    {
      "cell_type": "markdown",
      "metadata": {
        "id": "VsDfCZwxjI-e"
      },
      "source": [
        "Создаем сетку гиперпараметров, которые будем перебирать при обучении:"
      ]
    },
    {
      "cell_type": "code",
      "execution_count": null,
      "metadata": {
        "id": "HWnxEkXIjI-e"
      },
      "outputs": [],
      "source": [
        "rfr_model_grid_search = GridSearchCV(RandomForestRegressor(random_state=42), \n",
        "                                     [{'n_estimators': [100, 150], \n",
        "                                       'max_depth': [7, 9]}], \n",
        "                                     cv=5, \n",
        "                                     scoring=make_scorer(mean_squared_error, \n",
        "                                                         greater_is_better=False),\n",
        "                                     verbose=10)"
      ]
    },
    {
      "cell_type": "markdown",
      "metadata": {
        "id": "djerTfqtjI-f"
      },
      "source": [
        "Обучаем модель:"
      ]
    },
    {
      "cell_type": "code",
      "execution_count": null,
      "metadata": {
        "id": "D3FI07QbjI-f",
        "outputId": "a61e29d6-f82d-4283-a6c2-6ad7e634b98b"
      },
      "outputs": [
        {
          "name": "stdout",
          "output_type": "stream",
          "text": [
            "Fitting 5 folds for each of 4 candidates, totalling 20 fits\n",
            "[CV 1/5; 1/4] START max_depth=7, n_estimators=100...............................\n",
            "[CV 1/5; 1/4] END .............max_depth=7, n_estimators=100; total time= 3.1min\n",
            "[CV 2/5; 1/4] START max_depth=7, n_estimators=100...............................\n",
            "[CV 2/5; 1/4] END .............max_depth=7, n_estimators=100; total time= 3.1min\n",
            "[CV 3/5; 1/4] START max_depth=7, n_estimators=100...............................\n",
            "[CV 3/5; 1/4] END .............max_depth=7, n_estimators=100; total time= 3.1min\n",
            "[CV 4/5; 1/4] START max_depth=7, n_estimators=100...............................\n",
            "[CV 4/5; 1/4] END .............max_depth=7, n_estimators=100; total time= 3.1min\n",
            "[CV 5/5; 1/4] START max_depth=7, n_estimators=100...............................\n",
            "[CV 5/5; 1/4] END .............max_depth=7, n_estimators=100; total time= 3.1min\n",
            "[CV 1/5; 2/4] START max_depth=7, n_estimators=150...............................\n",
            "[CV 1/5; 2/4] END .............max_depth=7, n_estimators=150; total time= 4.7min\n",
            "[CV 2/5; 2/4] START max_depth=7, n_estimators=150...............................\n",
            "[CV 2/5; 2/4] END .............max_depth=7, n_estimators=150; total time= 4.9min\n",
            "[CV 3/5; 2/4] START max_depth=7, n_estimators=150...............................\n",
            "[CV 3/5; 2/4] END .............max_depth=7, n_estimators=150; total time= 5.0min\n",
            "[CV 4/5; 2/4] START max_depth=7, n_estimators=150...............................\n",
            "[CV 4/5; 2/4] END .............max_depth=7, n_estimators=150; total time= 5.0min\n",
            "[CV 5/5; 2/4] START max_depth=7, n_estimators=150...............................\n",
            "[CV 5/5; 2/4] END .............max_depth=7, n_estimators=150; total time= 5.1min\n",
            "[CV 1/5; 3/4] START max_depth=9, n_estimators=100...............................\n",
            "[CV 1/5; 3/4] END .............max_depth=9, n_estimators=100; total time= 4.2min\n",
            "[CV 2/5; 3/4] START max_depth=9, n_estimators=100...............................\n",
            "[CV 2/5; 3/4] END .............max_depth=9, n_estimators=100; total time= 4.2min\n",
            "[CV 3/5; 3/4] START max_depth=9, n_estimators=100...............................\n",
            "[CV 3/5; 3/4] END .............max_depth=9, n_estimators=100; total time= 4.2min\n",
            "[CV 4/5; 3/4] START max_depth=9, n_estimators=100...............................\n",
            "[CV 4/5; 3/4] END .............max_depth=9, n_estimators=100; total time= 4.2min\n",
            "[CV 5/5; 3/4] START max_depth=9, n_estimators=100...............................\n",
            "[CV 5/5; 3/4] END .............max_depth=9, n_estimators=100; total time= 4.1min\n",
            "[CV 1/5; 4/4] START max_depth=9, n_estimators=150...............................\n",
            "[CV 1/5; 4/4] END .............max_depth=9, n_estimators=150; total time= 6.0min\n",
            "[CV 2/5; 4/4] START max_depth=9, n_estimators=150...............................\n",
            "[CV 2/5; 4/4] END .............max_depth=9, n_estimators=150; total time= 6.1min\n",
            "[CV 3/5; 4/4] START max_depth=9, n_estimators=150...............................\n",
            "[CV 3/5; 4/4] END .............max_depth=9, n_estimators=150; total time= 6.1min\n",
            "[CV 4/5; 4/4] START max_depth=9, n_estimators=150...............................\n",
            "[CV 4/5; 4/4] END .............max_depth=9, n_estimators=150; total time= 6.0min\n",
            "[CV 5/5; 4/4] START max_depth=9, n_estimators=150...............................\n",
            "[CV 5/5; 4/4] END .............max_depth=9, n_estimators=150; total time= 5.8min\n",
            "CPU times: user 1h 38min 45s, sys: 22.2 s, total: 1h 39min 7s\n",
            "Wall time: 1h 39min 17s\n"
          ]
        },
        {
          "data": {
            "text/plain": [
              "GridSearchCV(cv=5, estimator=RandomForestRegressor(random_state=42),\n",
              "             param_grid=[{'max_depth': [7, 9], 'n_estimators': [100, 150]}],\n",
              "             scoring=make_scorer(mean_squared_error, greater_is_better=False),\n",
              "             verbose=10)"
            ]
          },
          "execution_count": 56,
          "metadata": {},
          "output_type": "execute_result"
        }
      ],
      "source": [
        "%%time\n",
        "# При обучении категориальные признаки преобразуются методом OHE\n",
        "rfr_model_grid_search.fit(pd.get_dummies(train[X], \n",
        "                                         columns=['Gearbox', 'Model', \n",
        "                                                  'Kilometer', 'Brand', \n",
        "                                                  'Repaired', 'VehicleType', 'FuelType'],\n",
        "                                         drop_first=True), \n",
        "                          train[y])\n"
      ]
    },
    {
      "cell_type": "markdown",
      "metadata": {
        "id": "uNaSLeRnjI-g"
      },
      "source": [
        "Лучшие гиперпараметры модели:"
      ]
    },
    {
      "cell_type": "code",
      "execution_count": null,
      "metadata": {
        "id": "lFbzBCUKjI-h",
        "outputId": "c21bbc7a-aac8-4959-c42f-d56f6b0b425c"
      },
      "outputs": [
        {
          "name": "stdout",
          "output_type": "stream",
          "text": [
            "{'max_depth': 9, 'n_estimators': 150}\n"
          ]
        }
      ],
      "source": [
        "print(rfr_model_grid_search.best_params_)"
      ]
    },
    {
      "cell_type": "markdown",
      "metadata": {
        "id": "QHbFc_8PjI-h"
      },
      "source": [
        "Предсказание модели на обучающей выборке:"
      ]
    },
    {
      "cell_type": "code",
      "execution_count": null,
      "metadata": {
        "id": "SC80Fs7hjI-i",
        "outputId": "c1f33f74-e779-4291-8628-0105a51d4df2"
      },
      "outputs": [
        {
          "name": "stdout",
          "output_type": "stream",
          "text": [
            "CPU times: user 4.08 s, sys: 344 ms, total: 4.43 s\n",
            "Wall time: 4.47 s\n"
          ]
        },
        {
          "data": {
            "text/plain": [
              "array([ 5933.47902361, 13737.9767441 ,  1696.34771535, ...,\n",
              "        2045.99511004,   988.4636548 ,  1005.61683106])"
            ]
          },
          "execution_count": 59,
          "metadata": {},
          "output_type": "execute_result"
        }
      ],
      "source": [
        "%%time\n",
        "# При предсказании категориальные признаки преобразуются методом OHE\n",
        "rfr_model_grid_search.predict(pd.get_dummies(train[X], \n",
        "                                             columns=['Gearbox', 'Model', \n",
        "                                                      'Kilometer', 'Brand', \n",
        "                                                      'Repaired', 'VehicleType', 'FuelType'], \n",
        "                                             drop_first=True))  "
      ]
    },
    {
      "cell_type": "markdown",
      "metadata": {
        "id": "KIlbCliDjI-j"
      },
      "source": [
        "Проверка качества модели на обучающей выборке:"
      ]
    },
    {
      "cell_type": "code",
      "execution_count": null,
      "metadata": {
        "id": "_qYc6xqmjI-j",
        "outputId": "a7cb1bec-c9f0-4f99-c2f3-88aa42114696"
      },
      "outputs": [
        {
          "name": "stdout",
          "output_type": "stream",
          "text": [
            "Лучшая RMSE на тестовой выборке: 1993.\n",
            "CPU times: user 155 µs, sys: 0 ns, total: 155 µs\n",
            "Wall time: 138 µs\n"
          ]
        }
      ],
      "source": [
        "%%time\n",
        "print(f'Лучшая RMSE на тестовой выборке: {round((-rfr_model_grid_search.best_score_) ** 0.5)}.')                                                          "
      ]
    },
    {
      "cell_type": "markdown",
      "metadata": {
        "id": "uSNIvCQsjI-k"
      },
      "source": [
        "**Вывод**: фактическое время обучения модели Random Forest регресии составило 1 час 38 минут 17 секунд, фактическое время предсказания - 4,47 секунды. Лучшая RMSE модели составляет 1 993."
      ]
    },
    {
      "cell_type": "markdown",
      "metadata": {
        "id": "uTzdrnUUjI-m"
      },
      "source": [
        "## Выбор лучшей модели"
      ]
    },
    {
      "cell_type": "markdown",
      "metadata": {
        "id": "sPwPOPKFjI-n"
      },
      "source": [
        "Быстрее всех обучалась и предсказывала модель Ridge регрессии, но ее RMSE больше 2 500, требуемых заказчиком. \n",
        "\n",
        "Медленнее всех обучалась обучалась (более полутора часов) и предсказывала модель Random Forest, ее RMSE на обучающей выборке - 1 993.\n",
        "\n",
        "Лучшее RMSE, равное 1 627, продемонстрировала модель LGBM Regressor, время ее обучения - 19 минут 14 секунд.\n",
        "\n",
        "Предлагаем использовать модель LGBM Regressor."
      ]
    },
    {
      "cell_type": "markdown",
      "metadata": {
        "id": "WE91RAqcjI-o"
      },
      "source": [
        "## Тестирование лучшей модели"
      ]
    },
    {
      "cell_type": "markdown",
      "metadata": {
        "id": "IGSjWrFyjI-o"
      },
      "source": [
        "Меняем тип данных категориальных признаков с object на category:"
      ]
    },
    {
      "cell_type": "code",
      "execution_count": null,
      "metadata": {
        "id": "AzFXQfwRjI-p"
      },
      "outputs": [],
      "source": [
        "lgbm_test_X = test[X].copy()\n",
        "\n",
        "lgbm_test_X[['Gearbox', 'Model', \n",
        "             'Kilometer', 'Brand', \n",
        "             'Repaired', 'VehicleType', \n",
        "             'FuelType']] = lgbm_test_X[['Gearbox', 'Model', \n",
        "                                        'Kilometer', 'Brand', \n",
        "                                        'Repaired', 'VehicleType', \n",
        "                                        'FuelType']].astype('category')"
      ]
    },
    {
      "cell_type": "markdown",
      "metadata": {
        "id": "UJq2AofyjI-q"
      },
      "source": [
        "Предсказание модели на тестовой выборке:"
      ]
    },
    {
      "cell_type": "code",
      "execution_count": null,
      "metadata": {
        "id": "ZrDS1j6qjI-q",
        "outputId": "aa19bd12-9cd0-4e5f-ed19-d050911eb0b3"
      },
      "outputs": [
        {
          "name": "stdout",
          "output_type": "stream",
          "text": [
            "CPU times: user 1.19 s, sys: 6.22 ms, total: 1.2 s\n",
            "Wall time: 1.11 s\n"
          ]
        }
      ],
      "source": [
        "%%time\n",
        "y_pred = model_lgbm_grid_search.predict(lgbm_test_X)     "
      ]
    },
    {
      "cell_type": "markdown",
      "metadata": {
        "id": "3tCL6IAgjI-r"
      },
      "source": [
        "Проверка качества модели на тествовой выборке:"
      ]
    },
    {
      "cell_type": "code",
      "execution_count": null,
      "metadata": {
        "id": "T710s6ZJjI-s",
        "outputId": "219827e3-a61d-4405-85c2-eb17bd7ca389"
      },
      "outputs": [
        {
          "name": "stdout",
          "output_type": "stream",
          "text": [
            "RMSE на тестовой выборке: 1608.\n"
          ]
        }
      ],
      "source": [
        "print(f'RMSE на тестовой выборке: {round(mean_squared_error(test[y], y_pred) ** 0.5)}.')"
      ]
    },
    {
      "cell_type": "markdown",
      "metadata": {
        "id": "UIS45uOzmseQ"
      },
      "source": [
        "## Вывод"
      ]
    },
    {
      "cell_type": "markdown",
      "metadata": {
        "id": "3MfEFrsQmzSd"
      },
      "source": [
        "<b> При работе над проектом нами были:\n",
        "\n",
        "1. изучены и подготовлены данные;\n",
        "\n",
        "2. пропуски в категориальных признаках заполнены новым категориальным значением;\n",
        "\n",
        "3. из данных удалены наблюдения с аномальными значениями;\n",
        "\n",
        "4. с помощью кросс-валидации и подбора гипарпараметров обучены и оценены модели на тестовой выборке\n",
        "\n",
        "\n",
        "Модели обучали алгоритмами Ridge регрессии и LGBM Regressor. \n",
        "\n",
        "Наилучший результат по качеству был получен моделью LGBM Regressor:\n",
        "\n",
        "- `RMSE` - 1 608,\n",
        "- `время обучения` - 19 минута 14 секунд,\n",
        "- `время предсказания` - 1,11 секунда."
      ]
    }
  ],
  "metadata": {
    "ExecuteTimeLog": [
      {
        "duration": 1674,
        "start_time": "2022-11-17T06:42:12.325Z"
      },
      {
        "duration": 2275,
        "start_time": "2022-11-17T06:42:14.937Z"
      },
      {
        "duration": 30,
        "start_time": "2022-11-17T06:42:23.010Z"
      },
      {
        "duration": 1076,
        "start_time": "2022-11-17T06:42:28.444Z"
      },
      {
        "duration": 111,
        "start_time": "2022-11-17T06:42:39.174Z"
      },
      {
        "duration": 99,
        "start_time": "2022-11-17T06:42:46.205Z"
      },
      {
        "duration": 19,
        "start_time": "2022-11-17T06:43:05.324Z"
      },
      {
        "duration": 177,
        "start_time": "2022-11-17T06:43:07.439Z"
      },
      {
        "duration": 33,
        "start_time": "2022-11-17T06:43:29.807Z"
      },
      {
        "duration": 20,
        "start_time": "2022-11-17T06:43:37.645Z"
      },
      {
        "duration": 175,
        "start_time": "2022-11-17T06:43:39.596Z"
      },
      {
        "duration": 28,
        "start_time": "2022-11-17T06:43:56.975Z"
      },
      {
        "duration": 20,
        "start_time": "2022-11-17T06:44:00.518Z"
      },
      {
        "duration": 28,
        "start_time": "2022-11-17T06:44:11.781Z"
      },
      {
        "duration": 50,
        "start_time": "2022-11-17T06:44:24.503Z"
      },
      {
        "duration": 41,
        "start_time": "2022-11-17T06:44:38.654Z"
      },
      {
        "duration": 17,
        "start_time": "2022-11-17T06:44:45.303Z"
      },
      {
        "duration": 140,
        "start_time": "2022-11-17T06:44:47.615Z"
      },
      {
        "duration": 31,
        "start_time": "2022-11-17T06:44:56.522Z"
      },
      {
        "duration": 19,
        "start_time": "2022-11-17T06:45:05.415Z"
      },
      {
        "duration": 165,
        "start_time": "2022-11-17T06:45:06.885Z"
      },
      {
        "duration": 28,
        "start_time": "2022-11-17T06:45:21.486Z"
      },
      {
        "duration": 94,
        "start_time": "2022-11-17T06:45:22.199Z"
      },
      {
        "duration": 10,
        "start_time": "2022-11-17T06:45:56.109Z"
      },
      {
        "duration": 86,
        "start_time": "2022-11-17T06:46:00.910Z"
      },
      {
        "duration": 32,
        "start_time": "2022-11-17T06:46:33.632Z"
      },
      {
        "duration": 33,
        "start_time": "2022-11-17T06:46:37.389Z"
      },
      {
        "duration": 97,
        "start_time": "2022-11-17T06:46:43.244Z"
      },
      {
        "duration": 44,
        "start_time": "2022-11-17T06:46:59.869Z"
      },
      {
        "duration": 9,
        "start_time": "2022-11-17T06:47:08.223Z"
      },
      {
        "duration": 8,
        "start_time": "2022-11-17T06:47:19.773Z"
      },
      {
        "duration": 48,
        "start_time": "2022-11-17T06:47:28.939Z"
      },
      {
        "duration": 66,
        "start_time": "2022-11-17T06:47:29.535Z"
      },
      {
        "duration": 826,
        "start_time": "2022-11-17T06:47:30.204Z"
      },
      {
        "duration": 6,
        "start_time": "2022-11-17T06:47:31.544Z"
      },
      {
        "duration": 162,
        "start_time": "2022-11-17T06:47:39.698Z"
      },
      {
        "duration": 37,
        "start_time": "2022-11-17T06:47:44.244Z"
      },
      {
        "duration": 22,
        "start_time": "2022-11-17T06:47:48.609Z"
      },
      {
        "duration": 140,
        "start_time": "2022-11-17T06:47:55.535Z"
      },
      {
        "duration": 155,
        "start_time": "2022-11-17T06:48:12.927Z"
      },
      {
        "duration": 66,
        "start_time": "2022-11-17T06:48:24.336Z"
      },
      {
        "duration": 36,
        "start_time": "2022-11-17T06:48:29.614Z"
      },
      {
        "duration": 195,
        "start_time": "2022-11-17T06:48:35.659Z"
      },
      {
        "duration": 222,
        "start_time": "2022-11-17T06:48:51.845Z"
      },
      {
        "duration": 9,
        "start_time": "2022-11-17T06:48:57.090Z"
      },
      {
        "duration": 46,
        "start_time": "2022-11-17T06:49:10.786Z"
      },
      {
        "duration": 345,
        "start_time": "2022-11-17T06:51:27.421Z"
      },
      {
        "duration": 337,
        "start_time": "2022-11-17T06:51:37.496Z"
      },
      {
        "duration": 700,
        "start_time": "2022-11-17T06:55:12.236Z"
      },
      {
        "duration": 3,
        "start_time": "2022-11-17T06:56:27.315Z"
      },
      {
        "duration": 130,
        "start_time": "2022-11-17T06:56:29.113Z"
      },
      {
        "duration": 4,
        "start_time": "2022-11-17T06:57:15.522Z"
      },
      {
        "duration": 248179,
        "start_time": "2022-11-17T06:57:21.252Z"
      },
      {
        "duration": 3,
        "start_time": "2022-11-17T07:01:54.533Z"
      },
      {
        "duration": 170,
        "start_time": "2022-11-17T07:02:53.594Z"
      },
      {
        "duration": 967,
        "start_time": "2022-11-17T07:03:01.765Z"
      },
      {
        "duration": 6,
        "start_time": "2022-11-17T07:03:44.392Z"
      },
      {
        "duration": 4,
        "start_time": "2022-11-17T07:06:28.033Z"
      },
      {
        "duration": 5,
        "start_time": "2022-11-17T07:06:56.032Z"
      },
      {
        "duration": 3,
        "start_time": "2022-11-17T07:07:06.922Z"
      },
      {
        "duration": 5,
        "start_time": "2022-11-17T07:07:21.640Z"
      },
      {
        "duration": 4,
        "start_time": "2022-11-17T07:08:25.751Z"
      },
      {
        "duration": 3,
        "start_time": "2022-11-17T07:09:03.337Z"
      },
      {
        "duration": 4,
        "start_time": "2022-11-17T07:09:23.793Z"
      },
      {
        "duration": 1108,
        "start_time": "2022-11-17T07:09:57.116Z"
      },
      {
        "duration": 199,
        "start_time": "2022-11-17T07:14:11.800Z"
      },
      {
        "duration": 87,
        "start_time": "2022-11-17T07:15:21.039Z"
      },
      {
        "duration": 4,
        "start_time": "2022-11-17T07:15:25.659Z"
      },
      {
        "duration": 999474,
        "start_time": "2022-11-17T07:15:27.458Z"
      },
      {
        "duration": 4,
        "start_time": "2022-11-17T07:32:53.064Z"
      },
      {
        "duration": 99,
        "start_time": "2022-11-17T07:33:03.271Z"
      },
      {
        "duration": 3412,
        "start_time": "2022-11-17T07:33:15.923Z"
      },
      {
        "duration": 5,
        "start_time": "2022-11-17T07:33:32.451Z"
      },
      {
        "duration": 3,
        "start_time": "2022-11-17T07:35:27.582Z"
      },
      {
        "duration": 1685051,
        "start_time": "2022-11-17T07:41:33.293Z"
      },
      {
        "duration": 12,
        "start_time": "2022-11-17T08:11:36.963Z"
      },
      {
        "duration": 29,
        "start_time": "2022-11-17T08:12:13.112Z"
      },
      {
        "duration": 4,
        "start_time": "2022-11-17T08:12:21.610Z"
      },
      {
        "duration": 1150787,
        "start_time": "2022-11-17T08:13:52.757Z"
      },
      {
        "duration": 48,
        "start_time": "2022-11-17T08:33:40.084Z"
      },
      {
        "duration": 1375,
        "start_time": "2022-11-17T08:33:55.313Z"
      },
      {
        "duration": 4,
        "start_time": "2022-11-17T08:34:17.744Z"
      },
      {
        "duration": 146,
        "start_time": "2022-11-17T08:34:21.345Z"
      },
      {
        "duration": 4,
        "start_time": "2022-11-17T08:35:00.060Z"
      },
      {
        "duration": 2232,
        "start_time": "2022-11-17T08:35:01.652Z"
      },
      {
        "duration": 26,
        "start_time": "2022-11-17T08:35:03.886Z"
      },
      {
        "duration": 894,
        "start_time": "2022-11-17T08:35:05.265Z"
      },
      {
        "duration": 125,
        "start_time": "2022-11-17T08:35:06.724Z"
      },
      {
        "duration": 111,
        "start_time": "2022-11-17T08:35:08.793Z"
      },
      {
        "duration": 20,
        "start_time": "2022-11-17T08:35:12.743Z"
      },
      {
        "duration": 164,
        "start_time": "2022-11-17T08:35:13.780Z"
      },
      {
        "duration": 38,
        "start_time": "2022-11-17T08:35:15.293Z"
      },
      {
        "duration": 20,
        "start_time": "2022-11-17T08:35:17.726Z"
      },
      {
        "duration": 175,
        "start_time": "2022-11-17T08:35:18.938Z"
      },
      {
        "duration": 33,
        "start_time": "2022-11-17T08:35:20.252Z"
      },
      {
        "duration": 22,
        "start_time": "2022-11-17T08:35:22.888Z"
      },
      {
        "duration": 33,
        "start_time": "2022-11-17T08:35:24.386Z"
      },
      {
        "duration": 55,
        "start_time": "2022-11-17T08:35:25.692Z"
      },
      {
        "duration": 47,
        "start_time": "2022-11-17T08:35:27.129Z"
      },
      {
        "duration": 19,
        "start_time": "2022-11-17T08:35:29.564Z"
      },
      {
        "duration": 141,
        "start_time": "2022-11-17T08:35:30.765Z"
      },
      {
        "duration": 33,
        "start_time": "2022-11-17T08:35:31.925Z"
      },
      {
        "duration": 19,
        "start_time": "2022-11-17T08:35:34.389Z"
      },
      {
        "duration": 257,
        "start_time": "2022-11-17T08:35:35.518Z"
      },
      {
        "duration": 33,
        "start_time": "2022-11-17T08:35:36.511Z"
      },
      {
        "duration": 101,
        "start_time": "2022-11-17T08:35:37.004Z"
      },
      {
        "duration": 17,
        "start_time": "2022-11-17T08:35:41.582Z"
      },
      {
        "duration": 102,
        "start_time": "2022-11-17T08:35:42.411Z"
      },
      {
        "duration": 42,
        "start_time": "2022-11-17T08:35:44.828Z"
      },
      {
        "duration": 39,
        "start_time": "2022-11-17T08:35:46.636Z"
      },
      {
        "duration": 100,
        "start_time": "2022-11-17T08:35:47.670Z"
      },
      {
        "duration": 49,
        "start_time": "2022-11-17T08:35:48.790Z"
      },
      {
        "duration": 9,
        "start_time": "2022-11-17T08:35:50.894Z"
      },
      {
        "duration": 10,
        "start_time": "2022-11-17T08:35:52.387Z"
      },
      {
        "duration": 55,
        "start_time": "2022-11-17T08:35:53.329Z"
      },
      {
        "duration": 78,
        "start_time": "2022-11-17T08:35:53.883Z"
      },
      {
        "duration": 747,
        "start_time": "2022-11-17T08:35:54.949Z"
      },
      {
        "duration": 5,
        "start_time": "2022-11-17T08:35:55.768Z"
      },
      {
        "duration": 152,
        "start_time": "2022-11-17T08:36:00.027Z"
      },
      {
        "duration": 40,
        "start_time": "2022-11-17T08:36:01.237Z"
      },
      {
        "duration": 21,
        "start_time": "2022-11-17T08:36:02.524Z"
      },
      {
        "duration": 151,
        "start_time": "2022-11-17T08:36:03.553Z"
      },
      {
        "duration": 168,
        "start_time": "2022-11-17T08:36:06.260Z"
      },
      {
        "duration": 79,
        "start_time": "2022-11-17T08:36:09.685Z"
      },
      {
        "duration": 42,
        "start_time": "2022-11-17T08:36:11.487Z"
      },
      {
        "duration": 210,
        "start_time": "2022-11-17T08:36:13.832Z"
      },
      {
        "duration": 220,
        "start_time": "2022-11-17T08:36:16.745Z"
      },
      {
        "duration": 9,
        "start_time": "2022-11-17T08:36:19.283Z"
      },
      {
        "duration": 48,
        "start_time": "2022-11-17T08:36:20.834Z"
      },
      {
        "duration": 358,
        "start_time": "2022-11-17T08:36:23.114Z"
      },
      {
        "duration": 760,
        "start_time": "2022-11-17T08:36:25.129Z"
      },
      {
        "duration": 3,
        "start_time": "2022-11-17T08:36:33.281Z"
      },
      {
        "duration": 144,
        "start_time": "2022-11-17T08:36:34.486Z"
      },
      {
        "duration": 3,
        "start_time": "2022-11-17T08:36:49.427Z"
      },
      {
        "duration": 5957922,
        "start_time": "2022-11-17T08:36:57.516Z"
      },
      {
        "duration": 3,
        "start_time": "2022-11-17T10:16:26.246Z"
      },
      {
        "duration": 90,
        "start_time": "2022-11-17T10:16:34.391Z"
      },
      {
        "duration": 4472,
        "start_time": "2022-11-17T10:16:47.180Z"
      },
      {
        "duration": 37,
        "start_time": "2022-11-17T10:16:57.077Z"
      },
      {
        "duration": 5,
        "start_time": "2022-11-17T10:17:07.659Z"
      },
      {
        "duration": 154,
        "start_time": "2022-11-17T10:23:16.288Z"
      },
      {
        "duration": 3,
        "start_time": "2022-11-17T10:23:25.472Z"
      },
      {
        "duration": 61,
        "start_time": "2022-11-17T10:27:59.693Z"
      },
      {
        "duration": 14,
        "start_time": "2022-11-17T10:29:39.342Z"
      },
      {
        "duration": 153,
        "start_time": "2022-11-17T10:29:46.540Z"
      },
      {
        "duration": 5,
        "start_time": "2022-11-17T10:29:47.845Z"
      },
      {
        "duration": 1172896,
        "start_time": "2022-11-17T10:29:59.233Z"
      },
      {
        "duration": 1203,
        "start_time": "2022-11-17T10:51:01.639Z"
      },
      {
        "duration": 1187,
        "start_time": "2022-11-17T10:51:16.936Z"
      },
      {
        "duration": 5,
        "start_time": "2022-11-17T10:52:01.479Z"
      }
    ],
    "colab": {
      "provenance": [],
      "include_colab_link": true
    },
    "kernelspec": {
      "display_name": "Python 3 (ipykernel)",
      "language": "python",
      "name": "python3"
    },
    "language_info": {
      "codemirror_mode": {
        "name": "ipython",
        "version": 3
      },
      "file_extension": ".py",
      "mimetype": "text/x-python",
      "name": "python",
      "nbconvert_exporter": "python",
      "pygments_lexer": "ipython3",
      "version": "3.9.5"
    },
    "toc": {
      "base_numbering": 1,
      "nav_menu": {},
      "number_sections": true,
      "sideBar": true,
      "skip_h1_title": true,
      "title_cell": "Table of Contents",
      "title_sidebar": "Contents",
      "toc_cell": false,
      "toc_position": {
        "height": "calc(100% - 180px)",
        "left": "10px",
        "top": "150px",
        "width": "255.391px"
      },
      "toc_section_display": true,
      "toc_window_display": true
    }
  },
  "nbformat": 4,
  "nbformat_minor": 0
}