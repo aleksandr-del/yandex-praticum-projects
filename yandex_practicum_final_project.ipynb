{
  "cells": [
    {
      "cell_type": "markdown",
      "metadata": {
        "id": "view-in-github",
        "colab_type": "text"
      },
      "source": [
        "<a href=\"https://colab.research.google.com/github/aleksandr-del/yandex-praticum-projects/blob/main/yandex_practicum_final_project.ipynb\" target=\"_parent\"><img src=\"https://colab.research.google.com/assets/colab-badge.svg\" alt=\"Open In Colab\"/></a>"
      ]
    },
    {
      "cell_type": "markdown",
      "metadata": {
        "id": "Ey1HGXx3KVKG"
      },
      "source": [
        "# Промышленность\n",
        "\n",
        "Чтобы оптимизировать производственные расходы, металлургический комбинат решил уменьшить потребление электроэнергии на этапе обработки стали. \n",
        "\n",
        "В настоящем проекте нам предстоит построить модель, которая предскажет температуру стали.\n",
        "\n",
        "### Описание этапа обработки\n",
        "\n",
        "Сталь обрабатывают в металлическом ковше вместимостью около 100 тонн. Чтобы ковш выдерживал высокие температуры, изнутри его облицовывают огнеупорным кирпичом. Расплавленную сталь заливают в ковш и подогревают до нужной температуры графитовыми электродами. Они установлены в крышке ковша. \n",
        "\n",
        "Из сплава выводится сера (десульфурация), добавлением примесей корректируется химический состав и отбираются пробы. Сталь легируют — изменяют её состав — подавая куски сплава из бункера для сыпучих материалов или проволоку через специальный трайб-аппарат (англ. tribe, «масса»).\n",
        "\n",
        "Перед тем как первый раз ввести легирующие добавки, измеряют температуру стали и производят её химический анализ. Потом температуру на несколько минут повышают, добавляют легирующие материалы и продувают сплав инертным газом. Затем его перемешивают и снова проводят измерения. Такой цикл повторяется до достижения целевого химического состава и оптимальной температуры плавки.\n",
        "\n",
        "Тогда расплавленная сталь отправляется на доводку металла или поступает в машину непрерывной разливки. Оттуда готовый продукт выходит в виде заготовок-слябов (англ. *slab*, «плита»).\n",
        "\n",
        "### Описание данных\n",
        "\n",
        "Данные состоят из файлов, полученных из разных источников:\n",
        "\n",
        "- `data_arc.csv` — данные об электродах;\n",
        "- `data_bulk.csv` — данные о подаче сыпучих материалов (объём);\n",
        "- `data_bulk_time.csv` *—* данные о подаче сыпучих материалов (время);\n",
        "- `data_gas.csv` — данные о продувке сплава газом;\n",
        "- `data_temp.csv` — результаты измерения температуры;\n",
        "- `data_wire.csv` — данные о проволочных материалах (объём);\n",
        "- `data_wire_time.csv` — данные о проволочных материалах (время).\n",
        "\n",
        "Во всех файлах столбец `key` содержит номер партии. В файлах может быть несколько строк с одинаковым значением `key`: они соответствуют разным итерациям обработки.\n",
        "\n",
        "Работу над проектом поделим на четыре части:\n",
        "\n",
        "1. знакомство (исследование) с данными и составление плана работы;\n",
        "2. уточнение задачи;\n",
        "3. предобработка данных, разработка модели;\n",
        "4. составление отчётаю"
      ]
    },
    {
      "cell_type": "markdown",
      "metadata": {
        "id": "hWjarmx5L5Q1"
      },
      "source": [
        "## Исследование данных"
      ]
    },
    {
      "cell_type": "markdown",
      "metadata": {
        "id": "Kosb-NHxNAe3"
      },
      "source": [
        "Импортируем необходимые для работы над проектом библиотеки, модули, функции:"
      ]
    },
    {
      "cell_type": "code",
      "execution_count": null,
      "metadata": {
        "id": "QsDZLYuCNYwF"
      },
      "outputs": [],
      "source": [
        "import pandas as pd\n",
        "import numpy as np\n",
        "import matplotlib.pyplot as plt\n",
        "import seaborn as sns\n",
        "sns.set()\n",
        "from functools import reduce\n",
        "from sklearn.model_selection import train_test_split\n",
        "from sklearn.metrics import r2_score, mean_absolute_error, make_scorer\n",
        "from sklearn.pipeline import make_pipeline\n",
        "from sklearn.pipeline import Pipeline\n",
        "from sklearn.preprocessing import StandardScaler\n",
        "from sklearn.compose import ColumnTransformer\n",
        "from sklearn.model_selection import GridSearchCV, KFold\n",
        "from sklearn.linear_model import Lasso\n",
        "from sklearn.tree import DecisionTreeRegressor\n",
        "import warnings\n",
        "warnings.filterwarnings('ignore')"
      ]
    },
    {
      "cell_type": "markdown",
      "metadata": {
        "id": "BO7FztVANhpQ"
      },
      "source": [
        "### Данные об электродах"
      ]
    },
    {
      "cell_type": "markdown",
      "metadata": {
        "id": "ImEE_88TONxp"
      },
      "source": [
        "Скачаем и сохраним в переменной `data_arc` данные об электродах:"
      ]
    },
    {
      "cell_type": "code",
      "execution_count": null,
      "metadata": {
        "id": "wbNna7l2Nk7c"
      },
      "outputs": [],
      "source": [
        "data_arc = pd.read_csv('/datasets/final_steel/data_arc.csv')"
      ]
    },
    {
      "cell_type": "markdown",
      "metadata": {
        "id": "WqsPKPnSOUV_"
      },
      "source": [
        "Выведим первые 5 строк датафрейма:"
      ]
    },
    {
      "cell_type": "code",
      "execution_count": null,
      "metadata": {
        "colab": {
          "base_uri": "https://localhost:8080/",
          "height": 206
        },
        "id": "dKAOUUYZN2aV",
        "outputId": "8a8b7238-d9ce-405f-b1c4-bce85e7df17d"
      },
      "outputs": [
        {
          "data": {
            "text/html": [
              "<div>\n",
              "<style scoped>\n",
              "    .dataframe tbody tr th:only-of-type {\n",
              "        vertical-align: middle;\n",
              "    }\n",
              "\n",
              "    .dataframe tbody tr th {\n",
              "        vertical-align: top;\n",
              "    }\n",
              "\n",
              "    .dataframe thead th {\n",
              "        text-align: right;\n",
              "    }\n",
              "</style>\n",
              "<table border=\"1\" class=\"dataframe\">\n",
              "  <thead>\n",
              "    <tr style=\"text-align: right;\">\n",
              "      <th></th>\n",
              "      <th>key</th>\n",
              "      <th>Начало нагрева дугой</th>\n",
              "      <th>Конец нагрева дугой</th>\n",
              "      <th>Активная мощность</th>\n",
              "      <th>Реактивная мощность</th>\n",
              "    </tr>\n",
              "  </thead>\n",
              "  <tbody>\n",
              "    <tr>\n",
              "      <th>0</th>\n",
              "      <td>1</td>\n",
              "      <td>2019-05-03 11:02:14</td>\n",
              "      <td>2019-05-03 11:06:02</td>\n",
              "      <td>0.976059</td>\n",
              "      <td>0.687084</td>\n",
              "    </tr>\n",
              "    <tr>\n",
              "      <th>1</th>\n",
              "      <td>1</td>\n",
              "      <td>2019-05-03 11:07:28</td>\n",
              "      <td>2019-05-03 11:10:33</td>\n",
              "      <td>0.805607</td>\n",
              "      <td>0.520285</td>\n",
              "    </tr>\n",
              "    <tr>\n",
              "      <th>2</th>\n",
              "      <td>1</td>\n",
              "      <td>2019-05-03 11:11:44</td>\n",
              "      <td>2019-05-03 11:14:36</td>\n",
              "      <td>0.744363</td>\n",
              "      <td>0.498805</td>\n",
              "    </tr>\n",
              "    <tr>\n",
              "      <th>3</th>\n",
              "      <td>1</td>\n",
              "      <td>2019-05-03 11:18:14</td>\n",
              "      <td>2019-05-03 11:24:19</td>\n",
              "      <td>1.659363</td>\n",
              "      <td>1.062669</td>\n",
              "    </tr>\n",
              "    <tr>\n",
              "      <th>4</th>\n",
              "      <td>1</td>\n",
              "      <td>2019-05-03 11:26:09</td>\n",
              "      <td>2019-05-03 11:28:37</td>\n",
              "      <td>0.692755</td>\n",
              "      <td>0.414397</td>\n",
              "    </tr>\n",
              "  </tbody>\n",
              "</table>\n",
              "</div>"
            ],
            "text/plain": [
              "   key Начало нагрева дугой  Конец нагрева дугой  Активная мощность  \\\n",
              "0    1  2019-05-03 11:02:14  2019-05-03 11:06:02           0.976059   \n",
              "1    1  2019-05-03 11:07:28  2019-05-03 11:10:33           0.805607   \n",
              "2    1  2019-05-03 11:11:44  2019-05-03 11:14:36           0.744363   \n",
              "3    1  2019-05-03 11:18:14  2019-05-03 11:24:19           1.659363   \n",
              "4    1  2019-05-03 11:26:09  2019-05-03 11:28:37           0.692755   \n",
              "\n",
              "   Реактивная мощность  \n",
              "0             0.687084  \n",
              "1             0.520285  \n",
              "2             0.498805  \n",
              "3             1.062669  \n",
              "4             0.414397  "
            ]
          },
          "execution_count": 3,
          "metadata": {},
          "output_type": "execute_result"
        }
      ],
      "source": [
        "data_arc.head()"
      ]
    },
    {
      "cell_type": "markdown",
      "metadata": {
        "id": "jai6M1rpN5PG"
      },
      "source": [
        "Общая информация о датафрейме:"
      ]
    },
    {
      "cell_type": "code",
      "execution_count": null,
      "metadata": {
        "colab": {
          "base_uri": "https://localhost:8080/"
        },
        "id": "Aix_-8fKOdUH",
        "outputId": "1be343e3-d5d4-43b4-b43b-282d6e330611"
      },
      "outputs": [
        {
          "name": "stdout",
          "output_type": "stream",
          "text": [
            "<class 'pandas.core.frame.DataFrame'>\n",
            "RangeIndex: 14876 entries, 0 to 14875\n",
            "Data columns (total 5 columns):\n",
            " #   Column                Non-Null Count  Dtype  \n",
            "---  ------                --------------  -----  \n",
            " 0   key                   14876 non-null  int64  \n",
            " 1   Начало нагрева дугой  14876 non-null  object \n",
            " 2   Конец нагрева дугой   14876 non-null  object \n",
            " 3   Активная мощность     14876 non-null  float64\n",
            " 4   Реактивная мощность   14876 non-null  float64\n",
            "dtypes: float64(2), int64(1), object(2)\n",
            "memory usage: 581.2+ KB\n"
          ]
        }
      ],
      "source": [
        "data_arc.info()"
      ]
    },
    {
      "cell_type": "code",
      "execution_count": null,
      "metadata": {
        "colab": {
          "base_uri": "https://localhost:8080/"
        },
        "id": "o1p2Zxd6e2Wo",
        "outputId": "7dd3ce61-d32d-4a1a-c94d-390dec42a7d8"
      },
      "outputs": [
        {
          "name": "stdout",
          "output_type": "stream",
          "text": [
            "Количество партий в данных: 3214.\n"
          ]
        }
      ],
      "source": [
        "print(f'Количество партий в данных: {data_arc[\"key\"].nunique()}.')"
      ]
    },
    {
      "cell_type": "code",
      "execution_count": null,
      "metadata": {
        "colab": {
          "base_uri": "https://localhost:8080/"
        },
        "id": "klQKU0WgikDI",
        "outputId": "81ae9231-1e4d-4abd-8e46-1fe2daf47809"
      },
      "outputs": [
        {
          "name": "stdout",
          "output_type": "stream",
          "text": [
            "Максимальное количество итераций обработки партии: 16.\n",
            "Минимальное количество итераций обработки партии: 1.\n",
            "Среднее количество итераций обработки партии: 4.628500311138768.\n"
          ]
        }
      ],
      "source": [
        "print(f\"Максимальное количество итераций обработки партии: {data_arc['key'].value_counts().max()}.\")\n",
        "print(f\"Минимальное количество итераций обработки партии: {data_arc['key'].value_counts().min()}.\")\n",
        "print(f\"Среднее количество итераций обработки партии: {data_arc['key'].value_counts().mean()}.\")"
      ]
    },
    {
      "cell_type": "markdown",
      "metadata": {
        "id": "4CloYKxSOgc1"
      },
      "source": [
        "Посмотрим на распределение признаков `Активная мощность` и `Реактивная мощность`:"
      ]
    },
    {
      "cell_type": "code",
      "execution_count": null,
      "metadata": {
        "colab": {
          "base_uri": "https://localhost:8080/",
          "height": 410
        },
        "id": "OS0giULcPw7M",
        "outputId": "dbf05685-4c2b-43e9-964c-e1adca2d5a10",
        "scrolled": true
      },
      "outputs": [
        {
          "data": {
            "image/png": "[encoded data removed]",
            "text/plain": [
              "<Figure size 720x432 with 1 Axes>"
            ]
          },
          "metadata": {},
          "output_type": "display_data"
        }
      ],
      "source": [
        "plt.figure(figsize=(10, 6))\n",
        "sns.distplot(data_arc['Активная мощность'])\n",
        "plt.title('График распределения признака: активная мощность')\n",
        "plt.xlabel('Активная мощность')\n",
        "plt.ylabel('Плотность распределения')\n",
        "plt.show();"
      ]
    },
    {
      "cell_type": "code",
      "execution_count": null,
      "metadata": {
        "colab": {
          "base_uri": "https://localhost:8080/",
          "height": 410
        },
        "id": "-HfV_r9jQIPI",
        "outputId": "8c83b4ca-a2bb-4bbd-9f60-aef6552c15cd"
      },
      "outputs": [
        {
          "data": {
            "image/png": "[encoded data removed]",
            "text/plain": [
              "<Figure size 720x432 with 1 Axes>"
            ]
          },
          "metadata": {},
          "output_type": "display_data"
        }
      ],
      "source": [
        "plt.figure(figsize=(10, 6))\n",
        "sns.distplot(data_arc[data_arc['Реактивная мощность'] > 0]['Реактивная мощность'])\n",
        "plt.title('График распределения признака: реактивная мощность')\n",
        "plt.xlabel('Реактивная мощность')\n",
        "plt.ylabel('Плотность распределения')\n",
        "plt.show();"
      ]
    },
    {
      "cell_type": "markdown",
      "metadata": {
        "id": "bs8N2aBTQyZk"
      },
      "source": [
        "Краткая описательная статистика:"
      ]
    },
    {
      "cell_type": "code",
      "execution_count": null,
      "metadata": {
        "colab": {
          "base_uri": "https://localhost:8080/",
          "height": 300
        },
        "id": "Bz5NJ3SzRRrV",
        "outputId": "fbb2e6ca-448e-4fd7-8f2d-6de4c259d85a"
      },
      "outputs": [
        {
          "data": {
            "text/html": [
              "<div>\n",
              "<style scoped>\n",
              "    .dataframe tbody tr th:only-of-type {\n",
              "        vertical-align: middle;\n",
              "    }\n",
              "\n",
              "    .dataframe tbody tr th {\n",
              "        vertical-align: top;\n",
              "    }\n",
              "\n",
              "    .dataframe thead th {\n",
              "        text-align: right;\n",
              "    }\n",
              "</style>\n",
              "<table border=\"1\" class=\"dataframe\">\n",
              "  <thead>\n",
              "    <tr style=\"text-align: right;\">\n",
              "      <th></th>\n",
              "      <th>Активная мощность</th>\n",
              "      <th>Реактивная мощность</th>\n",
              "    </tr>\n",
              "  </thead>\n",
              "  <tbody>\n",
              "    <tr>\n",
              "      <th>count</th>\n",
              "      <td>14876.000000</td>\n",
              "      <td>14876.000000</td>\n",
              "    </tr>\n",
              "    <tr>\n",
              "      <th>mean</th>\n",
              "      <td>0.670441</td>\n",
              "      <td>0.452592</td>\n",
              "    </tr>\n",
              "    <tr>\n",
              "      <th>std</th>\n",
              "      <td>0.408159</td>\n",
              "      <td>5.878702</td>\n",
              "    </tr>\n",
              "    <tr>\n",
              "      <th>min</th>\n",
              "      <td>0.030002</td>\n",
              "      <td>-715.504924</td>\n",
              "    </tr>\n",
              "    <tr>\n",
              "      <th>25%</th>\n",
              "      <td>0.395297</td>\n",
              "      <td>0.290991</td>\n",
              "    </tr>\n",
              "    <tr>\n",
              "      <th>50%</th>\n",
              "      <td>0.555517</td>\n",
              "      <td>0.415962</td>\n",
              "    </tr>\n",
              "    <tr>\n",
              "      <th>75%</th>\n",
              "      <td>0.857034</td>\n",
              "      <td>0.637371</td>\n",
              "    </tr>\n",
              "    <tr>\n",
              "      <th>max</th>\n",
              "      <td>3.731596</td>\n",
              "      <td>2.676388</td>\n",
              "    </tr>\n",
              "  </tbody>\n",
              "</table>\n",
              "</div>"
            ],
            "text/plain": [
              "       Активная мощность  Реактивная мощность\n",
              "count       14876.000000         14876.000000\n",
              "mean            0.670441             0.452592\n",
              "std             0.408159             5.878702\n",
              "min             0.030002          -715.504924\n",
              "25%             0.395297             0.290991\n",
              "50%             0.555517             0.415962\n",
              "75%             0.857034             0.637371\n",
              "max             3.731596             2.676388"
            ]
          },
          "execution_count": 9,
          "metadata": {},
          "output_type": "execute_result"
        }
      ],
      "source": [
        "data_arc[['Активная мощность', 'Реактивная мощность']].describe()"
      ]
    },
    {
      "cell_type": "markdown",
      "metadata": {
        "id": "6A7fYp7XRVAI"
      },
      "source": [
        "**Вывод**\n",
        "\n",
        "В данных об электродах 14 786 наблюдений и 4 признака. Пропуски отсутствуют. Всего 3 124 партиий в данных.  \n",
        "\n",
        "Распределение признака `Активная мощность` близко к нормальному со средним значением, равным 0.67, данные скошены вправо.\n",
        "\n",
        "Распределение признака `Реактивная мощность` приблизительно нормальное со средним значением, равным 0.4526, данные скошены влево: наблюдаются аномальные отрицательные значения, расположенные за границей 3 стандартных отклонений."
      ]
    },
    {
      "cell_type": "markdown",
      "metadata": {
        "id": "KgXsXrrZTH7D"
      },
      "source": [
        "###  Данные о подаче сыпучих материалов: объем и время"
      ]
    },
    {
      "cell_type": "markdown",
      "metadata": {
        "id": "K7bl-wFDTie0"
      },
      "source": [
        "Скачаем и сохраним в переменной `data_bulk` данные об объеме подачи сыпучих материалов:"
      ]
    },
    {
      "cell_type": "code",
      "execution_count": null,
      "metadata": {
        "id": "uoBTfsVGTie1"
      },
      "outputs": [],
      "source": [
        "data_bulc = pd.read_csv('/datasets/final_steel/data_bulk.csv')"
      ]
    },
    {
      "cell_type": "markdown",
      "metadata": {
        "id": "ShBGqL2hTie2"
      },
      "source": [
        "Выведим первые 5 строк датафрейма:"
      ]
    },
    {
      "cell_type": "code",
      "execution_count": null,
      "metadata": {
        "colab": {
          "base_uri": "https://localhost:8080/",
          "height": 268
        },
        "id": "V9LXu-SDTie3",
        "outputId": "2f9caf18-0873-459e-8664-e81b06465f93"
      },
      "outputs": [
        {
          "data": {
            "text/html": [
              "<div>\n",
              "<style scoped>\n",
              "    .dataframe tbody tr th:only-of-type {\n",
              "        vertical-align: middle;\n",
              "    }\n",
              "\n",
              "    .dataframe tbody tr th {\n",
              "        vertical-align: top;\n",
              "    }\n",
              "\n",
              "    .dataframe thead th {\n",
              "        text-align: right;\n",
              "    }\n",
              "</style>\n",
              "<table border=\"1\" class=\"dataframe\">\n",
              "  <thead>\n",
              "    <tr style=\"text-align: right;\">\n",
              "      <th></th>\n",
              "      <th>key</th>\n",
              "      <th>Bulk 1</th>\n",
              "      <th>Bulk 2</th>\n",
              "      <th>Bulk 3</th>\n",
              "      <th>Bulk 4</th>\n",
              "      <th>Bulk 5</th>\n",
              "      <th>Bulk 6</th>\n",
              "      <th>Bulk 7</th>\n",
              "      <th>Bulk 8</th>\n",
              "      <th>Bulk 9</th>\n",
              "      <th>Bulk 10</th>\n",
              "      <th>Bulk 11</th>\n",
              "      <th>Bulk 12</th>\n",
              "      <th>Bulk 13</th>\n",
              "      <th>Bulk 14</th>\n",
              "      <th>Bulk 15</th>\n",
              "    </tr>\n",
              "  </thead>\n",
              "  <tbody>\n",
              "    <tr>\n",
              "      <th>0</th>\n",
              "      <td>1</td>\n",
              "      <td>NaN</td>\n",
              "      <td>NaN</td>\n",
              "      <td>NaN</td>\n",
              "      <td>43.0</td>\n",
              "      <td>NaN</td>\n",
              "      <td>NaN</td>\n",
              "      <td>NaN</td>\n",
              "      <td>NaN</td>\n",
              "      <td>NaN</td>\n",
              "      <td>NaN</td>\n",
              "      <td>NaN</td>\n",
              "      <td>206.0</td>\n",
              "      <td>NaN</td>\n",
              "      <td>150.0</td>\n",
              "      <td>154.0</td>\n",
              "    </tr>\n",
              "    <tr>\n",
              "      <th>1</th>\n",
              "      <td>2</td>\n",
              "      <td>NaN</td>\n",
              "      <td>NaN</td>\n",
              "      <td>NaN</td>\n",
              "      <td>73.0</td>\n",
              "      <td>NaN</td>\n",
              "      <td>NaN</td>\n",
              "      <td>NaN</td>\n",
              "      <td>NaN</td>\n",
              "      <td>NaN</td>\n",
              "      <td>NaN</td>\n",
              "      <td>NaN</td>\n",
              "      <td>206.0</td>\n",
              "      <td>NaN</td>\n",
              "      <td>149.0</td>\n",
              "      <td>154.0</td>\n",
              "    </tr>\n",
              "    <tr>\n",
              "      <th>2</th>\n",
              "      <td>3</td>\n",
              "      <td>NaN</td>\n",
              "      <td>NaN</td>\n",
              "      <td>NaN</td>\n",
              "      <td>34.0</td>\n",
              "      <td>NaN</td>\n",
              "      <td>NaN</td>\n",
              "      <td>NaN</td>\n",
              "      <td>NaN</td>\n",
              "      <td>NaN</td>\n",
              "      <td>NaN</td>\n",
              "      <td>NaN</td>\n",
              "      <td>205.0</td>\n",
              "      <td>NaN</td>\n",
              "      <td>152.0</td>\n",
              "      <td>153.0</td>\n",
              "    </tr>\n",
              "    <tr>\n",
              "      <th>3</th>\n",
              "      <td>4</td>\n",
              "      <td>NaN</td>\n",
              "      <td>NaN</td>\n",
              "      <td>NaN</td>\n",
              "      <td>81.0</td>\n",
              "      <td>NaN</td>\n",
              "      <td>NaN</td>\n",
              "      <td>NaN</td>\n",
              "      <td>NaN</td>\n",
              "      <td>NaN</td>\n",
              "      <td>NaN</td>\n",
              "      <td>NaN</td>\n",
              "      <td>207.0</td>\n",
              "      <td>NaN</td>\n",
              "      <td>153.0</td>\n",
              "      <td>154.0</td>\n",
              "    </tr>\n",
              "    <tr>\n",
              "      <th>4</th>\n",
              "      <td>5</td>\n",
              "      <td>NaN</td>\n",
              "      <td>NaN</td>\n",
              "      <td>NaN</td>\n",
              "      <td>78.0</td>\n",
              "      <td>NaN</td>\n",
              "      <td>NaN</td>\n",
              "      <td>NaN</td>\n",
              "      <td>NaN</td>\n",
              "      <td>NaN</td>\n",
              "      <td>NaN</td>\n",
              "      <td>NaN</td>\n",
              "      <td>203.0</td>\n",
              "      <td>NaN</td>\n",
              "      <td>151.0</td>\n",
              "      <td>152.0</td>\n",
              "    </tr>\n",
              "  </tbody>\n",
              "</table>\n",
              "</div>"
            ],
            "text/plain": [
              "   key  Bulk 1  Bulk 2  Bulk 3  Bulk 4  Bulk 5  Bulk 6  Bulk 7  Bulk 8  \\\n",
              "0    1     NaN     NaN     NaN    43.0     NaN     NaN     NaN     NaN   \n",
              "1    2     NaN     NaN     NaN    73.0     NaN     NaN     NaN     NaN   \n",
              "2    3     NaN     NaN     NaN    34.0     NaN     NaN     NaN     NaN   \n",
              "3    4     NaN     NaN     NaN    81.0     NaN     NaN     NaN     NaN   \n",
              "4    5     NaN     NaN     NaN    78.0     NaN     NaN     NaN     NaN   \n",
              "\n",
              "   Bulk 9  Bulk 10  Bulk 11  Bulk 12  Bulk 13  Bulk 14  Bulk 15  \n",
              "0     NaN      NaN      NaN    206.0      NaN    150.0    154.0  \n",
              "1     NaN      NaN      NaN    206.0      NaN    149.0    154.0  \n",
              "2     NaN      NaN      NaN    205.0      NaN    152.0    153.0  \n",
              "3     NaN      NaN      NaN    207.0      NaN    153.0    154.0  \n",
              "4     NaN      NaN      NaN    203.0      NaN    151.0    152.0  "
            ]
          },
          "execution_count": 11,
          "metadata": {},
          "output_type": "execute_result"
        }
      ],
      "source": [
        "data_bulc.head()"
      ]
    },
    {
      "cell_type": "markdown",
      "metadata": {
        "id": "_uXsX2vkTie7"
      },
      "source": [
        "Общая информация о датафрейме `data_bulc`:"
      ]
    },
    {
      "cell_type": "code",
      "execution_count": null,
      "metadata": {
        "colab": {
          "base_uri": "https://localhost:8080/"
        },
        "id": "rNRf7FWQTie8",
        "outputId": "ac71b105-e97f-4b27-ac3f-31b1c221f8c3"
      },
      "outputs": [
        {
          "name": "stdout",
          "output_type": "stream",
          "text": [
            "<class 'pandas.core.frame.DataFrame'>\n",
            "RangeIndex: 3129 entries, 0 to 3128\n",
            "Data columns (total 16 columns):\n",
            " #   Column   Non-Null Count  Dtype  \n",
            "---  ------   --------------  -----  \n",
            " 0   key      3129 non-null   int64  \n",
            " 1   Bulk 1   252 non-null    float64\n",
            " 2   Bulk 2   22 non-null     float64\n",
            " 3   Bulk 3   1298 non-null   float64\n",
            " 4   Bulk 4   1014 non-null   float64\n",
            " 5   Bulk 5   77 non-null     float64\n",
            " 6   Bulk 6   576 non-null    float64\n",
            " 7   Bulk 7   25 non-null     float64\n",
            " 8   Bulk 8   1 non-null      float64\n",
            " 9   Bulk 9   19 non-null     float64\n",
            " 10  Bulk 10  176 non-null    float64\n",
            " 11  Bulk 11  177 non-null    float64\n",
            " 12  Bulk 12  2450 non-null   float64\n",
            " 13  Bulk 13  18 non-null     float64\n",
            " 14  Bulk 14  2806 non-null   float64\n",
            " 15  Bulk 15  2248 non-null   float64\n",
            "dtypes: float64(15), int64(1)\n",
            "memory usage: 391.2 KB\n"
          ]
        }
      ],
      "source": [
        "data_bulc.info()"
      ]
    },
    {
      "cell_type": "code",
      "execution_count": null,
      "metadata": {
        "colab": {
          "base_uri": "https://localhost:8080/"
        },
        "id": "1O0o4GCvf-RJ",
        "outputId": "c5944ae9-6632-487f-b79d-d0fc1dc7f61d"
      },
      "outputs": [
        {
          "name": "stdout",
          "output_type": "stream",
          "text": [
            "Количество партий в данных: 3129.\n"
          ]
        }
      ],
      "source": [
        "print(f'Количество партий в данных: {data_bulc[\"key\"].nunique()}.')"
      ]
    },
    {
      "cell_type": "markdown",
      "metadata": {
        "id": "tVJLtUScHCgb"
      },
      "source": [
        "Визуализируем распределение значений признаков таблицы `data_bulk`, предварительно заменив пропуски нулями:"
      ]
    },
    {
      "cell_type": "code",
      "execution_count": null,
      "metadata": {
        "colab": {
          "base_uri": "https://localhost:8080/",
          "height": 383
        },
        "id": "kXcXVPO7GF5y",
        "outputId": "276fcd71-da58-4a32-9ac3-6de07045fb2f"
      },
      "outputs": [
        {
          "data": {
            "text/plain": [
              "Text(0.5, 0, 'Bulks')"
            ]
          },
          "execution_count": 14,
          "metadata": {},
          "output_type": "execute_result"
        },
        {
          "data": {
            "image/png": "[encoded data removed]",
            "text/plain": [
              "<Figure size 1080x360 with 1 Axes>"
            ]
          },
          "metadata": {},
          "output_type": "display_data"
        }
      ],
      "source": [
        "sns.set(rc={'figure.figsize': (15, 5)})\n",
        "ax = sns.boxplot(data=data_bulc.drop(columns='key').fillna(0))\n",
        "ax.set_xticklabels(ax.get_xticklabels(), rotation=45)\n",
        "plt.xlabel('Bulks')"
      ]
    },
    {
      "cell_type": "markdown",
      "metadata": {
        "id": "HxCavsC3UjrL"
      },
      "source": [
        "Скачаем и сохраним в переменной `data_bulk_time` данные об объеме подачи сыпучих материалов:"
      ]
    },
    {
      "cell_type": "code",
      "execution_count": null,
      "metadata": {
        "id": "SbYxD2PZUjrN"
      },
      "outputs": [],
      "source": [
        "data_bulc_time = pd.read_csv('/datasets/final_steel/data_bulk_time.csv')"
      ]
    },
    {
      "cell_type": "markdown",
      "metadata": {
        "id": "g-QkYWkgUjrO"
      },
      "source": [
        "Выведим первые 5 строк датафрейма:"
      ]
    },
    {
      "cell_type": "code",
      "execution_count": null,
      "metadata": {
        "colab": {
          "base_uri": "https://localhost:8080/",
          "height": 441
        },
        "id": "OCS-zz5AUjrQ",
        "outputId": "fc58bded-2511-4cf2-fa06-e69341b8dd3e"
      },
      "outputs": [
        {
          "data": {
            "text/html": [
              "<div>\n",
              "<style scoped>\n",
              "    .dataframe tbody tr th:only-of-type {\n",
              "        vertical-align: middle;\n",
              "    }\n",
              "\n",
              "    .dataframe tbody tr th {\n",
              "        vertical-align: top;\n",
              "    }\n",
              "\n",
              "    .dataframe thead th {\n",
              "        text-align: right;\n",
              "    }\n",
              "</style>\n",
              "<table border=\"1\" class=\"dataframe\">\n",
              "  <thead>\n",
              "    <tr style=\"text-align: right;\">\n",
              "      <th></th>\n",
              "      <th>key</th>\n",
              "      <th>Bulk 1</th>\n",
              "      <th>Bulk 2</th>\n",
              "      <th>Bulk 3</th>\n",
              "      <th>Bulk 4</th>\n",
              "      <th>Bulk 5</th>\n",
              "      <th>Bulk 6</th>\n",
              "      <th>Bulk 7</th>\n",
              "      <th>Bulk 8</th>\n",
              "      <th>Bulk 9</th>\n",
              "      <th>Bulk 10</th>\n",
              "      <th>Bulk 11</th>\n",
              "      <th>Bulk 12</th>\n",
              "      <th>Bulk 13</th>\n",
              "      <th>Bulk 14</th>\n",
              "      <th>Bulk 15</th>\n",
              "    </tr>\n",
              "  </thead>\n",
              "  <tbody>\n",
              "    <tr>\n",
              "      <th>0</th>\n",
              "      <td>1</td>\n",
              "      <td>NaN</td>\n",
              "      <td>NaN</td>\n",
              "      <td>NaN</td>\n",
              "      <td>2019-05-03 11:21:30</td>\n",
              "      <td>NaN</td>\n",
              "      <td>NaN</td>\n",
              "      <td>NaN</td>\n",
              "      <td>NaN</td>\n",
              "      <td>NaN</td>\n",
              "      <td>NaN</td>\n",
              "      <td>NaN</td>\n",
              "      <td>2019-05-03 11:03:52</td>\n",
              "      <td>NaN</td>\n",
              "      <td>2019-05-03 11:03:52</td>\n",
              "      <td>2019-05-03 11:03:52</td>\n",
              "    </tr>\n",
              "    <tr>\n",
              "      <th>1</th>\n",
              "      <td>2</td>\n",
              "      <td>NaN</td>\n",
              "      <td>NaN</td>\n",
              "      <td>NaN</td>\n",
              "      <td>2019-05-03 11:46:38</td>\n",
              "      <td>NaN</td>\n",
              "      <td>NaN</td>\n",
              "      <td>NaN</td>\n",
              "      <td>NaN</td>\n",
              "      <td>NaN</td>\n",
              "      <td>NaN</td>\n",
              "      <td>NaN</td>\n",
              "      <td>2019-05-03 11:40:20</td>\n",
              "      <td>NaN</td>\n",
              "      <td>2019-05-03 11:40:20</td>\n",
              "      <td>2019-05-03 11:40:20</td>\n",
              "    </tr>\n",
              "    <tr>\n",
              "      <th>2</th>\n",
              "      <td>3</td>\n",
              "      <td>NaN</td>\n",
              "      <td>NaN</td>\n",
              "      <td>NaN</td>\n",
              "      <td>2019-05-03 12:31:06</td>\n",
              "      <td>NaN</td>\n",
              "      <td>NaN</td>\n",
              "      <td>NaN</td>\n",
              "      <td>NaN</td>\n",
              "      <td>NaN</td>\n",
              "      <td>NaN</td>\n",
              "      <td>NaN</td>\n",
              "      <td>2019-05-03 12:09:40</td>\n",
              "      <td>NaN</td>\n",
              "      <td>2019-05-03 12:09:40</td>\n",
              "      <td>2019-05-03 12:09:40</td>\n",
              "    </tr>\n",
              "    <tr>\n",
              "      <th>3</th>\n",
              "      <td>4</td>\n",
              "      <td>NaN</td>\n",
              "      <td>NaN</td>\n",
              "      <td>NaN</td>\n",
              "      <td>2019-05-03 12:48:43</td>\n",
              "      <td>NaN</td>\n",
              "      <td>NaN</td>\n",
              "      <td>NaN</td>\n",
              "      <td>NaN</td>\n",
              "      <td>NaN</td>\n",
              "      <td>NaN</td>\n",
              "      <td>NaN</td>\n",
              "      <td>2019-05-03 12:41:24</td>\n",
              "      <td>NaN</td>\n",
              "      <td>2019-05-03 12:41:24</td>\n",
              "      <td>2019-05-03 12:41:24</td>\n",
              "    </tr>\n",
              "    <tr>\n",
              "      <th>4</th>\n",
              "      <td>5</td>\n",
              "      <td>NaN</td>\n",
              "      <td>NaN</td>\n",
              "      <td>NaN</td>\n",
              "      <td>2019-05-03 13:18:50</td>\n",
              "      <td>NaN</td>\n",
              "      <td>NaN</td>\n",
              "      <td>NaN</td>\n",
              "      <td>NaN</td>\n",
              "      <td>NaN</td>\n",
              "      <td>NaN</td>\n",
              "      <td>NaN</td>\n",
              "      <td>2019-05-03 13:12:56</td>\n",
              "      <td>NaN</td>\n",
              "      <td>2019-05-03 13:12:56</td>\n",
              "      <td>2019-05-03 13:12:56</td>\n",
              "    </tr>\n",
              "  </tbody>\n",
              "</table>\n",
              "</div>"
            ],
            "text/plain": [
              "   key Bulk 1 Bulk 2 Bulk 3               Bulk 4 Bulk 5 Bulk 6 Bulk 7 Bulk 8  \\\n",
              "0    1    NaN    NaN    NaN  2019-05-03 11:21:30    NaN    NaN    NaN    NaN   \n",
              "1    2    NaN    NaN    NaN  2019-05-03 11:46:38    NaN    NaN    NaN    NaN   \n",
              "2    3    NaN    NaN    NaN  2019-05-03 12:31:06    NaN    NaN    NaN    NaN   \n",
              "3    4    NaN    NaN    NaN  2019-05-03 12:48:43    NaN    NaN    NaN    NaN   \n",
              "4    5    NaN    NaN    NaN  2019-05-03 13:18:50    NaN    NaN    NaN    NaN   \n",
              "\n",
              "  Bulk 9 Bulk 10 Bulk 11              Bulk 12 Bulk 13              Bulk 14  \\\n",
              "0    NaN     NaN     NaN  2019-05-03 11:03:52     NaN  2019-05-03 11:03:52   \n",
              "1    NaN     NaN     NaN  2019-05-03 11:40:20     NaN  2019-05-03 11:40:20   \n",
              "2    NaN     NaN     NaN  2019-05-03 12:09:40     NaN  2019-05-03 12:09:40   \n",
              "3    NaN     NaN     NaN  2019-05-03 12:41:24     NaN  2019-05-03 12:41:24   \n",
              "4    NaN     NaN     NaN  2019-05-03 13:12:56     NaN  2019-05-03 13:12:56   \n",
              "\n",
              "               Bulk 15  \n",
              "0  2019-05-03 11:03:52  \n",
              "1  2019-05-03 11:40:20  \n",
              "2  2019-05-03 12:09:40  \n",
              "3  2019-05-03 12:41:24  \n",
              "4  2019-05-03 13:12:56  "
            ]
          },
          "execution_count": 16,
          "metadata": {},
          "output_type": "execute_result"
        }
      ],
      "source": [
        "data_bulc_time.head()"
      ]
    },
    {
      "cell_type": "markdown",
      "metadata": {
        "id": "5Wlw5jAUUjrT"
      },
      "source": [
        "Общая информация о датафрейме `data_bulc_time`:"
      ]
    },
    {
      "cell_type": "code",
      "execution_count": null,
      "metadata": {
        "colab": {
          "base_uri": "https://localhost:8080/"
        },
        "id": "YSYfWEBzUjrV",
        "outputId": "c8403cb0-f50a-48ce-90f6-291b18a45445"
      },
      "outputs": [
        {
          "name": "stdout",
          "output_type": "stream",
          "text": [
            "<class 'pandas.core.frame.DataFrame'>\n",
            "RangeIndex: 3129 entries, 0 to 3128\n",
            "Data columns (total 16 columns):\n",
            " #   Column   Non-Null Count  Dtype \n",
            "---  ------   --------------  ----- \n",
            " 0   key      3129 non-null   int64 \n",
            " 1   Bulk 1   252 non-null    object\n",
            " 2   Bulk 2   22 non-null     object\n",
            " 3   Bulk 3   1298 non-null   object\n",
            " 4   Bulk 4   1014 non-null   object\n",
            " 5   Bulk 5   77 non-null     object\n",
            " 6   Bulk 6   576 non-null    object\n",
            " 7   Bulk 7   25 non-null     object\n",
            " 8   Bulk 8   1 non-null      object\n",
            " 9   Bulk 9   19 non-null     object\n",
            " 10  Bulk 10  176 non-null    object\n",
            " 11  Bulk 11  177 non-null    object\n",
            " 12  Bulk 12  2450 non-null   object\n",
            " 13  Bulk 13  18 non-null     object\n",
            " 14  Bulk 14  2806 non-null   object\n",
            " 15  Bulk 15  2248 non-null   object\n",
            "dtypes: int64(1), object(15)\n",
            "memory usage: 391.2+ KB\n"
          ]
        }
      ],
      "source": [
        "data_bulc_time.info()"
      ]
    },
    {
      "cell_type": "code",
      "execution_count": null,
      "metadata": {
        "colab": {
          "base_uri": "https://localhost:8080/"
        },
        "id": "WB8QrH5ogIZF",
        "outputId": "399b4e30-c189-4d2e-b680-8cf41a880878"
      },
      "outputs": [
        {
          "name": "stdout",
          "output_type": "stream",
          "text": [
            "Количество партий в данных: 3129.\n"
          ]
        }
      ],
      "source": [
        "print(f'Количество партий в данных: {data_bulc_time[\"key\"].nunique()}.')"
      ]
    },
    {
      "cell_type": "markdown",
      "metadata": {
        "id": "KsJg_N8dVobZ"
      },
      "source": [
        "Проверим, совпадает ли количество пропусков в признаках в обоих датасетах:"
      ]
    },
    {
      "cell_type": "code",
      "execution_count": null,
      "metadata": {
        "colab": {
          "base_uri": "https://localhost:8080/"
        },
        "id": "0yYphvA6U4Ac",
        "outputId": "b9c795eb-278b-4143-92ee-629130fa83c2"
      },
      "outputs": [
        {
          "data": {
            "text/plain": [
              "key        True\n",
              "Bulk 1     True\n",
              "Bulk 2     True\n",
              "Bulk 3     True\n",
              "Bulk 4     True\n",
              "Bulk 5     True\n",
              "Bulk 6     True\n",
              "Bulk 7     True\n",
              "Bulk 8     True\n",
              "Bulk 9     True\n",
              "Bulk 10    True\n",
              "Bulk 11    True\n",
              "Bulk 12    True\n",
              "Bulk 13    True\n",
              "Bulk 14    True\n",
              "Bulk 15    True\n",
              "dtype: bool"
            ]
          },
          "execution_count": 19,
          "metadata": {},
          "output_type": "execute_result"
        }
      ],
      "source": [
        "data_bulc.isna().sum() == data_bulc_time.isna().sum()"
      ]
    },
    {
      "cell_type": "markdown",
      "metadata": {
        "id": "89g61O4XVF6F"
      },
      "source": [
        "**Вывод**\n",
        "\n",
        "В данных об объеме и времени подачи сыпучих матеиалов 3 129 наблюдений и 16 признаков. Во всех признаках, кроме `key`, есть пропуски. Количество пропусков в признаках каждого датафрейма совпадает. Всего 3 129 партий в данных."
      ]
    },
    {
      "cell_type": "markdown",
      "metadata": {
        "id": "7w5ZC4CUWa_s"
      },
      "source": [
        "###  Данные о продувке сплава газом"
      ]
    },
    {
      "cell_type": "markdown",
      "metadata": {
        "id": "oRGNzUkQWt18"
      },
      "source": [
        "Скачаем и сохраним в переменной `data_gas` данные о  продувке сплава газом:"
      ]
    },
    {
      "cell_type": "code",
      "execution_count": null,
      "metadata": {
        "id": "wyw38b_fWt1_"
      },
      "outputs": [],
      "source": [
        "data_gas = pd.read_csv('/datasets/final_steel/data_gas.csv')"
      ]
    },
    {
      "cell_type": "markdown",
      "metadata": {
        "id": "FFPgv3EuWt2B"
      },
      "source": [
        "Выведим первые 5 строк датафрейма:"
      ]
    },
    {
      "cell_type": "code",
      "execution_count": null,
      "metadata": {
        "colab": {
          "base_uri": "https://localhost:8080/",
          "height": 206
        },
        "id": "a5isVlsfWt2B",
        "outputId": "14b36bd5-8d5a-470f-8983-c29e706127ba"
      },
      "outputs": [
        {
          "data": {
            "text/html": [
              "<div>\n",
              "<style scoped>\n",
              "    .dataframe tbody tr th:only-of-type {\n",
              "        vertical-align: middle;\n",
              "    }\n",
              "\n",
              "    .dataframe tbody tr th {\n",
              "        vertical-align: top;\n",
              "    }\n",
              "\n",
              "    .dataframe thead th {\n",
              "        text-align: right;\n",
              "    }\n",
              "</style>\n",
              "<table border=\"1\" class=\"dataframe\">\n",
              "  <thead>\n",
              "    <tr style=\"text-align: right;\">\n",
              "      <th></th>\n",
              "      <th>key</th>\n",
              "      <th>Газ 1</th>\n",
              "    </tr>\n",
              "  </thead>\n",
              "  <tbody>\n",
              "    <tr>\n",
              "      <th>0</th>\n",
              "      <td>1</td>\n",
              "      <td>29.749986</td>\n",
              "    </tr>\n",
              "    <tr>\n",
              "      <th>1</th>\n",
              "      <td>2</td>\n",
              "      <td>12.555561</td>\n",
              "    </tr>\n",
              "    <tr>\n",
              "      <th>2</th>\n",
              "      <td>3</td>\n",
              "      <td>28.554793</td>\n",
              "    </tr>\n",
              "    <tr>\n",
              "      <th>3</th>\n",
              "      <td>4</td>\n",
              "      <td>18.841219</td>\n",
              "    </tr>\n",
              "    <tr>\n",
              "      <th>4</th>\n",
              "      <td>5</td>\n",
              "      <td>5.413692</td>\n",
              "    </tr>\n",
              "  </tbody>\n",
              "</table>\n",
              "</div>"
            ],
            "text/plain": [
              "   key      Газ 1\n",
              "0    1  29.749986\n",
              "1    2  12.555561\n",
              "2    3  28.554793\n",
              "3    4  18.841219\n",
              "4    5   5.413692"
            ]
          },
          "execution_count": 21,
          "metadata": {},
          "output_type": "execute_result"
        }
      ],
      "source": [
        "data_gas.head()"
      ]
    },
    {
      "cell_type": "markdown",
      "metadata": {
        "id": "lZaoMgoYWt2D"
      },
      "source": [
        "Общая информация о датафрейме:"
      ]
    },
    {
      "cell_type": "code",
      "execution_count": null,
      "metadata": {
        "colab": {
          "base_uri": "https://localhost:8080/"
        },
        "id": "3y1WAuJkWt2E",
        "outputId": "d0680f10-b3a9-456b-df9d-d00f5b0e8a49"
      },
      "outputs": [
        {
          "name": "stdout",
          "output_type": "stream",
          "text": [
            "<class 'pandas.core.frame.DataFrame'>\n",
            "RangeIndex: 3239 entries, 0 to 3238\n",
            "Data columns (total 2 columns):\n",
            " #   Column  Non-Null Count  Dtype  \n",
            "---  ------  --------------  -----  \n",
            " 0   key     3239 non-null   int64  \n",
            " 1   Газ 1   3239 non-null   float64\n",
            "dtypes: float64(1), int64(1)\n",
            "memory usage: 50.7 KB\n"
          ]
        }
      ],
      "source": [
        "data_gas.info()"
      ]
    },
    {
      "cell_type": "code",
      "execution_count": null,
      "metadata": {
        "colab": {
          "base_uri": "https://localhost:8080/"
        },
        "id": "5H1YkHgkfgpW",
        "outputId": "81fbb794-f8b1-41ae-c845-5234bd7640a3"
      },
      "outputs": [
        {
          "name": "stdout",
          "output_type": "stream",
          "text": [
            "Количество партий в данных: 3239.\n"
          ]
        }
      ],
      "source": [
        "print(f'Количество партий в данных: {data_gas[\"key\"].nunique()}.')"
      ]
    },
    {
      "cell_type": "markdown",
      "metadata": {
        "id": "ICoUjuvlXEPV"
      },
      "source": [
        "Посмотрим на распределение признака `Газ 1`:"
      ]
    },
    {
      "cell_type": "code",
      "execution_count": null,
      "metadata": {
        "colab": {
          "base_uri": "https://localhost:8080/",
          "height": 410
        },
        "id": "cACkJPccXEPY",
        "outputId": "1ab77551-2eb6-4e79-ab61-fad8a812c82e"
      },
      "outputs": [
        {
          "data": {
            "image/png": "[encoded data removed]",
            "text/plain": [
              "<Figure size 720x432 with 1 Axes>"
            ]
          },
          "metadata": {},
          "output_type": "display_data"
        }
      ],
      "source": [
        "plt.figure(figsize=(10, 6))\n",
        "sns.distplot(data_gas['Газ 1'])\n",
        "plt.title('График распределения признака: газ 1')\n",
        "plt.xlabel('Газ 1')\n",
        "plt.ylabel('Плотность распределения')\n",
        "plt.show();"
      ]
    },
    {
      "cell_type": "markdown",
      "metadata": {
        "id": "xGwXq-ajXEPb"
      },
      "source": [
        "Краткая описательная статистика:"
      ]
    },
    {
      "cell_type": "code",
      "execution_count": null,
      "metadata": {
        "colab": {
          "base_uri": "https://localhost:8080/"
        },
        "id": "efba5xviXEPc",
        "outputId": "4b32381b-e41f-4a20-bef8-e863270d3c50"
      },
      "outputs": [
        {
          "data": {
            "text/plain": [
              "count    3239.000000\n",
              "mean       11.002062\n",
              "std         6.220327\n",
              "min         0.008399\n",
              "25%         7.043089\n",
              "50%         9.836267\n",
              "75%        13.769915\n",
              "max        77.995040\n",
              "Name: Газ 1, dtype: float64"
            ]
          },
          "execution_count": 25,
          "metadata": {},
          "output_type": "execute_result"
        }
      ],
      "source": [
        "data_gas['Газ 1'].describe()"
      ]
    },
    {
      "cell_type": "markdown",
      "metadata": {
        "id": "cC7SVXkHXEPe"
      },
      "source": [
        "**Вывод**\n",
        "\n",
        "В данных о продувке сплава газом 3 239 наблюдений и 2 признака. Попуски отсутствуют. Всего 3 239 партий в данных. \n",
        "\n",
        "Распределение признака `Газ 1` близко к нормальному со средним значением, равным 11.0, данные скошены вправо: наблюдаются аномально высокие значения, расположенные за границей 3 стандартных отклонений."
      ]
    },
    {
      "cell_type": "markdown",
      "metadata": {
        "id": "JpINFlx-Yba-"
      },
      "source": [
        "### Данные о результатах измерения температуры"
      ]
    },
    {
      "cell_type": "markdown",
      "metadata": {
        "id": "S65F9qFTZZv1"
      },
      "source": [
        "Скачаем и сохраним в переменной `data_temp` данные о результатах измерения температуры:"
      ]
    },
    {
      "cell_type": "code",
      "execution_count": null,
      "metadata": {
        "id": "o2VQbpyQZZv3"
      },
      "outputs": [],
      "source": [
        "data_temp = pd.read_csv('/datasets/final_steel/data_temp.csv')"
      ]
    },
    {
      "cell_type": "markdown",
      "metadata": {
        "id": "7fMiDXbyZZv6"
      },
      "source": [
        "Выведим первые 5 строк датафрейма:"
      ]
    },
    {
      "cell_type": "code",
      "execution_count": null,
      "metadata": {
        "colab": {
          "base_uri": "https://localhost:8080/",
          "height": 206
        },
        "id": "E1QFeqVpZZv7",
        "outputId": "50d68a0c-c442-4b59-eb3f-e3c23c2cf967"
      },
      "outputs": [
        {
          "data": {
            "text/html": [
              "<div>\n",
              "<style scoped>\n",
              "    .dataframe tbody tr th:only-of-type {\n",
              "        vertical-align: middle;\n",
              "    }\n",
              "\n",
              "    .dataframe tbody tr th {\n",
              "        vertical-align: top;\n",
              "    }\n",
              "\n",
              "    .dataframe thead th {\n",
              "        text-align: right;\n",
              "    }\n",
              "</style>\n",
              "<table border=\"1\" class=\"dataframe\">\n",
              "  <thead>\n",
              "    <tr style=\"text-align: right;\">\n",
              "      <th></th>\n",
              "      <th>key</th>\n",
              "      <th>Время замера</th>\n",
              "      <th>Температура</th>\n",
              "    </tr>\n",
              "  </thead>\n",
              "  <tbody>\n",
              "    <tr>\n",
              "      <th>0</th>\n",
              "      <td>1</td>\n",
              "      <td>2019-05-03 11:16:18</td>\n",
              "      <td>1571.0</td>\n",
              "    </tr>\n",
              "    <tr>\n",
              "      <th>1</th>\n",
              "      <td>1</td>\n",
              "      <td>2019-05-03 11:25:53</td>\n",
              "      <td>1604.0</td>\n",
              "    </tr>\n",
              "    <tr>\n",
              "      <th>2</th>\n",
              "      <td>1</td>\n",
              "      <td>2019-05-03 11:29:11</td>\n",
              "      <td>1618.0</td>\n",
              "    </tr>\n",
              "    <tr>\n",
              "      <th>3</th>\n",
              "      <td>1</td>\n",
              "      <td>2019-05-03 11:30:01</td>\n",
              "      <td>1601.0</td>\n",
              "    </tr>\n",
              "    <tr>\n",
              "      <th>4</th>\n",
              "      <td>1</td>\n",
              "      <td>2019-05-03 11:30:39</td>\n",
              "      <td>1613.0</td>\n",
              "    </tr>\n",
              "  </tbody>\n",
              "</table>\n",
              "</div>"
            ],
            "text/plain": [
              "   key         Время замера  Температура\n",
              "0    1  2019-05-03 11:16:18       1571.0\n",
              "1    1  2019-05-03 11:25:53       1604.0\n",
              "2    1  2019-05-03 11:29:11       1618.0\n",
              "3    1  2019-05-03 11:30:01       1601.0\n",
              "4    1  2019-05-03 11:30:39       1613.0"
            ]
          },
          "execution_count": 27,
          "metadata": {},
          "output_type": "execute_result"
        }
      ],
      "source": [
        "data_temp.head()"
      ]
    },
    {
      "cell_type": "markdown",
      "metadata": {
        "id": "1ev9pPyGZZv-"
      },
      "source": [
        "Общая информация о датафрейме:"
      ]
    },
    {
      "cell_type": "code",
      "execution_count": null,
      "metadata": {
        "colab": {
          "base_uri": "https://localhost:8080/"
        },
        "id": "U9EI1sy4ZZwA",
        "outputId": "d83b345a-8ec4-4c7c-f24f-373d0e997f63"
      },
      "outputs": [
        {
          "name": "stdout",
          "output_type": "stream",
          "text": [
            "<class 'pandas.core.frame.DataFrame'>\n",
            "RangeIndex: 15907 entries, 0 to 15906\n",
            "Data columns (total 3 columns):\n",
            " #   Column        Non-Null Count  Dtype  \n",
            "---  ------        --------------  -----  \n",
            " 0   key           15907 non-null  int64  \n",
            " 1   Время замера  15907 non-null  object \n",
            " 2   Температура   13006 non-null  float64\n",
            "dtypes: float64(1), int64(1), object(1)\n",
            "memory usage: 372.9+ KB\n"
          ]
        }
      ],
      "source": [
        "data_temp.info()"
      ]
    },
    {
      "cell_type": "code",
      "execution_count": null,
      "metadata": {
        "colab": {
          "base_uri": "https://localhost:8080/"
        },
        "id": "J4tv8Yfcf5yu",
        "outputId": "ca41809c-f812-4fb2-d332-4346d3fc1358"
      },
      "outputs": [
        {
          "name": "stdout",
          "output_type": "stream",
          "text": [
            "Количество партий в данных: 3216.\n"
          ]
        }
      ],
      "source": [
        "print(f'Количество партий в данных: {data_temp[\"key\"].nunique()}.')"
      ]
    },
    {
      "cell_type": "code",
      "execution_count": null,
      "metadata": {
        "colab": {
          "base_uri": "https://localhost:8080/"
        },
        "id": "LRy9tSzQj7bD",
        "outputId": "71c29f75-1ab9-4cde-d64d-3eb1c4d9b238"
      },
      "outputs": [
        {
          "name": "stdout",
          "output_type": "stream",
          "text": [
            "Максимальное количество измерений температуры партии: 16.\n",
            "Минимальное количество измерений температуры партии: 1.\n",
            "Среднее количество измерений температуры партии: 4.946206467661692.\n"
          ]
        }
      ],
      "source": [
        "print(f\"Максимальное количество измерений температуры партии: {data_temp['key'].value_counts().max()}.\")\n",
        "print(f\"Минимальное количество измерений температуры партии: {data_temp['key'].value_counts().min()}.\")\n",
        "print(f\"Среднее количество измерений температуры партии: {data_temp['key'].value_counts().mean()}.\")"
      ]
    },
    {
      "cell_type": "markdown",
      "metadata": {
        "id": "KIabof9hZ106"
      },
      "source": [
        "Посмотрим на распределение признака `Температура`:"
      ]
    },
    {
      "cell_type": "code",
      "execution_count": null,
      "metadata": {
        "colab": {
          "base_uri": "https://localhost:8080/",
          "height": 410
        },
        "id": "6tB7hUFTZ109",
        "outputId": "94d82d76-e0c5-4478-f976-bbe49fb84e02"
      },
      "outputs": [
        {
          "data": {
            "image/png": "[encoded data removed]",
            "text/plain": [
              "<Figure size 720x432 with 1 Axes>"
            ]
          },
          "metadata": {},
          "output_type": "display_data"
        }
      ],
      "source": [
        "plt.figure(figsize=(10, 6))\n",
        "sns.distplot(data_temp['Температура'])\n",
        "plt.title('График распределения признака: температура')\n",
        "plt.xlabel('Температура')\n",
        "plt.ylabel('Плотность распределения')\n",
        "plt.show();"
      ]
    },
    {
      "cell_type": "markdown",
      "metadata": {
        "id": "voos8JGLZ11B"
      },
      "source": [
        "Краткая описательная статистика:"
      ]
    },
    {
      "cell_type": "code",
      "execution_count": null,
      "metadata": {
        "colab": {
          "base_uri": "https://localhost:8080/"
        },
        "id": "RavBj9LtZ11C",
        "outputId": "e9c4bc5e-06d2-4acb-cf43-d2b87dc7da4b"
      },
      "outputs": [
        {
          "data": {
            "text/plain": [
              "count    13006.000000\n",
              "mean      1591.840920\n",
              "std         21.375851\n",
              "min       1191.000000\n",
              "25%       1581.000000\n",
              "50%       1591.000000\n",
              "75%       1601.000000\n",
              "max       1705.000000\n",
              "Name: Температура, dtype: float64"
            ]
          },
          "execution_count": 32,
          "metadata": {},
          "output_type": "execute_result"
        }
      ],
      "source": [
        "data_temp['Температура'].describe()"
      ]
    },
    {
      "cell_type": "markdown",
      "metadata": {
        "id": "fGdQi9HyZ11D"
      },
      "source": [
        "**Вывод**\n",
        "\n",
        "В данных о результатах измерения температуры 15 907 наблюдений и 3 признака. Есть пропси в признаке `Температура`. Всего 3 216 партий в данных. \n",
        "\n",
        "Распределение признака `Температура` близко к нормальному со средним значением, равным 1 591.84, данные скошены немного влево: наблюдаются аномально низкие значения, расположенные за границей 3 стандартных отклонений."
      ]
    },
    {
      "cell_type": "markdown",
      "metadata": {
        "id": "SgWWHAtSa6RN"
      },
      "source": [
        "### Данные о проволочных материалах: объем и время"
      ]
    },
    {
      "cell_type": "markdown",
      "metadata": {
        "id": "UKn7TL5-bY2K"
      },
      "source": [
        "Скачаем и сохраним в переменной `data_bulk` данные об объеме подачи сыпучих материалов:"
      ]
    },
    {
      "cell_type": "code",
      "execution_count": null,
      "metadata": {
        "id": "19FN5LojbY2M"
      },
      "outputs": [],
      "source": [
        "data_wire = pd.read_csv('/datasets/final_steel/data_wire.csv')"
      ]
    },
    {
      "cell_type": "markdown",
      "metadata": {
        "id": "36fEML0pbY2N"
      },
      "source": [
        "Выведим первые 5 строк датафрейма:"
      ]
    },
    {
      "cell_type": "code",
      "execution_count": null,
      "metadata": {
        "colab": {
          "base_uri": "https://localhost:8080/",
          "height": 206
        },
        "id": "TRlNFO2ybY2P",
        "outputId": "b77fba26-332e-4d99-b876-c342ffb541b0"
      },
      "outputs": [
        {
          "data": {
            "text/html": [
              "<div>\n",
              "<style scoped>\n",
              "    .dataframe tbody tr th:only-of-type {\n",
              "        vertical-align: middle;\n",
              "    }\n",
              "\n",
              "    .dataframe tbody tr th {\n",
              "        vertical-align: top;\n",
              "    }\n",
              "\n",
              "    .dataframe thead th {\n",
              "        text-align: right;\n",
              "    }\n",
              "</style>\n",
              "<table border=\"1\" class=\"dataframe\">\n",
              "  <thead>\n",
              "    <tr style=\"text-align: right;\">\n",
              "      <th></th>\n",
              "      <th>key</th>\n",
              "      <th>Wire 1</th>\n",
              "      <th>Wire 2</th>\n",
              "      <th>Wire 3</th>\n",
              "      <th>Wire 4</th>\n",
              "      <th>Wire 5</th>\n",
              "      <th>Wire 6</th>\n",
              "      <th>Wire 7</th>\n",
              "      <th>Wire 8</th>\n",
              "      <th>Wire 9</th>\n",
              "    </tr>\n",
              "  </thead>\n",
              "  <tbody>\n",
              "    <tr>\n",
              "      <th>0</th>\n",
              "      <td>1</td>\n",
              "      <td>60.059998</td>\n",
              "      <td>NaN</td>\n",
              "      <td>NaN</td>\n",
              "      <td>NaN</td>\n",
              "      <td>NaN</td>\n",
              "      <td>NaN</td>\n",
              "      <td>NaN</td>\n",
              "      <td>NaN</td>\n",
              "      <td>NaN</td>\n",
              "    </tr>\n",
              "    <tr>\n",
              "      <th>1</th>\n",
              "      <td>2</td>\n",
              "      <td>96.052315</td>\n",
              "      <td>NaN</td>\n",
              "      <td>NaN</td>\n",
              "      <td>NaN</td>\n",
              "      <td>NaN</td>\n",
              "      <td>NaN</td>\n",
              "      <td>NaN</td>\n",
              "      <td>NaN</td>\n",
              "      <td>NaN</td>\n",
              "    </tr>\n",
              "    <tr>\n",
              "      <th>2</th>\n",
              "      <td>3</td>\n",
              "      <td>91.160157</td>\n",
              "      <td>NaN</td>\n",
              "      <td>NaN</td>\n",
              "      <td>NaN</td>\n",
              "      <td>NaN</td>\n",
              "      <td>NaN</td>\n",
              "      <td>NaN</td>\n",
              "      <td>NaN</td>\n",
              "      <td>NaN</td>\n",
              "    </tr>\n",
              "    <tr>\n",
              "      <th>3</th>\n",
              "      <td>4</td>\n",
              "      <td>89.063515</td>\n",
              "      <td>NaN</td>\n",
              "      <td>NaN</td>\n",
              "      <td>NaN</td>\n",
              "      <td>NaN</td>\n",
              "      <td>NaN</td>\n",
              "      <td>NaN</td>\n",
              "      <td>NaN</td>\n",
              "      <td>NaN</td>\n",
              "    </tr>\n",
              "    <tr>\n",
              "      <th>4</th>\n",
              "      <td>5</td>\n",
              "      <td>89.238236</td>\n",
              "      <td>9.11456</td>\n",
              "      <td>NaN</td>\n",
              "      <td>NaN</td>\n",
              "      <td>NaN</td>\n",
              "      <td>NaN</td>\n",
              "      <td>NaN</td>\n",
              "      <td>NaN</td>\n",
              "      <td>NaN</td>\n",
              "    </tr>\n",
              "  </tbody>\n",
              "</table>\n",
              "</div>"
            ],
            "text/plain": [
              "   key     Wire 1   Wire 2  Wire 3  Wire 4  Wire 5  Wire 6  Wire 7  Wire 8  \\\n",
              "0    1  60.059998      NaN     NaN     NaN     NaN     NaN     NaN     NaN   \n",
              "1    2  96.052315      NaN     NaN     NaN     NaN     NaN     NaN     NaN   \n",
              "2    3  91.160157      NaN     NaN     NaN     NaN     NaN     NaN     NaN   \n",
              "3    4  89.063515      NaN     NaN     NaN     NaN     NaN     NaN     NaN   \n",
              "4    5  89.238236  9.11456     NaN     NaN     NaN     NaN     NaN     NaN   \n",
              "\n",
              "   Wire 9  \n",
              "0     NaN  \n",
              "1     NaN  \n",
              "2     NaN  \n",
              "3     NaN  \n",
              "4     NaN  "
            ]
          },
          "execution_count": 34,
          "metadata": {},
          "output_type": "execute_result"
        }
      ],
      "source": [
        "data_wire.head()"
      ]
    },
    {
      "cell_type": "markdown",
      "metadata": {
        "id": "Fh4NOlL7bY2R"
      },
      "source": [
        "Общая информация о датафрейме `data_wire`:"
      ]
    },
    {
      "cell_type": "code",
      "execution_count": null,
      "metadata": {
        "colab": {
          "base_uri": "https://localhost:8080/"
        },
        "id": "LP_i_vzcbY2R",
        "outputId": "b07dc75b-4f2f-44a3-95a2-c3e7e4ad4ed7"
      },
      "outputs": [
        {
          "name": "stdout",
          "output_type": "stream",
          "text": [
            "<class 'pandas.core.frame.DataFrame'>\n",
            "RangeIndex: 3081 entries, 0 to 3080\n",
            "Data columns (total 10 columns):\n",
            " #   Column  Non-Null Count  Dtype  \n",
            "---  ------  --------------  -----  \n",
            " 0   key     3081 non-null   int64  \n",
            " 1   Wire 1  3055 non-null   float64\n",
            " 2   Wire 2  1079 non-null   float64\n",
            " 3   Wire 3  63 non-null     float64\n",
            " 4   Wire 4  14 non-null     float64\n",
            " 5   Wire 5  1 non-null      float64\n",
            " 6   Wire 6  73 non-null     float64\n",
            " 7   Wire 7  11 non-null     float64\n",
            " 8   Wire 8  19 non-null     float64\n",
            " 9   Wire 9  29 non-null     float64\n",
            "dtypes: float64(9), int64(1)\n",
            "memory usage: 240.8 KB\n"
          ]
        }
      ],
      "source": [
        "data_wire.info()"
      ]
    },
    {
      "cell_type": "code",
      "execution_count": null,
      "metadata": {
        "colab": {
          "base_uri": "https://localhost:8080/"
        },
        "id": "F8UW8_CPg6Sd",
        "outputId": "ec3fffe1-0c6c-4b6c-d1e4-d21f5d8e741a"
      },
      "outputs": [
        {
          "name": "stdout",
          "output_type": "stream",
          "text": [
            "Количество партий в данных: 3081.\n"
          ]
        }
      ],
      "source": [
        "print(f'Количество партий в данных: {data_wire[\"key\"].nunique()}.')"
      ]
    },
    {
      "cell_type": "markdown",
      "metadata": {
        "id": "gyaJqStRIslG"
      },
      "source": [
        "Визуализируем распределение значений признаков таблицы `data_wire`, предварительно заменив пропуски нулями:"
      ]
    },
    {
      "cell_type": "code",
      "execution_count": null,
      "metadata": {
        "colab": {
          "base_uri": "https://localhost:8080/",
          "height": 380
        },
        "id": "a2H0bFF2IslH",
        "outputId": "45a99d40-560f-44fb-d991-2aedcf99e877"
      },
      "outputs": [
        {
          "data": {
            "text/plain": [
              "Text(0.5, 0, 'Wires')"
            ]
          },
          "execution_count": 37,
          "metadata": {},
          "output_type": "execute_result"
        },
        {
          "data": {
            "image/png": "[encoded data removed]",
            "text/plain": [
              "<Figure size 1080x360 with 1 Axes>"
            ]
          },
          "metadata": {},
          "output_type": "display_data"
        }
      ],
      "source": [
        "sns.set(rc={'figure.figsize': (15, 5)})\n",
        "ax = sns.boxplot(data=data_wire.drop(columns='key').fillna(0))\n",
        "ax.set_xticklabels(ax.get_xticklabels(), rotation=45)\n",
        "plt.xlabel('Wires')"
      ]
    },
    {
      "cell_type": "markdown",
      "metadata": {
        "id": "YFL8rPySbzIu"
      },
      "source": [
        "Скачаем и сохраним в переменной `data_wire_time` данные об объеме подачи сыпучих материалов:"
      ]
    },
    {
      "cell_type": "code",
      "execution_count": null,
      "metadata": {
        "id": "dI0FCG4CbzIx"
      },
      "outputs": [],
      "source": [
        "data_wire_time = pd.read_csv('/datasets/final_steel/data_wire_time.csv')"
      ]
    },
    {
      "cell_type": "markdown",
      "metadata": {
        "id": "HXPdLh2BbzIy"
      },
      "source": [
        "Выведим первые 5 строк датафрейма:"
      ]
    },
    {
      "cell_type": "code",
      "execution_count": null,
      "metadata": {
        "colab": {
          "base_uri": "https://localhost:8080/",
          "height": 206
        },
        "id": "YqP1sVpBbzIz",
        "outputId": "e0eebaad-138d-4017-b7dc-589b2beea04d"
      },
      "outputs": [
        {
          "data": {
            "text/html": [
              "<div>\n",
              "<style scoped>\n",
              "    .dataframe tbody tr th:only-of-type {\n",
              "        vertical-align: middle;\n",
              "    }\n",
              "\n",
              "    .dataframe tbody tr th {\n",
              "        vertical-align: top;\n",
              "    }\n",
              "\n",
              "    .dataframe thead th {\n",
              "        text-align: right;\n",
              "    }\n",
              "</style>\n",
              "<table border=\"1\" class=\"dataframe\">\n",
              "  <thead>\n",
              "    <tr style=\"text-align: right;\">\n",
              "      <th></th>\n",
              "      <th>key</th>\n",
              "      <th>Wire 1</th>\n",
              "      <th>Wire 2</th>\n",
              "      <th>Wire 3</th>\n",
              "      <th>Wire 4</th>\n",
              "      <th>Wire 5</th>\n",
              "      <th>Wire 6</th>\n",
              "      <th>Wire 7</th>\n",
              "      <th>Wire 8</th>\n",
              "      <th>Wire 9</th>\n",
              "    </tr>\n",
              "  </thead>\n",
              "  <tbody>\n",
              "    <tr>\n",
              "      <th>0</th>\n",
              "      <td>1</td>\n",
              "      <td>2019-05-03 11:11:41</td>\n",
              "      <td>NaN</td>\n",
              "      <td>NaN</td>\n",
              "      <td>NaN</td>\n",
              "      <td>NaN</td>\n",
              "      <td>NaN</td>\n",
              "      <td>NaN</td>\n",
              "      <td>NaN</td>\n",
              "      <td>NaN</td>\n",
              "    </tr>\n",
              "    <tr>\n",
              "      <th>1</th>\n",
              "      <td>2</td>\n",
              "      <td>2019-05-03 11:46:10</td>\n",
              "      <td>NaN</td>\n",
              "      <td>NaN</td>\n",
              "      <td>NaN</td>\n",
              "      <td>NaN</td>\n",
              "      <td>NaN</td>\n",
              "      <td>NaN</td>\n",
              "      <td>NaN</td>\n",
              "      <td>NaN</td>\n",
              "    </tr>\n",
              "    <tr>\n",
              "      <th>2</th>\n",
              "      <td>3</td>\n",
              "      <td>2019-05-03 12:13:47</td>\n",
              "      <td>NaN</td>\n",
              "      <td>NaN</td>\n",
              "      <td>NaN</td>\n",
              "      <td>NaN</td>\n",
              "      <td>NaN</td>\n",
              "      <td>NaN</td>\n",
              "      <td>NaN</td>\n",
              "      <td>NaN</td>\n",
              "    </tr>\n",
              "    <tr>\n",
              "      <th>3</th>\n",
              "      <td>4</td>\n",
              "      <td>2019-05-03 12:48:05</td>\n",
              "      <td>NaN</td>\n",
              "      <td>NaN</td>\n",
              "      <td>NaN</td>\n",
              "      <td>NaN</td>\n",
              "      <td>NaN</td>\n",
              "      <td>NaN</td>\n",
              "      <td>NaN</td>\n",
              "      <td>NaN</td>\n",
              "    </tr>\n",
              "    <tr>\n",
              "      <th>4</th>\n",
              "      <td>5</td>\n",
              "      <td>2019-05-03 13:18:15</td>\n",
              "      <td>2019-05-03 13:32:06</td>\n",
              "      <td>NaN</td>\n",
              "      <td>NaN</td>\n",
              "      <td>NaN</td>\n",
              "      <td>NaN</td>\n",
              "      <td>NaN</td>\n",
              "      <td>NaN</td>\n",
              "      <td>NaN</td>\n",
              "    </tr>\n",
              "  </tbody>\n",
              "</table>\n",
              "</div>"
            ],
            "text/plain": [
              "   key               Wire 1               Wire 2 Wire 3 Wire 4 Wire 5 Wire 6  \\\n",
              "0    1  2019-05-03 11:11:41                  NaN    NaN    NaN    NaN    NaN   \n",
              "1    2  2019-05-03 11:46:10                  NaN    NaN    NaN    NaN    NaN   \n",
              "2    3  2019-05-03 12:13:47                  NaN    NaN    NaN    NaN    NaN   \n",
              "3    4  2019-05-03 12:48:05                  NaN    NaN    NaN    NaN    NaN   \n",
              "4    5  2019-05-03 13:18:15  2019-05-03 13:32:06    NaN    NaN    NaN    NaN   \n",
              "\n",
              "  Wire 7 Wire 8 Wire 9  \n",
              "0    NaN    NaN    NaN  \n",
              "1    NaN    NaN    NaN  \n",
              "2    NaN    NaN    NaN  \n",
              "3    NaN    NaN    NaN  \n",
              "4    NaN    NaN    NaN  "
            ]
          },
          "execution_count": 39,
          "metadata": {},
          "output_type": "execute_result"
        }
      ],
      "source": [
        "data_wire_time.head()"
      ]
    },
    {
      "cell_type": "markdown",
      "metadata": {
        "id": "mYx7Qzc-bzI1"
      },
      "source": [
        "Общая информация о датафрейме `data_wire_time`:"
      ]
    },
    {
      "cell_type": "code",
      "execution_count": null,
      "metadata": {
        "colab": {
          "base_uri": "https://localhost:8080/"
        },
        "id": "lxpE_a6qbzI1",
        "outputId": "bc7e5c30-1430-4426-867d-bb779b58b49d"
      },
      "outputs": [
        {
          "name": "stdout",
          "output_type": "stream",
          "text": [
            "<class 'pandas.core.frame.DataFrame'>\n",
            "RangeIndex: 3081 entries, 0 to 3080\n",
            "Data columns (total 10 columns):\n",
            " #   Column  Non-Null Count  Dtype \n",
            "---  ------  --------------  ----- \n",
            " 0   key     3081 non-null   int64 \n",
            " 1   Wire 1  3055 non-null   object\n",
            " 2   Wire 2  1079 non-null   object\n",
            " 3   Wire 3  63 non-null     object\n",
            " 4   Wire 4  14 non-null     object\n",
            " 5   Wire 5  1 non-null      object\n",
            " 6   Wire 6  73 non-null     object\n",
            " 7   Wire 7  11 non-null     object\n",
            " 8   Wire 8  19 non-null     object\n",
            " 9   Wire 9  29 non-null     object\n",
            "dtypes: int64(1), object(9)\n",
            "memory usage: 240.8+ KB\n"
          ]
        }
      ],
      "source": [
        "data_wire_time.info()"
      ]
    },
    {
      "cell_type": "code",
      "execution_count": null,
      "metadata": {
        "colab": {
          "base_uri": "https://localhost:8080/"
        },
        "id": "DQyAezKYhCqC",
        "outputId": "7f1af502-ba5b-4fdb-9770-74510074fc41"
      },
      "outputs": [
        {
          "name": "stdout",
          "output_type": "stream",
          "text": [
            "Количество партий в данных: 3081.\n"
          ]
        }
      ],
      "source": [
        "print(f'Количество партий в данных: {data_wire_time[\"key\"].nunique()}.')"
      ]
    },
    {
      "cell_type": "markdown",
      "metadata": {
        "id": "HCw7VQoocLa4"
      },
      "source": [
        "Проверим, совпадает ли количество пропусков в признаках в обоих датасетах:"
      ]
    },
    {
      "cell_type": "code",
      "execution_count": null,
      "metadata": {
        "colab": {
          "base_uri": "https://localhost:8080/"
        },
        "id": "-dHjYTsccLa6",
        "outputId": "35555c45-d8b3-4f97-984f-1b3cd4187f80"
      },
      "outputs": [
        {
          "data": {
            "text/plain": [
              "key       True\n",
              "Wire 1    True\n",
              "Wire 2    True\n",
              "Wire 3    True\n",
              "Wire 4    True\n",
              "Wire 5    True\n",
              "Wire 6    True\n",
              "Wire 7    True\n",
              "Wire 8    True\n",
              "Wire 9    True\n",
              "dtype: bool"
            ]
          },
          "execution_count": 42,
          "metadata": {},
          "output_type": "execute_result"
        }
      ],
      "source": [
        "data_wire.isna().sum() == data_wire_time.isna().sum()"
      ]
    },
    {
      "cell_type": "markdown",
      "metadata": {
        "id": "ULCBGwgXcLa9"
      },
      "source": [
        "**Вывод**\n",
        "\n",
        "В данных об объеме и времени подачи сыпучих матеиалов 3 081 наблюдений и 0 признаков. Во всех признаках, кроме `key`, есть пропуски. Количество пропусков в признаках каждого датафрейма совпадает. Всего 3 081 партий в данных."
      ]
    },
    {
      "cell_type": "markdown",
      "metadata": {
        "id": "PSvcmSZhMkI9"
      },
      "source": [
        "## Предобработка данных"
      ]
    },
    {
      "cell_type": "markdown",
      "metadata": {
        "id": "HDAQOJOwvg6F"
      },
      "source": [
        "### Данные об электродах"
      ]
    },
    {
      "cell_type": "markdown",
      "metadata": {
        "id": "uLpJHJlLvjzs"
      },
      "source": [
        "Найдем наблюдения с аномальными отрицательными значениями признака `Реактивная мощность`:"
      ]
    },
    {
      "cell_type": "code",
      "execution_count": null,
      "metadata": {
        "colab": {
          "base_uri": "https://localhost:8080/",
          "height": 81
        },
        "id": "EVQU6Nrtvkpa",
        "outputId": "a9f7ff9e-9510-4be9-e604-6ef152c1f4ff",
        "scrolled": true
      },
      "outputs": [
        {
          "data": {
            "text/html": [
              "<div>\n",
              "<style scoped>\n",
              "    .dataframe tbody tr th:only-of-type {\n",
              "        vertical-align: middle;\n",
              "    }\n",
              "\n",
              "    .dataframe tbody tr th {\n",
              "        vertical-align: top;\n",
              "    }\n",
              "\n",
              "    .dataframe thead th {\n",
              "        text-align: right;\n",
              "    }\n",
              "</style>\n",
              "<table border=\"1\" class=\"dataframe\">\n",
              "  <thead>\n",
              "    <tr style=\"text-align: right;\">\n",
              "      <th></th>\n",
              "      <th>key</th>\n",
              "      <th>Начало нагрева дугой</th>\n",
              "      <th>Конец нагрева дугой</th>\n",
              "      <th>Активная мощность</th>\n",
              "      <th>Реактивная мощность</th>\n",
              "    </tr>\n",
              "  </thead>\n",
              "  <tbody>\n",
              "    <tr>\n",
              "      <th>9780</th>\n",
              "      <td>2116</td>\n",
              "      <td>2019-07-24 00:44:48</td>\n",
              "      <td>2019-07-24 00:46:37</td>\n",
              "      <td>0.495782</td>\n",
              "      <td>-715.504924</td>\n",
              "    </tr>\n",
              "  </tbody>\n",
              "</table>\n",
              "</div>"
            ],
            "text/plain": [
              "       key Начало нагрева дугой  Конец нагрева дугой  Активная мощность  \\\n",
              "9780  2116  2019-07-24 00:44:48  2019-07-24 00:46:37           0.495782   \n",
              "\n",
              "      Реактивная мощность  \n",
              "9780          -715.504924  "
            ]
          },
          "execution_count": 43,
          "metadata": {},
          "output_type": "execute_result"
        }
      ],
      "source": [
        "data_arc[data_arc['Реактивная мощность'] <= 0]"
      ]
    },
    {
      "cell_type": "markdown",
      "metadata": {
        "id": "8WAuTKvcxYPQ"
      },
      "source": [
        "В данных только одно наблюдение с отрицательным значением признака `Реактивная мощность`. Предлагаем восстановить значение через среднее отношение признака `Активная мощность` к `Рективной мощности`:"
      ]
    },
    {
      "cell_type": "code",
      "execution_count": null,
      "metadata": {
        "id": "5fH43blgxX6o"
      },
      "outputs": [],
      "source": [
        "ratio = data_arc[data_arc['Реактивная мощность'] > 0]['Реактивная мощность'].mean() / data_arc[data_arc['Реактивная мощность'] > 0]['Активная мощность'].mean()"
      ]
    },
    {
      "cell_type": "code",
      "execution_count": null,
      "metadata": {
        "id": "GSn1zOBCznlp"
      },
      "outputs": [],
      "source": [
        "data_arc.loc[data_arc['Реактивная мощность'] <= 0, 'Реактивная мощность'] = data_arc.loc[data_arc['Реактивная мощность'] <= 0, 'Активная мощность'] * ratio"
      ]
    },
    {
      "cell_type": "markdown",
      "metadata": {
        "id": "tNJrdMw4z8eV"
      },
      "source": [
        "Сгруппируем данные по `key` (номеру партии), суммируем значения признаков каждой партии, сохраним сводную таблицу как датафрейм в той же переменной `data_arc`:"
      ]
    },
    {
      "cell_type": "code",
      "execution_count": null,
      "metadata": {
        "id": "p37F7Is8vnWc"
      },
      "outputs": [],
      "source": [
        "data_arc = data_arc.groupby('key')[['Активная мощность', 'Реактивная мощность']].sum().reset_index()"
      ]
    },
    {
      "cell_type": "markdown",
      "metadata": {
        "id": "sIvCpl8N1jFG"
      },
      "source": [
        "Убедимся, что в переменной `data_arc` мы сохранили новый датафрейм:"
      ]
    },
    {
      "cell_type": "code",
      "execution_count": null,
      "metadata": {
        "colab": {
          "base_uri": "https://localhost:8080/",
          "height": 206
        },
        "id": "hLLHO1oj1QNA",
        "outputId": "f2a650bd-fedf-438a-e891-f9f3dfc70fe3"
      },
      "outputs": [
        {
          "data": {
            "text/html": [
              "<div>\n",
              "<style scoped>\n",
              "    .dataframe tbody tr th:only-of-type {\n",
              "        vertical-align: middle;\n",
              "    }\n",
              "\n",
              "    .dataframe tbody tr th {\n",
              "        vertical-align: top;\n",
              "    }\n",
              "\n",
              "    .dataframe thead th {\n",
              "        text-align: right;\n",
              "    }\n",
              "</style>\n",
              "<table border=\"1\" class=\"dataframe\">\n",
              "  <thead>\n",
              "    <tr style=\"text-align: right;\">\n",
              "      <th></th>\n",
              "      <th>key</th>\n",
              "      <th>Активная мощность</th>\n",
              "      <th>Реактивная мощность</th>\n",
              "    </tr>\n",
              "  </thead>\n",
              "  <tbody>\n",
              "    <tr>\n",
              "      <th>0</th>\n",
              "      <td>1</td>\n",
              "      <td>4.878147</td>\n",
              "      <td>3.183241</td>\n",
              "    </tr>\n",
              "    <tr>\n",
              "      <th>1</th>\n",
              "      <td>2</td>\n",
              "      <td>3.052598</td>\n",
              "      <td>1.998112</td>\n",
              "    </tr>\n",
              "    <tr>\n",
              "      <th>2</th>\n",
              "      <td>3</td>\n",
              "      <td>2.525882</td>\n",
              "      <td>1.599076</td>\n",
              "    </tr>\n",
              "    <tr>\n",
              "      <th>3</th>\n",
              "      <td>4</td>\n",
              "      <td>3.209250</td>\n",
              "      <td>2.060298</td>\n",
              "    </tr>\n",
              "    <tr>\n",
              "      <th>4</th>\n",
              "      <td>5</td>\n",
              "      <td>3.347173</td>\n",
              "      <td>2.252643</td>\n",
              "    </tr>\n",
              "  </tbody>\n",
              "</table>\n",
              "</div>"
            ],
            "text/plain": [
              "   key  Активная мощность  Реактивная мощность\n",
              "0    1           4.878147             3.183241\n",
              "1    2           3.052598             1.998112\n",
              "2    3           2.525882             1.599076\n",
              "3    4           3.209250             2.060298\n",
              "4    5           3.347173             2.252643"
            ]
          },
          "execution_count": 47,
          "metadata": {},
          "output_type": "execute_result"
        }
      ],
      "source": [
        "data_arc.head()"
      ]
    },
    {
      "cell_type": "markdown",
      "metadata": {
        "id": "OsQLNZM-vs0G"
      },
      "source": [
        "### Данные об объемах подачи сыпучих материалов"
      ]
    },
    {
      "cell_type": "markdown",
      "metadata": {
        "id": "x7QjeGy902xj"
      },
      "source": [
        "Все пропуски в таблице `data_bulc` заменяем нулевыми значениями:"
      ]
    },
    {
      "cell_type": "code",
      "execution_count": null,
      "metadata": {
        "id": "89hW4DGO1Jeo"
      },
      "outputs": [],
      "source": [
        "data_bulc = data_bulc.fillna(0)"
      ]
    },
    {
      "cell_type": "markdown",
      "metadata": {
        "id": "VmMutwWt1cv_"
      },
      "source": [
        "Проверим результат заполнения пропусков:"
      ]
    },
    {
      "cell_type": "code",
      "execution_count": null,
      "metadata": {
        "colab": {
          "base_uri": "https://localhost:8080/",
          "height": 268
        },
        "id": "9B8nhaxQ1LmM",
        "outputId": "dfc05789-a6d8-4378-e0ef-a75115154dbd"
      },
      "outputs": [
        {
          "data": {
            "text/html": [
              "<div>\n",
              "<style scoped>\n",
              "    .dataframe tbody tr th:only-of-type {\n",
              "        vertical-align: middle;\n",
              "    }\n",
              "\n",
              "    .dataframe tbody tr th {\n",
              "        vertical-align: top;\n",
              "    }\n",
              "\n",
              "    .dataframe thead th {\n",
              "        text-align: right;\n",
              "    }\n",
              "</style>\n",
              "<table border=\"1\" class=\"dataframe\">\n",
              "  <thead>\n",
              "    <tr style=\"text-align: right;\">\n",
              "      <th></th>\n",
              "      <th>key</th>\n",
              "      <th>Bulk 1</th>\n",
              "      <th>Bulk 2</th>\n",
              "      <th>Bulk 3</th>\n",
              "      <th>Bulk 4</th>\n",
              "      <th>Bulk 5</th>\n",
              "      <th>Bulk 6</th>\n",
              "      <th>Bulk 7</th>\n",
              "      <th>Bulk 8</th>\n",
              "      <th>Bulk 9</th>\n",
              "      <th>Bulk 10</th>\n",
              "      <th>Bulk 11</th>\n",
              "      <th>Bulk 12</th>\n",
              "      <th>Bulk 13</th>\n",
              "      <th>Bulk 14</th>\n",
              "      <th>Bulk 15</th>\n",
              "    </tr>\n",
              "  </thead>\n",
              "  <tbody>\n",
              "    <tr>\n",
              "      <th>0</th>\n",
              "      <td>1</td>\n",
              "      <td>0.0</td>\n",
              "      <td>0.0</td>\n",
              "      <td>0.0</td>\n",
              "      <td>43.0</td>\n",
              "      <td>0.0</td>\n",
              "      <td>0.0</td>\n",
              "      <td>0.0</td>\n",
              "      <td>0.0</td>\n",
              "      <td>0.0</td>\n",
              "      <td>0.0</td>\n",
              "      <td>0.0</td>\n",
              "      <td>206.0</td>\n",
              "      <td>0.0</td>\n",
              "      <td>150.0</td>\n",
              "      <td>154.0</td>\n",
              "    </tr>\n",
              "    <tr>\n",
              "      <th>1</th>\n",
              "      <td>2</td>\n",
              "      <td>0.0</td>\n",
              "      <td>0.0</td>\n",
              "      <td>0.0</td>\n",
              "      <td>73.0</td>\n",
              "      <td>0.0</td>\n",
              "      <td>0.0</td>\n",
              "      <td>0.0</td>\n",
              "      <td>0.0</td>\n",
              "      <td>0.0</td>\n",
              "      <td>0.0</td>\n",
              "      <td>0.0</td>\n",
              "      <td>206.0</td>\n",
              "      <td>0.0</td>\n",
              "      <td>149.0</td>\n",
              "      <td>154.0</td>\n",
              "    </tr>\n",
              "    <tr>\n",
              "      <th>2</th>\n",
              "      <td>3</td>\n",
              "      <td>0.0</td>\n",
              "      <td>0.0</td>\n",
              "      <td>0.0</td>\n",
              "      <td>34.0</td>\n",
              "      <td>0.0</td>\n",
              "      <td>0.0</td>\n",
              "      <td>0.0</td>\n",
              "      <td>0.0</td>\n",
              "      <td>0.0</td>\n",
              "      <td>0.0</td>\n",
              "      <td>0.0</td>\n",
              "      <td>205.0</td>\n",
              "      <td>0.0</td>\n",
              "      <td>152.0</td>\n",
              "      <td>153.0</td>\n",
              "    </tr>\n",
              "    <tr>\n",
              "      <th>3</th>\n",
              "      <td>4</td>\n",
              "      <td>0.0</td>\n",
              "      <td>0.0</td>\n",
              "      <td>0.0</td>\n",
              "      <td>81.0</td>\n",
              "      <td>0.0</td>\n",
              "      <td>0.0</td>\n",
              "      <td>0.0</td>\n",
              "      <td>0.0</td>\n",
              "      <td>0.0</td>\n",
              "      <td>0.0</td>\n",
              "      <td>0.0</td>\n",
              "      <td>207.0</td>\n",
              "      <td>0.0</td>\n",
              "      <td>153.0</td>\n",
              "      <td>154.0</td>\n",
              "    </tr>\n",
              "    <tr>\n",
              "      <th>4</th>\n",
              "      <td>5</td>\n",
              "      <td>0.0</td>\n",
              "      <td>0.0</td>\n",
              "      <td>0.0</td>\n",
              "      <td>78.0</td>\n",
              "      <td>0.0</td>\n",
              "      <td>0.0</td>\n",
              "      <td>0.0</td>\n",
              "      <td>0.0</td>\n",
              "      <td>0.0</td>\n",
              "      <td>0.0</td>\n",
              "      <td>0.0</td>\n",
              "      <td>203.0</td>\n",
              "      <td>0.0</td>\n",
              "      <td>151.0</td>\n",
              "      <td>152.0</td>\n",
              "    </tr>\n",
              "  </tbody>\n",
              "</table>\n",
              "</div>"
            ],
            "text/plain": [
              "   key  Bulk 1  Bulk 2  Bulk 3  Bulk 4  Bulk 5  Bulk 6  Bulk 7  Bulk 8  \\\n",
              "0    1     0.0     0.0     0.0    43.0     0.0     0.0     0.0     0.0   \n",
              "1    2     0.0     0.0     0.0    73.0     0.0     0.0     0.0     0.0   \n",
              "2    3     0.0     0.0     0.0    34.0     0.0     0.0     0.0     0.0   \n",
              "3    4     0.0     0.0     0.0    81.0     0.0     0.0     0.0     0.0   \n",
              "4    5     0.0     0.0     0.0    78.0     0.0     0.0     0.0     0.0   \n",
              "\n",
              "   Bulk 9  Bulk 10  Bulk 11  Bulk 12  Bulk 13  Bulk 14  Bulk 15  \n",
              "0     0.0      0.0      0.0    206.0      0.0    150.0    154.0  \n",
              "1     0.0      0.0      0.0    206.0      0.0    149.0    154.0  \n",
              "2     0.0      0.0      0.0    205.0      0.0    152.0    153.0  \n",
              "3     0.0      0.0      0.0    207.0      0.0    153.0    154.0  \n",
              "4     0.0      0.0      0.0    203.0      0.0    151.0    152.0  "
            ]
          },
          "execution_count": 49,
          "metadata": {},
          "output_type": "execute_result"
        }
      ],
      "source": [
        "data_bulc.head()"
      ]
    },
    {
      "cell_type": "markdown",
      "metadata": {
        "id": "rT4FkV-S2fER"
      },
      "source": [
        "Убедимся, что в `data_bulc` отсутствуют признаки, в которых все значения нулевые:"
      ]
    },
    {
      "cell_type": "code",
      "execution_count": null,
      "metadata": {
        "colab": {
          "base_uri": "https://localhost:8080/"
        },
        "id": "zCJf1Qwt1bQj",
        "outputId": "19692228-76e6-4782-810d-3e56b1d5f938"
      },
      "outputs": [
        {
          "data": {
            "text/plain": [
              "key        False\n",
              "Bulk 1     False\n",
              "Bulk 2     False\n",
              "Bulk 3     False\n",
              "Bulk 4     False\n",
              "Bulk 5     False\n",
              "Bulk 6     False\n",
              "Bulk 7     False\n",
              "Bulk 8     False\n",
              "Bulk 9     False\n",
              "Bulk 10    False\n",
              "Bulk 11    False\n",
              "Bulk 12    False\n",
              "Bulk 13    False\n",
              "Bulk 14    False\n",
              "Bulk 15    False\n",
              "dtype: bool"
            ]
          },
          "execution_count": 50,
          "metadata": {},
          "output_type": "execute_result"
        }
      ],
      "source": [
        "(data_bulc == 0).sum() == len(data_bulc)"
      ]
    },
    {
      "cell_type": "markdown",
      "metadata": {
        "id": "wIe9ETQr2SnF"
      },
      "source": [
        "### Данные о результатах измерения температуры:"
      ]
    },
    {
      "cell_type": "markdown",
      "metadata": {
        "id": "3E2yYaC35amm"
      },
      "source": [
        "Преобразуем строковый тип данных признака `Время замера` в тип данных `datetime`:"
      ]
    },
    {
      "cell_type": "code",
      "execution_count": null,
      "metadata": {
        "id": "u4Y2uKPi3H1o"
      },
      "outputs": [],
      "source": [
        "data_temp['Время замера'] = pd.to_datetime(data_temp['Время замера'], format='%Y-%m-%d %H:%M:%S')"
      ]
    },
    {
      "cell_type": "markdown",
      "metadata": {
        "id": "3gw891zW5o6k"
      },
      "source": [
        "Убедимся, что преобразование произведено корректно:"
      ]
    },
    {
      "cell_type": "code",
      "execution_count": null,
      "metadata": {
        "colab": {
          "base_uri": "https://localhost:8080/"
        },
        "id": "v12OD7-U5vOM",
        "outputId": "a5fa9f91-6cd3-47f5-92f2-758bafbc2cd9"
      },
      "outputs": [
        {
          "data": {
            "text/plain": [
              "key                      int64\n",
              "Время замера    datetime64[ns]\n",
              "Температура            float64\n",
              "dtype: object"
            ]
          },
          "execution_count": 52,
          "metadata": {},
          "output_type": "execute_result"
        }
      ],
      "source": [
        "data_temp.dtypes"
      ]
    },
    {
      "cell_type": "markdown",
      "metadata": {
        "id": "sKO7WhMI9a38"
      },
      "source": [
        "Для убедительности и уверенности сортируем данные по `key`  и `Время замера`:"
      ]
    },
    {
      "cell_type": "code",
      "execution_count": null,
      "metadata": {
        "id": "SFqN26m79arE"
      },
      "outputs": [],
      "source": [
        "data_temp = data_temp.sort_values(by=['key', 'Время замера'])"
      ]
    },
    {
      "cell_type": "markdown",
      "metadata": {
        "id": "EW2tYurkMWy2"
      },
      "source": [
        "Убедимся, что в столбце `Температура` отсутствуют нулевые значения:"
      ]
    },
    {
      "cell_type": "code",
      "execution_count": null,
      "metadata": {
        "colab": {
          "base_uri": "https://localhost:8080/"
        },
        "id": "EtjrmthlMXkV",
        "outputId": "a07d126d-681d-48b9-fd3b-a75f9fe76d11"
      },
      "outputs": [
        {
          "data": {
            "text/plain": [
              "0"
            ]
          },
          "execution_count": 54,
          "metadata": {},
          "output_type": "execute_result"
        }
      ],
      "source": [
        "(data_temp['Температура'] == 0).sum()"
      ]
    },
    {
      "cell_type": "markdown",
      "metadata": {
        "id": "xjrAdvTLMxUo"
      },
      "source": [
        "В качестве признака будем использовать первое по времени измерение температуры каждой партии, а в качестве целевого признака - последнее по времени измерение температуры каждой партии. Так как возможно, что первое и/или последнее по времени измерение температуры будет неизвестно (пропущенное значение), то такие партии необходимо исключить. Так же необходимо исключить партии, где у нас всего одно измерение температуры.\n",
        "\n",
        "Для этого сначала заполняем пропуски в столбце `Температура` нулевыми значениями:"
      ]
    },
    {
      "cell_type": "code",
      "execution_count": null,
      "metadata": {
        "id": "DdUMAnRyOK4N"
      },
      "outputs": [],
      "source": [
        "data_temp['Температура'] = data_temp['Температура'].fillna(0)"
      ]
    },
    {
      "cell_type": "markdown",
      "metadata": {
        "id": "JsCiSwJEOgfP"
      },
      "source": [
        "Потом группируем данные по `key`, находим первое и последнее измерение температуры, считаем количество измерений, сводную таблицу преобразуем в датафрейм и сохраняем в той же переменной"
      ]
    },
    {
      "cell_type": "code",
      "execution_count": null,
      "metadata": {
        "id": "hu64sRRlMxs7"
      },
      "outputs": [],
      "source": [
        "data_temp = data_temp.groupby('key')['Температура'].agg(['first', \n",
        "                                                         'last', \n",
        "                                                         'count']).reset_index()"
      ]
    },
    {
      "cell_type": "markdown",
      "metadata": {
        "id": "4RtANnEYMyJV"
      },
      "source": [
        "Проверим результат:"
      ]
    },
    {
      "cell_type": "code",
      "execution_count": null,
      "metadata": {
        "colab": {
          "base_uri": "https://localhost:8080/",
          "height": 206
        },
        "id": "_4nWIz-2O5yW",
        "outputId": "566c9eab-8a41-48ba-9539-f3c952042486"
      },
      "outputs": [
        {
          "data": {
            "text/html": [
              "<div>\n",
              "<style scoped>\n",
              "    .dataframe tbody tr th:only-of-type {\n",
              "        vertical-align: middle;\n",
              "    }\n",
              "\n",
              "    .dataframe tbody tr th {\n",
              "        vertical-align: top;\n",
              "    }\n",
              "\n",
              "    .dataframe thead th {\n",
              "        text-align: right;\n",
              "    }\n",
              "</style>\n",
              "<table border=\"1\" class=\"dataframe\">\n",
              "  <thead>\n",
              "    <tr style=\"text-align: right;\">\n",
              "      <th></th>\n",
              "      <th>key</th>\n",
              "      <th>first</th>\n",
              "      <th>last</th>\n",
              "      <th>count</th>\n",
              "    </tr>\n",
              "  </thead>\n",
              "  <tbody>\n",
              "    <tr>\n",
              "      <th>0</th>\n",
              "      <td>1</td>\n",
              "      <td>1571.0</td>\n",
              "      <td>1613.0</td>\n",
              "      <td>5</td>\n",
              "    </tr>\n",
              "    <tr>\n",
              "      <th>1</th>\n",
              "      <td>2</td>\n",
              "      <td>1581.0</td>\n",
              "      <td>1602.0</td>\n",
              "      <td>6</td>\n",
              "    </tr>\n",
              "    <tr>\n",
              "      <th>2</th>\n",
              "      <td>3</td>\n",
              "      <td>1596.0</td>\n",
              "      <td>1599.0</td>\n",
              "      <td>5</td>\n",
              "    </tr>\n",
              "    <tr>\n",
              "      <th>3</th>\n",
              "      <td>4</td>\n",
              "      <td>1601.0</td>\n",
              "      <td>1625.0</td>\n",
              "      <td>3</td>\n",
              "    </tr>\n",
              "    <tr>\n",
              "      <th>4</th>\n",
              "      <td>5</td>\n",
              "      <td>1576.0</td>\n",
              "      <td>1602.0</td>\n",
              "      <td>2</td>\n",
              "    </tr>\n",
              "  </tbody>\n",
              "</table>\n",
              "</div>"
            ],
            "text/plain": [
              "   key   first    last  count\n",
              "0    1  1571.0  1613.0      5\n",
              "1    2  1581.0  1602.0      6\n",
              "2    3  1596.0  1599.0      5\n",
              "3    4  1601.0  1625.0      3\n",
              "4    5  1576.0  1602.0      2"
            ]
          },
          "execution_count": 57,
          "metadata": {},
          "output_type": "execute_result"
        }
      ],
      "source": [
        "data_temp.head()"
      ]
    },
    {
      "cell_type": "markdown",
      "metadata": {
        "id": "luD-608BPYZB"
      },
      "source": [
        "Найдем партии, где всего одно измерение:"
      ]
    },
    {
      "cell_type": "code",
      "execution_count": null,
      "metadata": {
        "colab": {
          "base_uri": "https://localhost:8080/",
          "height": 112
        },
        "id": "KXXQDuTNPX3d",
        "outputId": "e07a909a-abc6-4709-b455-adc28ab61cf6",
        "scrolled": true
      },
      "outputs": [
        {
          "data": {
            "text/html": [
              "<div>\n",
              "<style scoped>\n",
              "    .dataframe tbody tr th:only-of-type {\n",
              "        vertical-align: middle;\n",
              "    }\n",
              "\n",
              "    .dataframe tbody tr th {\n",
              "        vertical-align: top;\n",
              "    }\n",
              "\n",
              "    .dataframe thead th {\n",
              "        text-align: right;\n",
              "    }\n",
              "</style>\n",
              "<table border=\"1\" class=\"dataframe\">\n",
              "  <thead>\n",
              "    <tr style=\"text-align: right;\">\n",
              "      <th></th>\n",
              "      <th>key</th>\n",
              "      <th>first</th>\n",
              "      <th>last</th>\n",
              "      <th>count</th>\n",
              "    </tr>\n",
              "  </thead>\n",
              "  <tbody>\n",
              "    <tr>\n",
              "      <th>192</th>\n",
              "      <td>195</td>\n",
              "      <td>1583.0</td>\n",
              "      <td>1583.0</td>\n",
              "      <td>1</td>\n",
              "    </tr>\n",
              "    <tr>\n",
              "      <th>276</th>\n",
              "      <td>279</td>\n",
              "      <td>1603.0</td>\n",
              "      <td>1603.0</td>\n",
              "      <td>1</td>\n",
              "    </tr>\n",
              "  </tbody>\n",
              "</table>\n",
              "</div>"
            ],
            "text/plain": [
              "     key   first    last  count\n",
              "192  195  1583.0  1583.0      1\n",
              "276  279  1603.0  1603.0      1"
            ]
          },
          "execution_count": 58,
          "metadata": {},
          "output_type": "execute_result"
        }
      ],
      "source": [
        "data_temp[data_temp['count'] <= 1]"
      ]
    },
    {
      "cell_type": "markdown",
      "metadata": {
        "id": "cYARTyS7PpsW"
      },
      "source": [
        "Удалим из таблицы партии, где всего одно измерение, удалим столбец `count`:"
      ]
    },
    {
      "cell_type": "code",
      "execution_count": null,
      "metadata": {
        "id": "Lw8AuW_WP4nK"
      },
      "outputs": [],
      "source": [
        "data_temp = data_temp[data_temp['count'] > 1]\n",
        "data_temp = data_temp.drop(columns='count')"
      ]
    },
    {
      "cell_type": "markdown",
      "metadata": {
        "id": "XIXHHpnEQE0N"
      },
      "source": [
        "Найдем партии, где значения первого и/или последнего по времени измерения температуры были пропущены, то есть равны нулю:"
      ]
    },
    {
      "cell_type": "code",
      "execution_count": null,
      "metadata": {
        "colab": {
          "base_uri": "https://localhost:8080/",
          "height": 424
        },
        "id": "AAdTJ08oQa3d",
        "outputId": "7c6691b7-13c7-4388-ffc6-6c492f0a4786"
      },
      "outputs": [
        {
          "data": {
            "text/html": [
              "<div>\n",
              "<style scoped>\n",
              "    .dataframe tbody tr th:only-of-type {\n",
              "        vertical-align: middle;\n",
              "    }\n",
              "\n",
              "    .dataframe tbody tr th {\n",
              "        vertical-align: top;\n",
              "    }\n",
              "\n",
              "    .dataframe thead th {\n",
              "        text-align: right;\n",
              "    }\n",
              "</style>\n",
              "<table border=\"1\" class=\"dataframe\">\n",
              "  <thead>\n",
              "    <tr style=\"text-align: right;\">\n",
              "      <th></th>\n",
              "      <th>key</th>\n",
              "      <th>first</th>\n",
              "      <th>last</th>\n",
              "    </tr>\n",
              "  </thead>\n",
              "  <tbody>\n",
              "    <tr>\n",
              "      <th>2477</th>\n",
              "      <td>2500</td>\n",
              "      <td>1539.0</td>\n",
              "      <td>0.0</td>\n",
              "    </tr>\n",
              "    <tr>\n",
              "      <th>2478</th>\n",
              "      <td>2501</td>\n",
              "      <td>1587.0</td>\n",
              "      <td>0.0</td>\n",
              "    </tr>\n",
              "    <tr>\n",
              "      <th>2479</th>\n",
              "      <td>2502</td>\n",
              "      <td>1583.0</td>\n",
              "      <td>0.0</td>\n",
              "    </tr>\n",
              "    <tr>\n",
              "      <th>2480</th>\n",
              "      <td>2503</td>\n",
              "      <td>1603.0</td>\n",
              "      <td>0.0</td>\n",
              "    </tr>\n",
              "    <tr>\n",
              "      <th>2481</th>\n",
              "      <td>2504</td>\n",
              "      <td>1583.0</td>\n",
              "      <td>0.0</td>\n",
              "    </tr>\n",
              "    <tr>\n",
              "      <th>...</th>\n",
              "      <td>...</td>\n",
              "      <td>...</td>\n",
              "      <td>...</td>\n",
              "    </tr>\n",
              "    <tr>\n",
              "      <th>3211</th>\n",
              "      <td>3237</td>\n",
              "      <td>1569.0</td>\n",
              "      <td>0.0</td>\n",
              "    </tr>\n",
              "    <tr>\n",
              "      <th>3212</th>\n",
              "      <td>3238</td>\n",
              "      <td>1584.0</td>\n",
              "      <td>0.0</td>\n",
              "    </tr>\n",
              "    <tr>\n",
              "      <th>3213</th>\n",
              "      <td>3239</td>\n",
              "      <td>1598.0</td>\n",
              "      <td>0.0</td>\n",
              "    </tr>\n",
              "    <tr>\n",
              "      <th>3214</th>\n",
              "      <td>3240</td>\n",
              "      <td>1617.0</td>\n",
              "      <td>0.0</td>\n",
              "    </tr>\n",
              "    <tr>\n",
              "      <th>3215</th>\n",
              "      <td>3241</td>\n",
              "      <td>1586.0</td>\n",
              "      <td>0.0</td>\n",
              "    </tr>\n",
              "  </tbody>\n",
              "</table>\n",
              "<p>739 rows × 3 columns</p>\n",
              "</div>"
            ],
            "text/plain": [
              "       key   first  last\n",
              "2477  2500  1539.0   0.0\n",
              "2478  2501  1587.0   0.0\n",
              "2479  2502  1583.0   0.0\n",
              "2480  2503  1603.0   0.0\n",
              "2481  2504  1583.0   0.0\n",
              "...    ...     ...   ...\n",
              "3211  3237  1569.0   0.0\n",
              "3212  3238  1584.0   0.0\n",
              "3213  3239  1598.0   0.0\n",
              "3214  3240  1617.0   0.0\n",
              "3215  3241  1586.0   0.0\n",
              "\n",
              "[739 rows x 3 columns]"
            ]
          },
          "execution_count": 60,
          "metadata": {},
          "output_type": "execute_result"
        }
      ],
      "source": [
        "data_temp[(data_temp['first'] == 0) | (data_temp['last'] == 0)]"
      ]
    },
    {
      "cell_type": "markdown",
      "metadata": {
        "id": "rjZEjThnQ4ZO"
      },
      "source": [
        "Так как у нас нет возможности восстановить пропущенные значения первого и/или последнего измерения температуры, предлагам такие партии удалить из выборки. Также предлагаем удалить партии, где значения температуры ниже 1500 градусов, что находится за пределами нижней границы 3-х стандартных отклонений и считается аномалией:"
      ]
    },
    {
      "cell_type": "code",
      "execution_count": null,
      "metadata": {
        "id": "MKij19lNRDzu"
      },
      "outputs": [],
      "source": [
        "data_temp = data_temp[(data_temp['first'] > 1500) & (data_temp['last'] > 1500)]"
      ]
    },
    {
      "cell_type": "markdown",
      "metadata": {
        "id": "yLlPucmH-rIv"
      },
      "source": [
        "Переименуем столбцы:"
      ]
    },
    {
      "cell_type": "code",
      "execution_count": null,
      "metadata": {
        "id": "YtHt0OgJ-uIM"
      },
      "outputs": [],
      "source": [
        "data_temp.columns = ['key', 'first_temp', 'last_temp']"
      ]
    },
    {
      "cell_type": "markdown",
      "metadata": {
        "id": "5E9GYaGr-xWG"
      },
      "source": [
        "Общая информация о таблице:"
      ]
    },
    {
      "cell_type": "code",
      "execution_count": null,
      "metadata": {
        "colab": {
          "base_uri": "https://localhost:8080/"
        },
        "id": "gPhxFWJC-9GW",
        "outputId": "5b0b3db3-c08e-4f9c-cb34-010565f5e7e0"
      },
      "outputs": [
        {
          "name": "stdout",
          "output_type": "stream",
          "text": [
            "<class 'pandas.core.frame.DataFrame'>\n",
            "Int64Index: 2471 entries, 0 to 2476\n",
            "Data columns (total 3 columns):\n",
            " #   Column      Non-Null Count  Dtype  \n",
            "---  ------      --------------  -----  \n",
            " 0   key         2471 non-null   int64  \n",
            " 1   first_temp  2471 non-null   float64\n",
            " 2   last_temp   2471 non-null   float64\n",
            "dtypes: float64(2), int64(1)\n",
            "memory usage: 77.2 KB\n"
          ]
        }
      ],
      "source": [
        "data_temp.info()"
      ]
    },
    {
      "cell_type": "markdown",
      "metadata": {
        "id": "T5fCR1xyTCYb"
      },
      "source": [
        "После обработки и преобразования данных о результатах измерения температуры в нашем распоряжении остались наблюдения о 2 471 партии."
      ]
    },
    {
      "cell_type": "markdown",
      "metadata": {
        "id": "qdZ-8osiTN7k"
      },
      "source": [
        "### Данные об объемах проволочных материалов"
      ]
    },
    {
      "cell_type": "markdown",
      "metadata": {
        "id": "Qz90G6oBV8Ra"
      },
      "source": [
        "Еще раз проверим пропуски в признаках:"
      ]
    },
    {
      "cell_type": "code",
      "execution_count": null,
      "metadata": {
        "colab": {
          "base_uri": "https://localhost:8080/"
        },
        "id": "hHpELzdUTgva",
        "outputId": "471cdc31-0a5c-4373-d048-ff64842b772c"
      },
      "outputs": [
        {
          "name": "stdout",
          "output_type": "stream",
          "text": [
            "<class 'pandas.core.frame.DataFrame'>\n",
            "RangeIndex: 3081 entries, 0 to 3080\n",
            "Data columns (total 10 columns):\n",
            " #   Column  Non-Null Count  Dtype  \n",
            "---  ------  --------------  -----  \n",
            " 0   key     3081 non-null   int64  \n",
            " 1   Wire 1  3055 non-null   float64\n",
            " 2   Wire 2  1079 non-null   float64\n",
            " 3   Wire 3  63 non-null     float64\n",
            " 4   Wire 4  14 non-null     float64\n",
            " 5   Wire 5  1 non-null      float64\n",
            " 6   Wire 6  73 non-null     float64\n",
            " 7   Wire 7  11 non-null     float64\n",
            " 8   Wire 8  19 non-null     float64\n",
            " 9   Wire 9  29 non-null     float64\n",
            "dtypes: float64(9), int64(1)\n",
            "memory usage: 240.8 KB\n"
          ]
        }
      ],
      "source": [
        "data_wire.info()"
      ]
    },
    {
      "cell_type": "markdown",
      "metadata": {
        "id": "6DSQREywWCDE"
      },
      "source": [
        "У признака `Wire 5` всего одно непропущенное значение. Предлагаем удалить его, а все остальные пропуски заполнить нулями:"
      ]
    },
    {
      "cell_type": "code",
      "execution_count": null,
      "metadata": {
        "id": "DPHM85StWRKB"
      },
      "outputs": [],
      "source": [
        "data_wire = data_wire.drop(columns='Wire 5')"
      ]
    },
    {
      "cell_type": "code",
      "execution_count": null,
      "metadata": {
        "id": "TFOV35mlWWzx"
      },
      "outputs": [],
      "source": [
        "data_wire = data_wire.fillna(0)"
      ]
    },
    {
      "cell_type": "markdown",
      "metadata": {
        "id": "2cM5nT_-Wm8S"
      },
      "source": [
        "## Объединение таблиц в один датасет"
      ]
    },
    {
      "cell_type": "markdown",
      "metadata": {
        "id": "8nTEaqdgWzXF"
      },
      "source": [
        "Объединим все таблицы в единый датасет, включив в него только те партии, ключи которых есть во всех таблицах:"
      ]
    },
    {
      "cell_type": "code",
      "execution_count": null,
      "metadata": {
        "colab": {
          "base_uri": "https://localhost:8080/",
          "height": 317
        },
        "id": "MF1tapTEXSJs",
        "outputId": "8e70e130-bf09-4605-d383-720f89d3ee2d"
      },
      "outputs": [
        {
          "data": {
            "text/html": [
              "<div>\n",
              "<style scoped>\n",
              "    .dataframe tbody tr th:only-of-type {\n",
              "        vertical-align: middle;\n",
              "    }\n",
              "\n",
              "    .dataframe tbody tr th {\n",
              "        vertical-align: top;\n",
              "    }\n",
              "\n",
              "    .dataframe thead th {\n",
              "        text-align: right;\n",
              "    }\n",
              "</style>\n",
              "<table border=\"1\" class=\"dataframe\">\n",
              "  <thead>\n",
              "    <tr style=\"text-align: right;\">\n",
              "      <th></th>\n",
              "      <th>key</th>\n",
              "      <th>Активная мощность</th>\n",
              "      <th>Реактивная мощность</th>\n",
              "      <th>Bulk 1</th>\n",
              "      <th>Bulk 2</th>\n",
              "      <th>Bulk 3</th>\n",
              "      <th>Bulk 4</th>\n",
              "      <th>Bulk 5</th>\n",
              "      <th>Bulk 6</th>\n",
              "      <th>Bulk 7</th>\n",
              "      <th>...</th>\n",
              "      <th>Wire 1</th>\n",
              "      <th>Wire 2</th>\n",
              "      <th>Wire 3</th>\n",
              "      <th>Wire 4</th>\n",
              "      <th>Wire 6</th>\n",
              "      <th>Wire 7</th>\n",
              "      <th>Wire 8</th>\n",
              "      <th>Wire 9</th>\n",
              "      <th>first_temp</th>\n",
              "      <th>last_temp</th>\n",
              "    </tr>\n",
              "  </thead>\n",
              "  <tbody>\n",
              "    <tr>\n",
              "      <th>0</th>\n",
              "      <td>1</td>\n",
              "      <td>4.878147</td>\n",
              "      <td>3.183241</td>\n",
              "      <td>0.0</td>\n",
              "      <td>0.0</td>\n",
              "      <td>0.0</td>\n",
              "      <td>43.0</td>\n",
              "      <td>0.0</td>\n",
              "      <td>0.0</td>\n",
              "      <td>0.0</td>\n",
              "      <td>...</td>\n",
              "      <td>60.059998</td>\n",
              "      <td>0.00000</td>\n",
              "      <td>0.0</td>\n",
              "      <td>0.0</td>\n",
              "      <td>0.0</td>\n",
              "      <td>0.0</td>\n",
              "      <td>0.0</td>\n",
              "      <td>0.0</td>\n",
              "      <td>1571.0</td>\n",
              "      <td>1613.0</td>\n",
              "    </tr>\n",
              "    <tr>\n",
              "      <th>1</th>\n",
              "      <td>2</td>\n",
              "      <td>3.052598</td>\n",
              "      <td>1.998112</td>\n",
              "      <td>0.0</td>\n",
              "      <td>0.0</td>\n",
              "      <td>0.0</td>\n",
              "      <td>73.0</td>\n",
              "      <td>0.0</td>\n",
              "      <td>0.0</td>\n",
              "      <td>0.0</td>\n",
              "      <td>...</td>\n",
              "      <td>96.052315</td>\n",
              "      <td>0.00000</td>\n",
              "      <td>0.0</td>\n",
              "      <td>0.0</td>\n",
              "      <td>0.0</td>\n",
              "      <td>0.0</td>\n",
              "      <td>0.0</td>\n",
              "      <td>0.0</td>\n",
              "      <td>1581.0</td>\n",
              "      <td>1602.0</td>\n",
              "    </tr>\n",
              "    <tr>\n",
              "      <th>2</th>\n",
              "      <td>3</td>\n",
              "      <td>2.525882</td>\n",
              "      <td>1.599076</td>\n",
              "      <td>0.0</td>\n",
              "      <td>0.0</td>\n",
              "      <td>0.0</td>\n",
              "      <td>34.0</td>\n",
              "      <td>0.0</td>\n",
              "      <td>0.0</td>\n",
              "      <td>0.0</td>\n",
              "      <td>...</td>\n",
              "      <td>91.160157</td>\n",
              "      <td>0.00000</td>\n",
              "      <td>0.0</td>\n",
              "      <td>0.0</td>\n",
              "      <td>0.0</td>\n",
              "      <td>0.0</td>\n",
              "      <td>0.0</td>\n",
              "      <td>0.0</td>\n",
              "      <td>1596.0</td>\n",
              "      <td>1599.0</td>\n",
              "    </tr>\n",
              "    <tr>\n",
              "      <th>3</th>\n",
              "      <td>4</td>\n",
              "      <td>3.209250</td>\n",
              "      <td>2.060298</td>\n",
              "      <td>0.0</td>\n",
              "      <td>0.0</td>\n",
              "      <td>0.0</td>\n",
              "      <td>81.0</td>\n",
              "      <td>0.0</td>\n",
              "      <td>0.0</td>\n",
              "      <td>0.0</td>\n",
              "      <td>...</td>\n",
              "      <td>89.063515</td>\n",
              "      <td>0.00000</td>\n",
              "      <td>0.0</td>\n",
              "      <td>0.0</td>\n",
              "      <td>0.0</td>\n",
              "      <td>0.0</td>\n",
              "      <td>0.0</td>\n",
              "      <td>0.0</td>\n",
              "      <td>1601.0</td>\n",
              "      <td>1625.0</td>\n",
              "    </tr>\n",
              "    <tr>\n",
              "      <th>4</th>\n",
              "      <td>5</td>\n",
              "      <td>3.347173</td>\n",
              "      <td>2.252643</td>\n",
              "      <td>0.0</td>\n",
              "      <td>0.0</td>\n",
              "      <td>0.0</td>\n",
              "      <td>78.0</td>\n",
              "      <td>0.0</td>\n",
              "      <td>0.0</td>\n",
              "      <td>0.0</td>\n",
              "      <td>...</td>\n",
              "      <td>89.238236</td>\n",
              "      <td>9.11456</td>\n",
              "      <td>0.0</td>\n",
              "      <td>0.0</td>\n",
              "      <td>0.0</td>\n",
              "      <td>0.0</td>\n",
              "      <td>0.0</td>\n",
              "      <td>0.0</td>\n",
              "      <td>1576.0</td>\n",
              "      <td>1602.0</td>\n",
              "    </tr>\n",
              "  </tbody>\n",
              "</table>\n",
              "<p>5 rows × 29 columns</p>\n",
              "</div>"
            ],
            "text/plain": [
              "   key  Активная мощность  Реактивная мощность  Bulk 1  Bulk 2  Bulk 3  \\\n",
              "0    1           4.878147             3.183241     0.0     0.0     0.0   \n",
              "1    2           3.052598             1.998112     0.0     0.0     0.0   \n",
              "2    3           2.525882             1.599076     0.0     0.0     0.0   \n",
              "3    4           3.209250             2.060298     0.0     0.0     0.0   \n",
              "4    5           3.347173             2.252643     0.0     0.0     0.0   \n",
              "\n",
              "   Bulk 4  Bulk 5  Bulk 6  Bulk 7  ...     Wire 1   Wire 2  Wire 3  Wire 4  \\\n",
              "0    43.0     0.0     0.0     0.0  ...  60.059998  0.00000     0.0     0.0   \n",
              "1    73.0     0.0     0.0     0.0  ...  96.052315  0.00000     0.0     0.0   \n",
              "2    34.0     0.0     0.0     0.0  ...  91.160157  0.00000     0.0     0.0   \n",
              "3    81.0     0.0     0.0     0.0  ...  89.063515  0.00000     0.0     0.0   \n",
              "4    78.0     0.0     0.0     0.0  ...  89.238236  9.11456     0.0     0.0   \n",
              "\n",
              "   Wire 6  Wire 7  Wire 8  Wire 9  first_temp  last_temp  \n",
              "0     0.0     0.0     0.0     0.0      1571.0     1613.0  \n",
              "1     0.0     0.0     0.0     0.0      1581.0     1602.0  \n",
              "2     0.0     0.0     0.0     0.0      1596.0     1599.0  \n",
              "3     0.0     0.0     0.0     0.0      1601.0     1625.0  \n",
              "4     0.0     0.0     0.0     0.0      1576.0     1602.0  \n",
              "\n",
              "[5 rows x 29 columns]"
            ]
          },
          "execution_count": 67,
          "metadata": {},
          "output_type": "execute_result"
        }
      ],
      "source": [
        "df = reduce(lambda x, y: pd.merge(x, y, on='key', how='inner'), [data_arc,\n",
        "                                                            data_bulc,\n",
        "                                                            data_gas,\n",
        "                                                            data_wire,\n",
        "                                                            data_temp])\n",
        "\n",
        "df.head()"
      ]
    },
    {
      "cell_type": "markdown",
      "metadata": {
        "id": "Yply6TToXzUe"
      },
      "source": [
        "Общая информация о таблице:"
      ]
    },
    {
      "cell_type": "code",
      "execution_count": null,
      "metadata": {
        "colab": {
          "base_uri": "https://localhost:8080/"
        },
        "id": "v459B7lCai12",
        "outputId": "917606c5-7a6f-40d7-d877-e2918b34de83",
        "scrolled": true
      },
      "outputs": [
        {
          "name": "stdout",
          "output_type": "stream",
          "text": [
            "<class 'pandas.core.frame.DataFrame'>\n",
            "Int64Index: 2325 entries, 0 to 2324\n",
            "Data columns (total 29 columns):\n",
            " #   Column               Non-Null Count  Dtype  \n",
            "---  ------               --------------  -----  \n",
            " 0   key                  2325 non-null   int64  \n",
            " 1   Активная мощность    2325 non-null   float64\n",
            " 2   Реактивная мощность  2325 non-null   float64\n",
            " 3   Bulk 1               2325 non-null   float64\n",
            " 4   Bulk 2               2325 non-null   float64\n",
            " 5   Bulk 3               2325 non-null   float64\n",
            " 6   Bulk 4               2325 non-null   float64\n",
            " 7   Bulk 5               2325 non-null   float64\n",
            " 8   Bulk 6               2325 non-null   float64\n",
            " 9   Bulk 7               2325 non-null   float64\n",
            " 10  Bulk 8               2325 non-null   float64\n",
            " 11  Bulk 9               2325 non-null   float64\n",
            " 12  Bulk 10              2325 non-null   float64\n",
            " 13  Bulk 11              2325 non-null   float64\n",
            " 14  Bulk 12              2325 non-null   float64\n",
            " 15  Bulk 13              2325 non-null   float64\n",
            " 16  Bulk 14              2325 non-null   float64\n",
            " 17  Bulk 15              2325 non-null   float64\n",
            " 18  Газ 1                2325 non-null   float64\n",
            " 19  Wire 1               2325 non-null   float64\n",
            " 20  Wire 2               2325 non-null   float64\n",
            " 21  Wire 3               2325 non-null   float64\n",
            " 22  Wire 4               2325 non-null   float64\n",
            " 23  Wire 6               2325 non-null   float64\n",
            " 24  Wire 7               2325 non-null   float64\n",
            " 25  Wire 8               2325 non-null   float64\n",
            " 26  Wire 9               2325 non-null   float64\n",
            " 27  first_temp           2325 non-null   float64\n",
            " 28  last_temp            2325 non-null   float64\n",
            "dtypes: float64(28), int64(1)\n",
            "memory usage: 544.9 KB\n"
          ]
        }
      ],
      "source": [
        "df.info()"
      ]
    },
    {
      "cell_type": "markdown",
      "metadata": {
        "id": "zQU3srN8fJlH"
      },
      "source": [
        "На тепловой карте визуализируем линейную корреляцию между признаками:"
      ]
    },
    {
      "cell_type": "code",
      "execution_count": null,
      "metadata": {
        "colab": {
          "base_uri": "https://localhost:8080/",
          "height": 1000
        },
        "id": "ZZgmD7NVfR7x",
        "outputId": "c49434f2-d14d-4f92-834e-b2dca99a1761"
      },
      "outputs": [
        {
          "data": {
            "image/png": "[encoded data removed]",
            "text/plain": [
              "<Figure size 1440x1440 with 2 Axes>"
            ]
          },
          "metadata": {},
          "output_type": "display_data"
        }
      ],
      "source": [
        "plt.figure(figsize=(20, 20))\n",
        "sns.heatmap(df.corr(), annot=True, square=True, fmt='.2f')\n",
        "plt.show()"
      ]
    },
    {
      "cell_type": "markdown",
      "metadata": {
        "id": "aK3mUr4EsY6I"
      },
      "source": [
        "**Вывод**\n",
        "\n",
        "Наблюдается слабая положительная связь между целевым признаком `last_temp` и признаками `first_temp`, `Wire 1`, `Bulk 15`, `Bulk 12`, `Активная мощность` и `Реактивная мощность`.\n",
        "\n",
        "Мы наблюдаем строгую функциональную зависимость, которой связаны признаки `Bulk 9` и `Wire 8`, а также можем видеть мультиколлинеарность той или иной степени между некоторыми признаками: например, между `Bulk 2` и `Wire 4`, `Wire 6`, `Bulk 7`, между `Bulk 7` и `Wire 4`, между `Wire 4` и `Wire 7`."
      ]
    },
    {
      "cell_type": "markdown",
      "metadata": {
        "id": "Me_H9_thakx3"
      },
      "source": [
        "## Обучающая и тестовая выборки"
      ]
    },
    {
      "cell_type": "markdown",
      "metadata": {
        "id": "oP7uY_jqa1GG"
      },
      "source": [
        "Создадим список признаков и таргета и сохраним в переменных `X` и `y`:"
      ]
    },
    {
      "cell_type": "code",
      "execution_count": null,
      "metadata": {
        "id": "u3Hbp_BpcNDd"
      },
      "outputs": [],
      "source": [
        "X = ['Активная мощность', 'Реактивная мощность', 'Bulk 1', 'Bulk 2',\n",
        "       'Bulk 3', 'Bulk 4', 'Bulk 5', 'Bulk 6', 'Bulk 7', 'Bulk 8', 'Bulk 9',\n",
        "       'Bulk 10', 'Bulk 11', 'Bulk 12', 'Bulk 13', 'Bulk 14', 'Bulk 15',\n",
        "       'Газ 1', 'Wire 1', 'Wire 2', 'Wire 3', 'Wire 4', 'Wire 6', 'Wire 7',\n",
        "       'Wire 8', 'Wire 9', 'first_temp']"
      ]
    },
    {
      "cell_type": "code",
      "execution_count": null,
      "metadata": {
        "id": "2dCI5UPRcSDe"
      },
      "outputs": [],
      "source": [
        "y = 'last_temp'"
      ]
    },
    {
      "cell_type": "markdown",
      "metadata": {
        "id": "W4kj9ZOkcWj9"
      },
      "source": [
        "Поделим датасет на обучающую и тестовую выборки в соотношении 3 к 1:"
      ]
    },
    {
      "cell_type": "code",
      "execution_count": null,
      "metadata": {
        "id": "9EmE_bQkcclB"
      },
      "outputs": [],
      "source": [
        "train_X, test_X, train_y, test_y = train_test_split(df[X], \n",
        "                                                    df[y], \n",
        "                                                    test_size=0.25, \n",
        "                                                    random_state=130223)"
      ]
    },
    {
      "cell_type": "markdown",
      "metadata": {
        "id": "2C9KTSboewIC"
      },
      "source": [
        "## Обучение модели"
      ]
    },
    {
      "cell_type": "markdown",
      "metadata": {
        "id": "M25WNMK-gzAC"
      },
      "source": [
        "### Линейная регрессия с регуляризацией LASSO"
      ]
    },
    {
      "cell_type": "markdown",
      "metadata": {
        "id": "hCx0YxdXg8-2"
      },
      "source": [
        "Для первой модели мы будем использовать алгоритм линейной регрессии с регуляризацией  LASSO, чтобы алгоритм мог занулить коэффициенты **неважных** признаков.\n",
        "\n",
        "В поисках лучшей модели будем перебирать гиперпарамер `alpha`."
      ]
    },
    {
      "cell_type": "markdown",
      "metadata": {
        "id": "8iGxhi4xdfDR"
      },
      "source": [
        "Создадим конвейер подготовки количественных признаков:"
      ]
    },
    {
      "cell_type": "code",
      "execution_count": null,
      "metadata": {
        "id": "JF6hEQvWdkP7"
      },
      "outputs": [],
      "source": [
        "num_transformer = make_pipeline(StandardScaler())"
      ]
    },
    {
      "cell_type": "markdown",
      "metadata": {
        "id": "hogH-CmgfyC1"
      },
      "source": [
        "Создадим preprocessor для подготовки всех данных:"
      ]
    },
    {
      "cell_type": "code",
      "execution_count": null,
      "metadata": {
        "id": "dx88obJTf6V8"
      },
      "outputs": [],
      "source": [
        "preprocessor = ColumnTransformer([('num', num_transformer, X)])"
      ]
    },
    {
      "cell_type": "markdown",
      "metadata": {
        "id": "krhGfPBEgpJG"
      },
      "source": [
        "Создадим финальный конвейер для подготовки данных и обучения алгоритма:"
      ]
    },
    {
      "cell_type": "code",
      "execution_count": null,
      "metadata": {
        "id": "dW8MpTPSg19k"
      },
      "outputs": [],
      "source": [
        "alg = Pipeline(steps=[('prerocessor', preprocessor), \n",
        "                      ('estimator', Lasso(random_state=130223))])"
      ]
    },
    {
      "cell_type": "markdown",
      "metadata": {
        "id": "d__MfTR2iiX8"
      },
      "source": [
        "Посмотрим на этапы конвейера:"
      ]
    },
    {
      "cell_type": "code",
      "execution_count": null,
      "metadata": {
        "colab": {
          "base_uri": "https://localhost:8080/"
        },
        "id": "DV38gSwSiWGG",
        "outputId": "5d6c7428-6a1a-432a-90d5-71aa2231df8e",
        "scrolled": false
      },
      "outputs": [
        {
          "data": {
            "text/plain": [
              "Pipeline(steps=[('prerocessor',\n",
              "                 ColumnTransformer(transformers=[('num',\n",
              "                                                  Pipeline(steps=[('standardscaler',\n",
              "                                                                   StandardScaler())]),\n",
              "                                                  ['Активная мощность',\n",
              "                                                   'Реактивная мощность',\n",
              "                                                   'Bulk 1', 'Bulk 2', 'Bulk 3',\n",
              "                                                   'Bulk 4', 'Bulk 5', 'Bulk 6',\n",
              "                                                   'Bulk 7', 'Bulk 8', 'Bulk 9',\n",
              "                                                   'Bulk 10', 'Bulk 11',\n",
              "                                                   'Bulk 12', 'Bulk 13',\n",
              "                                                   'Bulk 14', 'Bulk 15',\n",
              "                                                   'Газ 1', 'Wire 1', 'Wire 2',\n",
              "                                                   'Wire 3', 'Wire 4', 'Wire 6',\n",
              "                                                   'Wire 7', 'Wire 8', 'Wire 9',\n",
              "                                                   'first_temp'])])),\n",
              "                ('estimator', Lasso(random_state=130223))])"
            ]
          },
          "execution_count": 76,
          "metadata": {},
          "output_type": "execute_result"
        }
      ],
      "source": [
        "alg"
      ]
    },
    {
      "cell_type": "markdown",
      "metadata": {
        "id": "pbcHX_y4l78y"
      },
      "source": [
        "Создадим сетку гиперпараметров для алгоритма линейной регрессии:"
      ]
    },
    {
      "cell_type": "code",
      "execution_count": null,
      "metadata": {
        "id": "DW39CsP_kGNF"
      },
      "outputs": [],
      "source": [
        "parameters = {\n",
        "    'estimator__alpha': [0, 0.01, 0.02, 0.03, 0.05, 0.07,\n",
        "                         0.1, 0.2, 0.3, 0.4, 0.5, 0.7, 1, 2, 10],\n",
        "    'estimator__max_iter': [300, 500, 1000, 2000]\n",
        "}"
      ]
    },
    {
      "cell_type": "code",
      "execution_count": null,
      "metadata": {
        "id": "vI2SMB0wmBsS"
      },
      "outputs": [],
      "source": [
        "gs = GridSearchCV(alg,\n",
        "                  parameters,\n",
        "                  cv=5,\n",
        "                  scoring=make_scorer(mean_absolute_error,\n",
        "                                      greater_is_better=False),\n",
        "                  n_jobs=2)"
      ]
    },
    {
      "cell_type": "markdown",
      "metadata": {
        "id": "rLto_1zJm0WO"
      },
      "source": [
        "Перебираем гиперпараметры:"
      ]
    },
    {
      "cell_type": "code",
      "execution_count": null,
      "metadata": {
        "colab": {
          "base_uri": "https://localhost:8080/"
        },
        "collapsed": true,
        "id": "y4fhT3T-m55g",
        "outputId": "ac568f44-03d6-45b6-8b1a-1312ef88f7cb"
      },
      "outputs": [
        {
          "name": "stderr",
          "output_type": "stream",
          "text": [
            "/opt/conda/lib/python3.9/site-packages/sklearn/pipeline.py:346: UserWarning: With alpha=0, this algorithm does not converge well. You are advised to use the LinearRegression estimator\n",
            "  self._final_estimator.fit(Xt, y, **fit_params_last_step)\n",
            "/opt/conda/lib/python3.9/site-packages/sklearn/linear_model/_coordinate_descent.py:530: UserWarning: Coordinate descent with no regularization may lead to unexpected results and is discouraged.\n",
            "  model = cd_fast.enet_coordinate_descent(\n",
            "/opt/conda/lib/python3.9/site-packages/sklearn/pipeline.py:346: UserWarning: With alpha=0, this algorithm does not converge well. You are advised to use the LinearRegression estimator\n",
            "  self._final_estimator.fit(Xt, y, **fit_params_last_step)\n",
            "/opt/conda/lib/python3.9/site-packages/sklearn/linear_model/_coordinate_descent.py:530: UserWarning: Coordinate descent with no regularization may lead to unexpected results and is discouraged.\n",
            "  model = cd_fast.enet_coordinate_descent(\n",
            "/opt/conda/lib/python3.9/site-packages/sklearn/linear_model/_coordinate_descent.py:530: ConvergenceWarning: Objective did not converge. You might want to increase the number of iterations. Duality gap: 43214.567414616635, tolerance: 17.13267776183646\n",
            "  model = cd_fast.enet_coordinate_descent(\n",
            "/opt/conda/lib/python3.9/site-packages/sklearn/linear_model/_coordinate_descent.py:530: ConvergenceWarning: Objective did not converge. You might want to increase the number of iterations. Duality gap: 40315.67855010784, tolerance: 17.268672022955524\n",
            "  model = cd_fast.enet_coordinate_descent(\n",
            "/opt/conda/lib/python3.9/site-packages/sklearn/pipeline.py:346: UserWarning: With alpha=0, this algorithm does not converge well. You are advised to use the LinearRegression estimator\n",
            "  self._final_estimator.fit(Xt, y, **fit_params_last_step)\n",
            "/opt/conda/lib/python3.9/site-packages/sklearn/linear_model/_coordinate_descent.py:530: UserWarning: Coordinate descent with no regularization may lead to unexpected results and is discouraged.\n",
            "  model = cd_fast.enet_coordinate_descent(\n",
            "/opt/conda/lib/python3.9/site-packages/sklearn/pipeline.py:346: UserWarning: With alpha=0, this algorithm does not converge well. You are advised to use the LinearRegression estimator\n",
            "  self._final_estimator.fit(Xt, y, **fit_params_last_step)\n",
            "/opt/conda/lib/python3.9/site-packages/sklearn/linear_model/_coordinate_descent.py:530: UserWarning: Coordinate descent with no regularization may lead to unexpected results and is discouraged.\n",
            "  model = cd_fast.enet_coordinate_descent(\n",
            "/opt/conda/lib/python3.9/site-packages/sklearn/linear_model/_coordinate_descent.py:530: ConvergenceWarning: Objective did not converge. You might want to increase the number of iterations. Duality gap: 42653.96853230199, tolerance: 17.37313055954089\n",
            "  model = cd_fast.enet_coordinate_descent(\n",
            "/opt/conda/lib/python3.9/site-packages/sklearn/linear_model/_coordinate_descent.py:530: ConvergenceWarning: Objective did not converge. You might want to increase the number of iterations. Duality gap: 43381.55634748483, tolerance: 18.35318379928316\n",
            "  model = cd_fast.enet_coordinate_descent(\n",
            "/opt/conda/lib/python3.9/site-packages/sklearn/pipeline.py:346: UserWarning: With alpha=0, this algorithm does not converge well. You are advised to use the LinearRegression estimator\n",
            "  self._final_estimator.fit(Xt, y, **fit_params_last_step)\n",
            "/opt/conda/lib/python3.9/site-packages/sklearn/linear_model/_coordinate_descent.py:530: UserWarning: Coordinate descent with no regularization may lead to unexpected results and is discouraged.\n",
            "  model = cd_fast.enet_coordinate_descent(\n",
            "/opt/conda/lib/python3.9/site-packages/sklearn/pipeline.py:346: UserWarning: With alpha=0, this algorithm does not converge well. You are advised to use the LinearRegression estimator\n",
            "  self._final_estimator.fit(Xt, y, **fit_params_last_step)\n",
            "/opt/conda/lib/python3.9/site-packages/sklearn/linear_model/_coordinate_descent.py:530: UserWarning: Coordinate descent with no regularization may lead to unexpected results and is discouraged.\n",
            "  model = cd_fast.enet_coordinate_descent(\n",
            "/opt/conda/lib/python3.9/site-packages/sklearn/linear_model/_coordinate_descent.py:530: ConvergenceWarning: Objective did not converge. You might want to increase the number of iterations. Duality gap: 42327.14385575048, tolerance: 17.5466246594982\n",
            "  model = cd_fast.enet_coordinate_descent(\n",
            "/opt/conda/lib/python3.9/site-packages/sklearn/linear_model/_coordinate_descent.py:530: ConvergenceWarning: Objective did not converge. You might want to increase the number of iterations. Duality gap: 40315.67158032434, tolerance: 17.268672022955524\n",
            "  model = cd_fast.enet_coordinate_descent(\n",
            "/opt/conda/lib/python3.9/site-packages/sklearn/pipeline.py:346: UserWarning: With alpha=0, this algorithm does not converge well. You are advised to use the LinearRegression estimator\n",
            "  self._final_estimator.fit(Xt, y, **fit_params_last_step)\n",
            "/opt/conda/lib/python3.9/site-packages/sklearn/linear_model/_coordinate_descent.py:530: UserWarning: Coordinate descent with no regularization may lead to unexpected results and is discouraged.\n",
            "  model = cd_fast.enet_coordinate_descent(\n",
            "/opt/conda/lib/python3.9/site-packages/sklearn/pipeline.py:346: UserWarning: With alpha=0, this algorithm does not converge well. You are advised to use the LinearRegression estimator\n",
            "  self._final_estimator.fit(Xt, y, **fit_params_last_step)\n",
            "/opt/conda/lib/python3.9/site-packages/sklearn/linear_model/_coordinate_descent.py:530: UserWarning: Coordinate descent with no regularization may lead to unexpected results and is discouraged.\n",
            "  model = cd_fast.enet_coordinate_descent(\n",
            "/opt/conda/lib/python3.9/site-packages/sklearn/linear_model/_coordinate_descent.py:530: ConvergenceWarning: Objective did not converge. You might want to increase the number of iterations. Duality gap: 43214.03340365727, tolerance: 17.13267776183646\n",
            "  model = cd_fast.enet_coordinate_descent(\n",
            "/opt/conda/lib/python3.9/site-packages/sklearn/linear_model/_coordinate_descent.py:530: ConvergenceWarning: Objective did not converge. You might want to increase the number of iterations. Duality gap: 42653.96594462513, tolerance: 17.37313055954089\n",
            "  model = cd_fast.enet_coordinate_descent(\n",
            "/opt/conda/lib/python3.9/site-packages/sklearn/pipeline.py:346: UserWarning: With alpha=0, this algorithm does not converge well. You are advised to use the LinearRegression estimator\n",
            "  self._final_estimator.fit(Xt, y, **fit_params_last_step)\n",
            "/opt/conda/lib/python3.9/site-packages/sklearn/linear_model/_coordinate_descent.py:530: UserWarning: Coordinate descent with no regularization may lead to unexpected results and is discouraged.\n",
            "  model = cd_fast.enet_coordinate_descent(\n",
            "/opt/conda/lib/python3.9/site-packages/sklearn/pipeline.py:346: UserWarning: With alpha=0, this algorithm does not converge well. You are advised to use the LinearRegression estimator\n",
            "  self._final_estimator.fit(Xt, y, **fit_params_last_step)\n",
            "/opt/conda/lib/python3.9/site-packages/sklearn/linear_model/_coordinate_descent.py:530: UserWarning: Coordinate descent with no regularization may lead to unexpected results and is discouraged.\n",
            "  model = cd_fast.enet_coordinate_descent(\n",
            "/opt/conda/lib/python3.9/site-packages/sklearn/linear_model/_coordinate_descent.py:530: ConvergenceWarning: Objective did not converge. You might want to increase the number of iterations. Duality gap: 43381.556312503024, tolerance: 18.35318379928316\n",
            "  model = cd_fast.enet_coordinate_descent(\n",
            "/opt/conda/lib/python3.9/site-packages/sklearn/linear_model/_coordinate_descent.py:530: ConvergenceWarning: Objective did not converge. You might want to increase the number of iterations. Duality gap: 42327.140013764205, tolerance: 17.5466246594982\n",
            "  model = cd_fast.enet_coordinate_descent(\n",
            "/opt/conda/lib/python3.9/site-packages/sklearn/pipeline.py:346: UserWarning: With alpha=0, this algorithm does not converge well. You are advised to use the LinearRegression estimator\n",
            "  self._final_estimator.fit(Xt, y, **fit_params_last_step)\n",
            "/opt/conda/lib/python3.9/site-packages/sklearn/linear_model/_coordinate_descent.py:530: UserWarning: Coordinate descent with no regularization may lead to unexpected results and is discouraged.\n",
            "  model = cd_fast.enet_coordinate_descent(\n",
            "/opt/conda/lib/python3.9/site-packages/sklearn/pipeline.py:346: UserWarning: With alpha=0, this algorithm does not converge well. You are advised to use the LinearRegression estimator\n",
            "  self._final_estimator.fit(Xt, y, **fit_params_last_step)\n",
            "/opt/conda/lib/python3.9/site-packages/sklearn/linear_model/_coordinate_descent.py:530: UserWarning: Coordinate descent with no regularization may lead to unexpected results and is discouraged.\n",
            "  model = cd_fast.enet_coordinate_descent(\n",
            "/opt/conda/lib/python3.9/site-packages/sklearn/linear_model/_coordinate_descent.py:530: ConvergenceWarning: Objective did not converge. You might want to increase the number of iterations. Duality gap: 40315.67156337983, tolerance: 17.268672022955524\n",
            "  model = cd_fast.enet_coordinate_descent(\n",
            "/opt/conda/lib/python3.9/site-packages/sklearn/linear_model/_coordinate_descent.py:530: ConvergenceWarning: Objective did not converge. You might want to increase the number of iterations. Duality gap: 43213.16414741858, tolerance: 17.13267776183646\n",
            "  model = cd_fast.enet_coordinate_descent(\n",
            "/opt/conda/lib/python3.9/site-packages/sklearn/pipeline.py:346: UserWarning: With alpha=0, this algorithm does not converge well. You are advised to use the LinearRegression estimator\n",
            "  self._final_estimator.fit(Xt, y, **fit_params_last_step)\n",
            "/opt/conda/lib/python3.9/site-packages/sklearn/linear_model/_coordinate_descent.py:530: UserWarning: Coordinate descent with no regularization may lead to unexpected results and is discouraged.\n",
            "  model = cd_fast.enet_coordinate_descent(\n",
            "/opt/conda/lib/python3.9/site-packages/sklearn/pipeline.py:346: UserWarning: With alpha=0, this algorithm does not converge well. You are advised to use the LinearRegression estimator\n",
            "  self._final_estimator.fit(Xt, y, **fit_params_last_step)\n",
            "/opt/conda/lib/python3.9/site-packages/sklearn/linear_model/_coordinate_descent.py:530: UserWarning: Coordinate descent with no regularization may lead to unexpected results and is discouraged.\n",
            "  model = cd_fast.enet_coordinate_descent(\n",
            "/opt/conda/lib/python3.9/site-packages/sklearn/linear_model/_coordinate_descent.py:530: ConvergenceWarning: Objective did not converge. You might want to increase the number of iterations. Duality gap: 42653.96593932162, tolerance: 17.37313055954089\n",
            "  model = cd_fast.enet_coordinate_descent(\n",
            "/opt/conda/lib/python3.9/site-packages/sklearn/linear_model/_coordinate_descent.py:530: ConvergenceWarning: Objective did not converge. You might want to increase the number of iterations. Duality gap: 43381.556312500536, tolerance: 18.35318379928316\n",
            "  model = cd_fast.enet_coordinate_descent(\n",
            "/opt/conda/lib/python3.9/site-packages/sklearn/pipeline.py:346: UserWarning: With alpha=0, this algorithm does not converge well. You are advised to use the LinearRegression estimator\n",
            "  self._final_estimator.fit(Xt, y, **fit_params_last_step)\n",
            "/opt/conda/lib/python3.9/site-packages/sklearn/linear_model/_coordinate_descent.py:530: UserWarning: Coordinate descent with no regularization may lead to unexpected results and is discouraged.\n",
            "  model = cd_fast.enet_coordinate_descent(\n",
            "/opt/conda/lib/python3.9/site-packages/sklearn/pipeline.py:346: UserWarning: With alpha=0, this algorithm does not converge well. You are advised to use the LinearRegression estimator\n",
            "  self._final_estimator.fit(Xt, y, **fit_params_last_step)\n",
            "/opt/conda/lib/python3.9/site-packages/sklearn/linear_model/_coordinate_descent.py:530: UserWarning: Coordinate descent with no regularization may lead to unexpected results and is discouraged.\n",
            "  model = cd_fast.enet_coordinate_descent(\n",
            "/opt/conda/lib/python3.9/site-packages/sklearn/linear_model/_coordinate_descent.py:530: ConvergenceWarning: Objective did not converge. You might want to increase the number of iterations. Duality gap: 42327.14000505184, tolerance: 17.5466246594982\n",
            "  model = cd_fast.enet_coordinate_descent(\n",
            "/opt/conda/lib/python3.9/site-packages/sklearn/pipeline.py:346: UserWarning: With alpha=0, this algorithm does not converge well. You are advised to use the LinearRegression estimator\n",
            "  self._final_estimator.fit(Xt, y, **fit_params_last_step)\n",
            "/opt/conda/lib/python3.9/site-packages/sklearn/linear_model/_coordinate_descent.py:530: UserWarning: Coordinate descent with no regularization may lead to unexpected results and is discouraged.\n",
            "  model = cd_fast.enet_coordinate_descent(\n",
            "/opt/conda/lib/python3.9/site-packages/sklearn/linear_model/_coordinate_descent.py:530: ConvergenceWarning: Objective did not converge. You might want to increase the number of iterations. Duality gap: 40315.671563379845, tolerance: 17.268672022955524\n",
            "  model = cd_fast.enet_coordinate_descent(\n",
            "/opt/conda/lib/python3.9/site-packages/sklearn/pipeline.py:346: UserWarning: With alpha=0, this algorithm does not converge well. You are advised to use the LinearRegression estimator\n",
            "  self._final_estimator.fit(Xt, y, **fit_params_last_step)\n",
            "/opt/conda/lib/python3.9/site-packages/sklearn/linear_model/_coordinate_descent.py:530: UserWarning: Coordinate descent with no regularization may lead to unexpected results and is discouraged.\n",
            "  model = cd_fast.enet_coordinate_descent(\n",
            "/opt/conda/lib/python3.9/site-packages/sklearn/linear_model/_coordinate_descent.py:530: ConvergenceWarning: Objective did not converge. You might want to increase the number of iterations. Duality gap: 43212.45739433224, tolerance: 17.13267776183646\n",
            "  model = cd_fast.enet_coordinate_descent(\n",
            "/opt/conda/lib/python3.9/site-packages/sklearn/pipeline.py:346: UserWarning: With alpha=0, this algorithm does not converge well. You are advised to use the LinearRegression estimator\n",
            "  self._final_estimator.fit(Xt, y, **fit_params_last_step)\n",
            "/opt/conda/lib/python3.9/site-packages/sklearn/linear_model/_coordinate_descent.py:530: UserWarning: Coordinate descent with no regularization may lead to unexpected results and is discouraged.\n",
            "  model = cd_fast.enet_coordinate_descent(\n",
            "/opt/conda/lib/python3.9/site-packages/sklearn/linear_model/_coordinate_descent.py:530: ConvergenceWarning: Objective did not converge. You might want to increase the number of iterations. Duality gap: 42653.965939321606, tolerance: 17.37313055954089\n",
            "  model = cd_fast.enet_coordinate_descent(\n",
            "/opt/conda/lib/python3.9/site-packages/sklearn/pipeline.py:346: UserWarning: With alpha=0, this algorithm does not converge well. You are advised to use the LinearRegression estimator\n",
            "  self._final_estimator.fit(Xt, y, **fit_params_last_step)\n",
            "/opt/conda/lib/python3.9/site-packages/sklearn/linear_model/_coordinate_descent.py:530: UserWarning: Coordinate descent with no regularization may lead to unexpected results and is discouraged.\n",
            "  model = cd_fast.enet_coordinate_descent(\n",
            "/opt/conda/lib/python3.9/site-packages/sklearn/linear_model/_coordinate_descent.py:530: ConvergenceWarning: Objective did not converge. You might want to increase the number of iterations. Duality gap: 43381.55631250056, tolerance: 18.35318379928316\n",
            "  model = cd_fast.enet_coordinate_descent(\n",
            "/opt/conda/lib/python3.9/site-packages/sklearn/linear_model/_coordinate_descent.py:530: ConvergenceWarning: Objective did not converge. You might want to increase the number of iterations. Duality gap: 42327.140005051835, tolerance: 17.5466246594982\n",
            "  model = cd_fast.enet_coordinate_descent(\n"
          ]
        },
        {
          "data": {
            "text/plain": [
              "GridSearchCV(cv=5,\n",
              "             estimator=Pipeline(steps=[('prerocessor',\n",
              "                                        ColumnTransformer(transformers=[('num',\n",
              "                                                                         Pipeline(steps=[('standardscaler',\n",
              "                                                                                          StandardScaler())]),\n",
              "                                                                         ['Активная '\n",
              "                                                                          'мощность',\n",
              "                                                                          'Реактивная '\n",
              "                                                                          'мощность',\n",
              "                                                                          'Bulk '\n",
              "                                                                          '1',\n",
              "                                                                          'Bulk '\n",
              "                                                                          '2',\n",
              "                                                                          'Bulk '\n",
              "                                                                          '3',\n",
              "                                                                          'Bulk '\n",
              "                                                                          '4',\n",
              "                                                                          'Bulk '\n",
              "                                                                          '5',\n",
              "                                                                          'Bulk '\n",
              "                                                                          '6',\n",
              "                                                                          'Bulk '\n",
              "                                                                          '7',\n",
              "                                                                          'Bulk '\n",
              "                                                                          '8',\n",
              "                                                                          'Bulk '\n",
              "                                                                          '9',\n",
              "                                                                          'Bulk '\n",
              "                                                                          '10',\n",
              "                                                                          'Bulk '\n",
              "                                                                          '11',\n",
              "                                                                          'Bulk '\n",
              "                                                                          '12',\n",
              "                                                                          'Bulk '\n",
              "                                                                          '13',\n",
              "                                                                          'Bulk '\n",
              "                                                                          '14',\n",
              "                                                                          'Bulk '\n",
              "                                                                          '1...\n",
              "                                                                          '1',\n",
              "                                                                          'Wire '\n",
              "                                                                          '1',\n",
              "                                                                          'Wire '\n",
              "                                                                          '2',\n",
              "                                                                          'Wire '\n",
              "                                                                          '3',\n",
              "                                                                          'Wire '\n",
              "                                                                          '4',\n",
              "                                                                          'Wire '\n",
              "                                                                          '6',\n",
              "                                                                          'Wire '\n",
              "                                                                          '7',\n",
              "                                                                          'Wire '\n",
              "                                                                          '8',\n",
              "                                                                          'Wire '\n",
              "                                                                          '9',\n",
              "                                                                          'first_temp'])])),\n",
              "                                       ('estimator',\n",
              "                                        Lasso(random_state=130223))]),\n",
              "             n_jobs=2,\n",
              "             param_grid={'estimator__alpha': [0, 0.01, 0.02, 0.03, 0.05, 0.07,\n",
              "                                              0.1, 0.2, 0.3, 0.4, 0.5, 0.7, 1,\n",
              "                                              2, 10],\n",
              "                         'estimator__max_iter': [300, 500, 1000, 2000]},\n",
              "             scoring=make_scorer(mean_absolute_error, greater_is_better=False))"
            ]
          },
          "execution_count": 79,
          "metadata": {},
          "output_type": "execute_result"
        }
      ],
      "source": [
        "gs.fit(train_X, train_y)"
      ]
    },
    {
      "cell_type": "markdown",
      "metadata": {
        "id": "S9bdNe7DoBum"
      },
      "source": [
        "Лучшие гиперпараметры:"
      ]
    },
    {
      "cell_type": "code",
      "execution_count": null,
      "metadata": {
        "colab": {
          "base_uri": "https://localhost:8080/"
        },
        "id": "BQcj65zpnCkl",
        "outputId": "a6252d95-7b57-481b-994c-5da31f12e548"
      },
      "outputs": [
        {
          "data": {
            "text/plain": [
              "{'estimator__alpha': 0.02, 'estimator__max_iter': 300}"
            ]
          },
          "execution_count": 80,
          "metadata": {},
          "output_type": "execute_result"
        }
      ],
      "source": [
        "gs.best_params_"
      ]
    },
    {
      "cell_type": "markdown",
      "metadata": {
        "id": "BekBw-ljoGDO"
      },
      "source": [
        "Лучший результат MAE на обучающей выборке:"
      ]
    },
    {
      "cell_type": "code",
      "execution_count": null,
      "metadata": {
        "colab": {
          "base_uri": "https://localhost:8080/"
        },
        "id": "Hu6q8SD4ovLe",
        "outputId": "95e508b7-081b-4e91-95f7-fdbb392be741"
      },
      "outputs": [
        {
          "data": {
            "text/plain": [
              "6.489723665860055"
            ]
          },
          "execution_count": 81,
          "metadata": {},
          "output_type": "execute_result"
        }
      ],
      "source": [
        "-gs.best_score_"
      ]
    },
    {
      "cell_type": "markdown",
      "metadata": {
        "id": "8LkTJXQ6x8ig"
      },
      "source": [
        "Посмотрим на величины весов признаков, обучив алгоритм `Lasso` на лучших гиперпараметрах модели. Чем больше по модулю вес признака, тем он важнее:"
      ]
    },
    {
      "cell_type": "code",
      "execution_count": null,
      "metadata": {
        "colab": {
          "base_uri": "https://localhost:8080/",
          "height": 465
        },
        "id": "K2dS53y_yD8Y",
        "outputId": "fc5bddd1-0b42-45c0-952e-f2980c6e4f9c",
        "scrolled": false
      },
      "outputs": [
        {
          "data": {
            "image/png": "[encoded data removed]",
            "text/plain": [
              "<Figure size 1080x432 with 1 Axes>"
            ]
          },
          "metadata": {},
          "output_type": "display_data"
        }
      ],
      "source": [
        "model = Lasso(random_state=130223, alpha=0.02, max_iter=300)\n",
        "model.fit(StandardScaler().fit_transform(train_X), train_y)\n",
        "plt.figure(figsize=(15, 6))\n",
        "plt.bar(X, model.coef_)\n",
        "plt.xticks(rotation=45, ha='right')\n",
        "plt.grid(True)\n",
        "plt.show()"
      ]
    },
    {
      "cell_type": "markdown",
      "metadata": {
        "id": "D51cZV_GzLYo"
      },
      "source": [
        "### Градиентный бустинг from scratch"
      ]
    },
    {
      "cell_type": "markdown",
      "metadata": {
        "id": "thjxDd3m1ZMH"
      },
      "source": [
        "Алгоритм градиентного бустинга инициализируется константным предсказанием для всех наблюдений, потом считает остатки, т.е. разницу между предсказнным и истинным ответами, и с каждой последующей итерацией обучается на остатках с помощью алгоритма Дерева решений.\n",
        "\n",
        "Реализуем класс градиентного бустинга:"
      ]
    },
    {
      "cell_type": "code",
      "execution_count": null,
      "metadata": {
        "id": "f1hOx6Ww2Usy"
      },
      "outputs": [],
      "source": [
        "class MyGradientBoosting():\n",
        "    def __init__(self, lr=0.01, iters=1000, max_depth=4):\n",
        "        self.lr = lr\n",
        "        self.iters = iters\n",
        "        self.max_depth = max_depth\n",
        "        self.models_ = None\n",
        "        self.constant_prediction_ = None\n",
        "        self.MAE_ = None\n",
        "\n",
        "    def fit(self, X, y):\n",
        "        X = X.values\n",
        "        y = y.values\n",
        "        prediction = np.full((y.shape), np.mean(y)) # инициализируем модель константным предсказанием: среднее значение таргета обучающей выборки\n",
        "        models = [] # в этом списке будем хранить модели Решающего дерева\n",
        "        MAE = [] # в этом списке будем хранить значение МАЕ каждой итерации\n",
        "\n",
        "        for _ in range(self.iters):\n",
        "            residual = y - prediction # считаем остатки\n",
        "            model = DecisionTreeRegressor(max_depth=self.max_depth, random_state=130223) # инициализируем модель Решающего дерева\n",
        "            model.fit(X, residual) # обучаемся на остатках\n",
        "            prediction += model.predict(X) * self.lr # корректируем константное предсказание, компенсируя остатки\n",
        "            models.append(model) # сохраняем модель в список моделей\n",
        "            MAE.append(mean_absolute_error(y, prediction)) # сохраняем метрику МАЕ\n",
        "           \n",
        "        self.models_ = models\n",
        "        self.constant_prediction_ = np.mean(y)\n",
        "        self.MAE_ = MAE\n",
        "\n",
        "    def predict(self, X):\n",
        "        X = X.values\n",
        "        prediction = np.full((X.shape[0]), self.constant_prediction_)\n",
        "\n",
        "        for model in self.models_:\n",
        "            prediction += model.predict(X) * self.lr\n",
        "    \n",
        "        return prediction   \n"
      ]
    },
    {
      "cell_type": "markdown",
      "metadata": {
        "id": "OB1gOYeqsY6k"
      },
      "source": [
        "Инициализируем объект класса `MyGradientBoosting`:"
      ]
    },
    {
      "cell_type": "code",
      "execution_count": null,
      "metadata": {
        "id": "LEfH7dZ1sY6l"
      },
      "outputs": [],
      "source": [
        "mgb = MyGradientBoosting()"
      ]
    },
    {
      "cell_type": "markdown",
      "metadata": {
        "id": "ilx_toXYsY6l"
      },
      "source": [
        "Так как класс `MyGradientBoosting` не принадлежит библиотеке `scikit-learn` и в нем не реализован метод `get_params`, кросс-валидацию градиентного бустинга проведем с помощью `KFold`:"
      ]
    },
    {
      "cell_type": "code",
      "execution_count": null,
      "metadata": {
        "id": "esjU5vOBsY6m",
        "outputId": "0bf8c167-7c7a-4685-b2c2-6ae691217e8f"
      },
      "outputs": [
        {
          "name": "stdout",
          "output_type": "stream",
          "text": [
            "Лучший результат MAE на обучающей выборке: 5.6626366233889325\n"
          ]
        }
      ],
      "source": [
        "cv = KFold(n_splits=5)\n",
        "MAE = []\n",
        "\n",
        "for train_index, valid_index in cv.split(train_X.reset_index(drop=True)):\n",
        "    X_train, y_train = train_X.reset_index(drop=True).loc[train_index], train_y.reset_index(drop=True).loc[train_index]\n",
        "    X_valid, y_valid = train_X.reset_index(drop=True).loc[valid_index], train_y.reset_index(drop=True).loc[valid_index]\n",
        "    \n",
        "    mgb.fit(X_train, y_train)\n",
        "    pred_valid = mgb.predict(X_valid)\n",
        "    MAE.append(mean_absolute_error(y_valid, pred_valid))\n",
        "\n",
        "print(f'Лучший результат MAE на обучающей выборке: {np.min(MAE)}')"
      ]
    },
    {
      "cell_type": "markdown",
      "metadata": {
        "id": "KnQfI6RU2Wed"
      },
      "source": [
        "Визуализуем, как улучшалась метрика MAE с каждой последующей итерацией:"
      ]
    },
    {
      "cell_type": "code",
      "execution_count": null,
      "metadata": {
        "colab": {
          "base_uri": "https://localhost:8080/",
          "height": 339
        },
        "id": "_AaJqvh42lu_",
        "outputId": "f9e50b2a-d0ce-4859-caea-7c0a6f415ee8"
      },
      "outputs": [
        {
          "data": {
            "image/png": "[encoded data removed]",
            "text/plain": [
              "<Figure size 720x360 with 1 Axes>"
            ]
          },
          "metadata": {},
          "output_type": "display_data"
        }
      ],
      "source": [
        "plt.figure(figsize=(10, 5))\n",
        "plt.plot(mgb.MAE_)\n",
        "plt.grid(True)\n",
        "plt.ylabel('MAE')\n",
        "plt.xlabel('Итерации')\n",
        "plt.show()"
      ]
    },
    {
      "cell_type": "markdown",
      "metadata": {
        "id": "Tw7AezcV9CRc"
      },
      "source": [
        "### Вывод\n",
        "\n",
        "Мы обучили 2 алгоритма: линейная регрессия с регуляриацией LASSO и градиентный бустинг. Лучший результат на обучающей выборке с метрикой качества `MAE=5.66` продемонтрировал градиентный бустинг."
      ]
    },
    {
      "cell_type": "markdown",
      "metadata": {
        "id": "UA2L7kOC_WmC"
      },
      "source": [
        "MAE градиентного бустинга на тестовой выборке:"
      ]
    },
    {
      "cell_type": "code",
      "execution_count": null,
      "metadata": {
        "colab": {
          "base_uri": "https://localhost:8080/"
        },
        "id": "9mUILse0_fx7",
        "outputId": "ae7732ab-66bb-482f-96ec-f0c9c8a7b934",
        "scrolled": true
      },
      "outputs": [
        {
          "data": {
            "text/plain": [
              "6.107613408072331"
            ]
          },
          "execution_count": 87,
          "metadata": {},
          "output_type": "execute_result"
        }
      ],
      "source": [
        "mean_absolute_error(test_y, mgb.predict(test_X))"
      ]
    },
    {
      "cell_type": "markdown",
      "metadata": {
        "id": "lOKOiBufsY6u"
      },
      "source": [
        "## Отчет\n",
        "\n",
        "В ходе работы над проектом нами было сделано следующее:\n",
        "\n",
        "1. Изучены данные и распределения признаков;\n",
        "\n",
        "2. Предобработали данные из таблиц, а именно, пропуски в таблицах `data_bulc` и `data_wire` заполнили нулями, аномальные значения в таблицах `data_arc` и `data_temp` удалили или по возможности восстановили; \n",
        "\n",
        "2. Из таблицы `data_temp` взяли первое и последнее по времени измерения температуры каждой партии; те партии, для которых первое и последнее значения температуры пропущены, из выборки удалили;\n",
        "\n",
        "3. Соединили данные в один датафрейм по признаку `key` так, чтобы в одном датасете оказались те партии, которые есть во всех таблицах;\n",
        "\n",
        "4. Поделили данные на обучающую и тестовую выборки;\n",
        "\n",
        "5. Обучили алгоритм линейной регрессии с регуляризацией с помощью кросс-валидации:  лучшая метрика МАЕ на обучающей выборке  - 6.49;\n",
        "\n",
        "6. Создали класс градиентного бустинга с методами `fit` и `predict`, для которого по умолчанию установили 1 000 итераций, скорость обучения =0.01, глубину дерева =4\n",
        "\n",
        "7. С помощью кросс-валидации обучили алгоритм градиентного бустинга, получив метрику качества МАЕ на обучающей выборке - 5.66 ;\n",
        "\n",
        "Считаем, что ключевым шагом в решении постановленной задачи была подготовках данных для обучения алгоритмов, а именно: группировка по `key`, восстановление пропущенных значений, поиск и удаление аномальных значиений.\n",
        "\n",
        "Оба алгоритма обучали на следующих признаках: `['Активная мощность', 'Реактивная мощность', 'Bulk 1', 'Bulk 2', 'Bulk 3', 'Bulk 4', 'Bulk 5', 'Bulk 6', 'Bulk 7', 'Bulk 8', 'Bulk 9', 'Bulk 10', 'Bulk 11', 'Bulk 12', 'Bulk 13', 'Bulk 14', 'Bulk 15', 'Газ 1', 'Wire 1', 'Wire 2', 'Wire 3', 'Wire 4', 'Wire 6', 'Wire 7', 'Wire 8', 'Wire 9', 'first_temp']`. \n",
        "\n",
        "По нашему мнению наибольший вклад в предсказание внесли признаки `Активная мощность`, `first_temp` (первое по времени измерение температуры) и `Реактивная мощность`\n",
        "\n",
        "Итоговой моделью был выбран градиентный бустинг с МАЕ на тестовой выборке - **6.11**. Алгоритм обучали на  **1 000** итераций со скорость обучения **=0.01** и глубиной Дерева решений **=4**."
      ]
    }
  ],
  "metadata": {
    "ExecuteTimeLog": [
      {
        "duration": 1285,
        "start_time": "2023-02-14T09:39:11.454Z"
      },
      {
        "duration": 203,
        "start_time": "2023-02-14T09:39:14.721Z"
      },
      {
        "duration": 12,
        "start_time": "2023-02-14T09:39:16.113Z"
      },
      {
        "duration": 12,
        "start_time": "2023-02-14T09:39:17.368Z"
      },
      {
        "duration": 4,
        "start_time": "2023-02-14T09:39:17.760Z"
      },
      {
        "duration": 6,
        "start_time": "2023-02-14T09:39:18.075Z"
      },
      {
        "duration": 534,
        "start_time": "2023-02-14T09:39:20.281Z"
      },
      {
        "duration": 421,
        "start_time": "2023-02-14T09:39:21.560Z"
      },
      {
        "duration": 15,
        "start_time": "2023-02-14T09:39:22.320Z"
      },
      {
        "duration": 114,
        "start_time": "2023-02-14T09:39:23.006Z"
      },
      {
        "duration": 15,
        "start_time": "2023-02-14T09:39:23.328Z"
      },
      {
        "duration": 12,
        "start_time": "2023-02-14T09:39:23.649Z"
      },
      {
        "duration": 4,
        "start_time": "2023-02-14T09:39:23.801Z"
      },
      {
        "duration": 136,
        "start_time": "2023-02-14T09:39:24.136Z"
      },
      {
        "duration": 14,
        "start_time": "2023-02-14T09:39:24.453Z"
      },
      {
        "duration": 12,
        "start_time": "2023-02-14T09:39:24.787Z"
      },
      {
        "duration": 4,
        "start_time": "2023-02-14T09:39:24.951Z"
      },
      {
        "duration": 9,
        "start_time": "2023-02-14T09:39:25.287Z"
      },
      {
        "duration": 110,
        "start_time": "2023-02-14T09:39:25.951Z"
      },
      {
        "duration": 7,
        "start_time": "2023-02-14T09:39:26.295Z"
      },
      {
        "duration": 10,
        "start_time": "2023-02-14T09:39:26.640Z"
      },
      {
        "duration": 3,
        "start_time": "2023-02-14T09:39:26.815Z"
      },
      {
        "duration": 211,
        "start_time": "2023-02-14T09:39:27.161Z"
      },
      {
        "duration": 8,
        "start_time": "2023-02-14T09:39:27.510Z"
      },
      {
        "duration": 146,
        "start_time": "2023-02-14T09:39:28.210Z"
      },
      {
        "duration": 8,
        "start_time": "2023-02-14T09:39:28.684Z"
      },
      {
        "duration": 11,
        "start_time": "2023-02-14T09:39:29.263Z"
      },
      {
        "duration": 4,
        "start_time": "2023-02-14T09:39:29.529Z"
      },
      {
        "duration": 9,
        "start_time": "2023-02-14T09:39:29.730Z"
      },
      {
        "duration": 475,
        "start_time": "2023-02-14T09:39:30.083Z"
      },
      {
        "duration": 8,
        "start_time": "2023-02-14T09:39:30.936Z"
      },
      {
        "duration": 103,
        "start_time": "2023-02-14T09:39:52.097Z"
      },
      {
        "duration": 11,
        "start_time": "2023-02-14T09:39:52.705Z"
      },
      {
        "duration": 10,
        "start_time": "2023-02-14T09:39:53.355Z"
      },
      {
        "duration": 3,
        "start_time": "2023-02-14T09:39:53.673Z"
      },
      {
        "duration": 120,
        "start_time": "2023-02-14T09:39:54.260Z"
      },
      {
        "duration": 10,
        "start_time": "2023-02-14T09:39:54.811Z"
      },
      {
        "duration": 14,
        "start_time": "2023-02-14T09:39:55.401Z"
      },
      {
        "duration": 4,
        "start_time": "2023-02-14T09:39:55.691Z"
      },
      {
        "duration": 8,
        "start_time": "2023-02-14T09:39:56.229Z"
      },
      {
        "duration": 115,
        "start_time": "2023-02-14T09:53:33.800Z"
      },
      {
        "duration": 370,
        "start_time": "2023-02-14T09:53:57.058Z"
      },
      {
        "duration": 319,
        "start_time": "2023-02-14T09:54:05.863Z"
      },
      {
        "duration": 317,
        "start_time": "2023-02-14T09:54:10.922Z"
      },
      {
        "duration": 1511,
        "start_time": "2023-02-15T08:16:41.208Z"
      },
      {
        "duration": 202,
        "start_time": "2023-02-15T08:16:47.863Z"
      },
      {
        "duration": 12,
        "start_time": "2023-02-15T08:16:49.753Z"
      },
      {
        "duration": 13,
        "start_time": "2023-02-15T08:16:56.280Z"
      },
      {
        "duration": 4,
        "start_time": "2023-02-15T08:16:59.674Z"
      },
      {
        "duration": 8,
        "start_time": "2023-02-15T08:17:00.593Z"
      },
      {
        "duration": 622,
        "start_time": "2023-02-15T08:17:05.303Z"
      },
      {
        "duration": 516,
        "start_time": "2023-02-15T08:17:25.252Z"
      },
      {
        "duration": 17,
        "start_time": "2023-02-15T08:17:30.867Z"
      },
      {
        "duration": 109,
        "start_time": "2023-02-15T08:17:58.595Z"
      },
      {
        "duration": 19,
        "start_time": "2023-02-15T08:17:59.883Z"
      },
      {
        "duration": 12,
        "start_time": "2023-02-15T08:18:01.376Z"
      },
      {
        "duration": 5,
        "start_time": "2023-02-15T08:18:02.351Z"
      },
      {
        "duration": 425,
        "start_time": "2023-02-15T08:18:17.950Z"
      },
      {
        "duration": 140,
        "start_time": "2023-02-15T08:18:23.578Z"
      },
      {
        "duration": 14,
        "start_time": "2023-02-15T08:18:24.982Z"
      },
      {
        "duration": 13,
        "start_time": "2023-02-15T08:18:26.746Z"
      },
      {
        "duration": 4,
        "start_time": "2023-02-15T08:18:27.583Z"
      },
      {
        "duration": 11,
        "start_time": "2023-02-15T08:18:29.645Z"
      },
      {
        "duration": 106,
        "start_time": "2023-02-15T08:18:33.057Z"
      },
      {
        "duration": 7,
        "start_time": "2023-02-15T08:18:34.737Z"
      },
      {
        "duration": 11,
        "start_time": "2023-02-15T08:18:38.996Z"
      },
      {
        "duration": 4,
        "start_time": "2023-02-15T08:18:39.997Z"
      },
      {
        "duration": 248,
        "start_time": "2023-02-15T08:18:44.074Z"
      },
      {
        "duration": 9,
        "start_time": "2023-02-15T08:18:49.352Z"
      },
      {
        "duration": 145,
        "start_time": "2023-02-15T08:19:00.996Z"
      },
      {
        "duration": 9,
        "start_time": "2023-02-15T08:19:04.157Z"
      },
      {
        "duration": 13,
        "start_time": "2023-02-15T08:19:07.268Z"
      },
      {
        "duration": 5,
        "start_time": "2023-02-15T08:19:10.090Z"
      },
      {
        "duration": 7,
        "start_time": "2023-02-15T08:19:10.777Z"
      },
      {
        "duration": 523,
        "start_time": "2023-02-15T08:19:13.857Z"
      },
      {
        "duration": 9,
        "start_time": "2023-02-15T08:19:20.261Z"
      },
      {
        "duration": 109,
        "start_time": "2023-02-15T08:19:33.053Z"
      },
      {
        "duration": 12,
        "start_time": "2023-02-15T08:19:34.257Z"
      },
      {
        "duration": 11,
        "start_time": "2023-02-15T08:19:37.049Z"
      },
      {
        "duration": 4,
        "start_time": "2023-02-15T08:19:39.986Z"
      },
      {
        "duration": 294,
        "start_time": "2023-02-15T08:19:41.710Z"
      },
      {
        "duration": 129,
        "start_time": "2023-02-15T08:19:45.159Z"
      },
      {
        "duration": 11,
        "start_time": "2023-02-15T08:19:46.548Z"
      },
      {
        "duration": 12,
        "start_time": "2023-02-15T08:19:51.357Z"
      },
      {
        "duration": 5,
        "start_time": "2023-02-15T08:19:59.497Z"
      },
      {
        "duration": 9,
        "start_time": "2023-02-15T08:20:01.184Z"
      },
      {
        "duration": 10,
        "start_time": "2023-02-15T08:20:33.917Z"
      },
      {
        "duration": 8,
        "start_time": "2023-02-15T08:20:46.865Z"
      },
      {
        "duration": 5,
        "start_time": "2023-02-15T08:20:47.760Z"
      },
      {
        "duration": 7,
        "start_time": "2023-02-15T08:20:58.395Z"
      },
      {
        "duration": 9,
        "start_time": "2023-02-15T08:20:59.466Z"
      },
      {
        "duration": 3,
        "start_time": "2023-02-15T08:21:09.499Z"
      },
      {
        "duration": 20,
        "start_time": "2023-02-15T08:21:17.188Z"
      },
      {
        "duration": 8,
        "start_time": "2023-02-15T08:21:24.316Z"
      },
      {
        "duration": 6,
        "start_time": "2023-02-15T08:21:35.099Z"
      },
      {
        "duration": 5,
        "start_time": "2023-02-15T08:21:36.496Z"
      },
      {
        "duration": 10,
        "start_time": "2023-02-15T08:21:41.217Z"
      },
      {
        "duration": 5,
        "start_time": "2023-02-15T08:21:45.148Z"
      },
      {
        "duration": 4,
        "start_time": "2023-02-15T08:22:10.421Z"
      },
      {
        "duration": 10,
        "start_time": "2023-02-15T08:22:18.754Z"
      },
      {
        "duration": 9,
        "start_time": "2023-02-15T08:22:20.392Z"
      },
      {
        "duration": 9,
        "start_time": "2023-02-15T08:22:27.397Z"
      },
      {
        "duration": 4,
        "start_time": "2023-02-15T08:22:33.777Z"
      },
      {
        "duration": 14,
        "start_time": "2023-02-15T08:22:43.884Z"
      },
      {
        "duration": 4,
        "start_time": "2023-02-15T08:23:03.455Z"
      },
      {
        "duration": 3,
        "start_time": "2023-02-15T08:23:12.904Z"
      },
      {
        "duration": 10,
        "start_time": "2023-02-15T08:23:19.307Z"
      },
      {
        "duration": 11,
        "start_time": "2023-02-15T08:23:46.810Z"
      },
      {
        "duration": 4,
        "start_time": "2023-02-15T08:23:59.669Z"
      },
      {
        "duration": 4,
        "start_time": "2023-02-15T08:24:00.304Z"
      },
      {
        "duration": 49,
        "start_time": "2023-02-15T08:24:17.052Z"
      },
      {
        "duration": 13,
        "start_time": "2023-02-15T08:24:21.623Z"
      },
      {
        "duration": 4,
        "start_time": "2023-02-15T08:41:33.829Z"
      },
      {
        "duration": 3,
        "start_time": "2023-02-15T08:41:34.761Z"
      },
      {
        "duration": 8,
        "start_time": "2023-02-15T08:41:39.426Z"
      },
      {
        "duration": 3,
        "start_time": "2023-02-15T08:41:59.375Z"
      },
      {
        "duration": 3,
        "start_time": "2023-02-15T08:42:03.572Z"
      },
      {
        "duration": 3,
        "start_time": "2023-02-15T08:42:05.908Z"
      },
      {
        "duration": 12,
        "start_time": "2023-02-15T08:42:09.291Z"
      },
      {
        "duration": 3,
        "start_time": "2023-02-15T08:42:17.086Z"
      },
      {
        "duration": 3,
        "start_time": "2023-02-15T08:42:28.208Z"
      },
      {
        "duration": 6,
        "start_time": "2023-02-15T09:40:19.706Z"
      },
      {
        "duration": 2,
        "start_time": "2023-02-15T09:43:27.567Z"
      },
      {
        "duration": 103,
        "start_time": "2023-02-15T09:44:09.579Z"
      },
      {
        "duration": 3,
        "start_time": "2023-02-15T09:44:16.711Z"
      },
      {
        "duration": 8,
        "start_time": "2023-02-15T09:45:17.179Z"
      },
      {
        "duration": 11,
        "start_time": "2023-02-15T09:45:24.247Z"
      },
      {
        "duration": 4,
        "start_time": "2023-02-15T09:49:47.619Z"
      },
      {
        "duration": 3,
        "start_time": "2023-02-15T09:52:35.378Z"
      },
      {
        "duration": 5,
        "start_time": "2023-02-15T09:53:12.851Z"
      },
      {
        "duration": 24,
        "start_time": "2023-02-15T09:55:03.646Z"
      },
      {
        "duration": 9,
        "start_time": "2023-02-15T10:02:41.755Z"
      },
      {
        "duration": 10,
        "start_time": "2023-02-15T10:07:48.407Z"
      },
      {
        "duration": 14,
        "start_time": "2023-02-15T10:08:38.352Z"
      },
      {
        "duration": 7,
        "start_time": "2023-02-15T10:10:31.349Z"
      },
      {
        "duration": 27,
        "start_time": "2023-02-15T10:11:37.853Z"
      },
      {
        "duration": 26,
        "start_time": "2023-02-15T10:11:48.315Z"
      },
      {
        "duration": 27,
        "start_time": "2023-02-15T10:12:05.905Z"
      },
      {
        "duration": 14,
        "start_time": "2023-02-15T10:13:41.167Z"
      },
      {
        "duration": 12,
        "start_time": "2023-02-15T10:14:58.292Z"
      },
      {
        "duration": 831,
        "start_time": "2023-02-15T10:15:27.856Z"
      },
      {
        "duration": 26,
        "start_time": "2023-02-15T10:15:44.448Z"
      },
      {
        "duration": 20,
        "start_time": "2023-02-15T10:15:58.745Z"
      },
      {
        "duration": 852,
        "start_time": "2023-02-15T10:16:20.682Z"
      },
      {
        "duration": 15,
        "start_time": "2023-02-15T10:17:15.365Z"
      },
      {
        "duration": 6,
        "start_time": "2023-02-15T10:17:45.266Z"
      },
      {
        "duration": 268,
        "start_time": "2023-02-15T10:18:03.600Z"
      },
      {
        "duration": 5,
        "start_time": "2023-02-15T10:18:07.918Z"
      },
      {
        "duration": 11,
        "start_time": "2023-02-15T10:19:01.051Z"
      },
      {
        "duration": 22,
        "start_time": "2023-02-15T10:19:08.462Z"
      },
      {
        "duration": 18,
        "start_time": "2023-02-15T10:19:15.736Z"
      },
      {
        "duration": 12,
        "start_time": "2023-02-15T10:19:27.781Z"
      },
      {
        "duration": 19,
        "start_time": "2023-02-15T10:19:45.699Z"
      },
      {
        "duration": 19,
        "start_time": "2023-02-15T10:19:51.216Z"
      },
      {
        "duration": 14,
        "start_time": "2023-02-15T10:21:02.256Z"
      },
      {
        "duration": 18,
        "start_time": "2023-02-15T10:21:25.317Z"
      },
      {
        "duration": 14,
        "start_time": "2023-02-15T10:21:39.460Z"
      },
      {
        "duration": 9,
        "start_time": "2023-02-15T10:21:46.795Z"
      },
      {
        "duration": 60,
        "start_time": "2023-02-15T10:21:58.516Z"
      },
      {
        "duration": 22678,
        "start_time": "2023-02-15T10:23:04.536Z"
      },
      {
        "duration": 22253,
        "start_time": "2023-02-15T10:23:47.056Z"
      },
      {
        "duration": 22813,
        "start_time": "2023-02-15T10:24:22.275Z"
      },
      {
        "duration": 92,
        "start_time": "2023-02-15T10:26:09.252Z"
      },
      {
        "duration": 134,
        "start_time": "2023-02-15T10:26:38.777Z"
      },
      {
        "duration": 22486,
        "start_time": "2023-02-15T10:27:20.460Z"
      },
      {
        "duration": 217,
        "start_time": "2023-02-15T10:27:53.336Z"
      },
      {
        "duration": 96,
        "start_time": "2023-02-15T10:28:07.702Z"
      },
      {
        "duration": 1758,
        "start_time": "2023-02-15T19:48:41.712Z"
      },
      {
        "duration": 438,
        "start_time": "2023-02-15T19:48:43.472Z"
      },
      {
        "duration": 12,
        "start_time": "2023-02-15T19:48:43.912Z"
      },
      {
        "duration": 11,
        "start_time": "2023-02-15T19:48:43.926Z"
      },
      {
        "duration": 3,
        "start_time": "2023-02-15T19:48:43.939Z"
      },
      {
        "duration": 7,
        "start_time": "2023-02-15T19:48:43.944Z"
      },
      {
        "duration": 510,
        "start_time": "2023-02-15T19:48:43.952Z"
      },
      {
        "duration": 470,
        "start_time": "2023-02-15T19:48:44.464Z"
      },
      {
        "duration": 16,
        "start_time": "2023-02-15T19:48:44.935Z"
      },
      {
        "duration": 92,
        "start_time": "2023-02-15T19:48:44.953Z"
      },
      {
        "duration": 15,
        "start_time": "2023-02-15T19:48:45.046Z"
      },
      {
        "duration": 19,
        "start_time": "2023-02-15T19:48:45.063Z"
      },
      {
        "duration": 4,
        "start_time": "2023-02-15T19:48:45.084Z"
      },
      {
        "duration": 341,
        "start_time": "2023-02-15T19:48:45.165Z"
      },
      {
        "duration": 78,
        "start_time": "2023-02-15T19:48:45.508Z"
      },
      {
        "duration": 13,
        "start_time": "2023-02-15T19:48:45.588Z"
      },
      {
        "duration": 25,
        "start_time": "2023-02-15T19:48:45.603Z"
      },
      {
        "duration": 3,
        "start_time": "2023-02-15T19:48:45.630Z"
      },
      {
        "duration": 9,
        "start_time": "2023-02-15T19:48:45.634Z"
      },
      {
        "duration": 76,
        "start_time": "2023-02-15T19:48:45.644Z"
      },
      {
        "duration": 8,
        "start_time": "2023-02-15T19:48:45.722Z"
      },
      {
        "duration": 15,
        "start_time": "2023-02-15T19:48:45.732Z"
      },
      {
        "duration": 7,
        "start_time": "2023-02-15T19:48:45.749Z"
      },
      {
        "duration": 250,
        "start_time": "2023-02-15T19:48:45.757Z"
      },
      {
        "duration": 8,
        "start_time": "2023-02-15T19:48:46.008Z"
      },
      {
        "duration": 186,
        "start_time": "2023-02-15T19:48:46.017Z"
      },
      {
        "duration": 7,
        "start_time": "2023-02-15T19:48:46.205Z"
      },
      {
        "duration": 13,
        "start_time": "2023-02-15T19:48:46.214Z"
      },
      {
        "duration": 4,
        "start_time": "2023-02-15T19:48:46.228Z"
      },
      {
        "duration": 14,
        "start_time": "2023-02-15T19:48:46.233Z"
      },
      {
        "duration": 475,
        "start_time": "2023-02-15T19:48:46.248Z"
      },
      {
        "duration": 9,
        "start_time": "2023-02-15T19:48:46.724Z"
      },
      {
        "duration": 79,
        "start_time": "2023-02-15T19:48:46.734Z"
      },
      {
        "duration": 15,
        "start_time": "2023-02-15T19:48:46.815Z"
      },
      {
        "duration": 22,
        "start_time": "2023-02-15T19:48:46.833Z"
      },
      {
        "duration": 11,
        "start_time": "2023-02-15T19:48:46.857Z"
      },
      {
        "duration": 301,
        "start_time": "2023-02-15T19:48:46.869Z"
      },
      {
        "duration": 104,
        "start_time": "2023-02-15T19:48:47.172Z"
      },
      {
        "duration": 11,
        "start_time": "2023-02-15T19:48:47.278Z"
      },
      {
        "duration": 12,
        "start_time": "2023-02-15T19:48:47.291Z"
      },
      {
        "duration": 3,
        "start_time": "2023-02-15T19:48:47.307Z"
      },
      {
        "duration": 8,
        "start_time": "2023-02-15T19:48:47.312Z"
      },
      {
        "duration": 9,
        "start_time": "2023-02-15T19:48:47.322Z"
      },
      {
        "duration": 8,
        "start_time": "2023-02-15T19:48:47.332Z"
      },
      {
        "duration": 4,
        "start_time": "2023-02-15T19:48:47.342Z"
      },
      {
        "duration": 11,
        "start_time": "2023-02-15T19:48:47.347Z"
      },
      {
        "duration": 10,
        "start_time": "2023-02-15T19:48:47.359Z"
      },
      {
        "duration": 4,
        "start_time": "2023-02-15T19:48:47.370Z"
      },
      {
        "duration": 43,
        "start_time": "2023-02-15T19:48:47.376Z"
      },
      {
        "duration": 7,
        "start_time": "2023-02-15T19:48:47.421Z"
      },
      {
        "duration": 9,
        "start_time": "2023-02-15T19:48:47.430Z"
      },
      {
        "duration": 6,
        "start_time": "2023-02-15T19:48:47.440Z"
      },
      {
        "duration": 11,
        "start_time": "2023-02-15T19:48:47.447Z"
      },
      {
        "duration": 5,
        "start_time": "2023-02-15T19:48:47.459Z"
      },
      {
        "duration": 12,
        "start_time": "2023-02-15T19:48:47.466Z"
      },
      {
        "duration": 27,
        "start_time": "2023-02-15T19:48:47.480Z"
      },
      {
        "duration": 8,
        "start_time": "2023-02-15T19:48:47.509Z"
      },
      {
        "duration": 12,
        "start_time": "2023-02-15T19:48:47.518Z"
      },
      {
        "duration": 6,
        "start_time": "2023-02-15T19:48:47.531Z"
      },
      {
        "duration": 12,
        "start_time": "2023-02-15T19:48:47.538Z"
      },
      {
        "duration": 3,
        "start_time": "2023-02-15T19:48:47.552Z"
      },
      {
        "duration": 4,
        "start_time": "2023-02-15T19:48:47.557Z"
      },
      {
        "duration": 17,
        "start_time": "2023-02-15T19:48:47.563Z"
      },
      {
        "duration": 12,
        "start_time": "2023-02-15T19:48:47.604Z"
      },
      {
        "duration": 6,
        "start_time": "2023-02-15T19:48:47.618Z"
      },
      {
        "duration": 8,
        "start_time": "2023-02-15T19:48:47.625Z"
      },
      {
        "duration": 45,
        "start_time": "2023-02-15T19:48:47.634Z"
      },
      {
        "duration": 30,
        "start_time": "2023-02-15T19:48:47.681Z"
      },
      {
        "duration": 4907,
        "start_time": "2023-02-15T19:48:47.713Z"
      },
      {
        "duration": 4,
        "start_time": "2023-02-15T19:48:52.621Z"
      },
      {
        "duration": 10,
        "start_time": "2023-02-15T19:48:52.626Z"
      },
      {
        "duration": 26,
        "start_time": "2023-02-15T19:48:52.638Z"
      },
      {
        "duration": 3,
        "start_time": "2023-02-15T19:48:52.666Z"
      },
      {
        "duration": 7,
        "start_time": "2023-02-15T19:48:52.670Z"
      },
      {
        "duration": 11,
        "start_time": "2023-02-15T19:48:52.679Z"
      },
      {
        "duration": 16,
        "start_time": "2023-02-15T19:48:52.693Z"
      },
      {
        "duration": 3,
        "start_time": "2023-02-15T19:48:52.710Z"
      },
      {
        "duration": 5,
        "start_time": "2023-02-15T19:48:52.714Z"
      },
      {
        "duration": 7187,
        "start_time": "2023-02-15T19:48:52.720Z"
      },
      {
        "duration": 4,
        "start_time": "2023-02-15T19:48:59.909Z"
      },
      {
        "duration": 23,
        "start_time": "2023-02-15T19:48:59.914Z"
      },
      {
        "duration": 476,
        "start_time": "2023-02-15T19:48:59.939Z"
      },
      {
        "duration": 6,
        "start_time": "2023-02-15T19:49:00.417Z"
      },
      {
        "duration": 24,
        "start_time": "2023-02-15T19:49:00.425Z"
      },
      {
        "duration": 24017,
        "start_time": "2023-02-15T19:49:00.450Z"
      },
      {
        "duration": 155,
        "start_time": "2023-02-15T19:49:24.468Z"
      },
      {
        "duration": 114,
        "start_time": "2023-02-15T19:49:24.625Z"
      }
    ],
    "colab": {
      "provenance": [],
      "toc_visible": true,
      "include_colab_link": true
    },
    "kernelspec": {
      "display_name": "Python 3 (ipykernel)",
      "language": "python",
      "name": "python3"
    },
    "language_info": {
      "codemirror_mode": {
        "name": "ipython",
        "version": 3
      },
      "file_extension": ".py",
      "mimetype": "text/x-python",
      "name": "python",
      "nbconvert_exporter": "python",
      "pygments_lexer": "ipython3",
      "version": "3.9.5"
    },
    "toc": {
      "base_numbering": 1,
      "nav_menu": {},
      "number_sections": true,
      "sideBar": true,
      "skip_h1_title": true,
      "title_cell": "Table of Contents",
      "title_sidebar": "Contents",
      "toc_cell": false,
      "toc_position": {
        "height": "calc(100% - 180px)",
        "left": "10px",
        "top": "150px",
        "width": "255.391px"
      },
      "toc_section_display": true,
      "toc_window_display": false
    }
  },
  "nbformat": 4,
  "nbformat_minor": 0
}